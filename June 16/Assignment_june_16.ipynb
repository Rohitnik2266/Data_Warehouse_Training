{
 "cells": [
  {
   "cell_type": "code",
   "execution_count": 0,
   "metadata": {
    "application/vnd.databricks.v1+cell": {
     "cellMetadata": {
      "byteLimit": 2048000,
      "rowLimit": 10000
     },
     "inputWidgets": {},
     "nuid": "319b512e-5307-4476-8010-09ed9c6dcf28",
     "showTitle": false,
     "tableResultSettingsMap": {},
     "title": ""
    }
   },
   "outputs": [
    {
     "output_type": "execute_result",
     "data": {
      "text/html": [
       "\n",
       "            <div>\n",
       "                <p><b>SparkSession - hive</b></p>\n",
       "                \n",
       "        <div>\n",
       "            <p><b>SparkContext</b></p>\n",
       "\n",
       "            <p><a href=\"/?o=2342854597430550#setting/sparkui/0612-123310-2108yh11/driver-8998692448426400164\">Spark UI</a></p>\n",
       "\n",
       "            <dl>\n",
       "              <dt>Version</dt>\n",
       "                <dd><code>v3.5.0</code></dd>\n",
       "              <dt>Master</dt>\n",
       "                <dd><code>local[*, 4]</code></dd>\n",
       "              <dt>AppName</dt>\n",
       "                <dd><code>Databricks Shell</code></dd>\n",
       "            </dl>\n",
       "        </div>\n",
       "        \n",
       "            </div>\n",
       "        "
      ],
      "text/plain": [
       "<pyspark.sql.session.SparkSession at 0x7e9141ed9410>"
      ]
     },
     "execution_count": 16,
     "metadata": {},
     "output_type": "execute_result"
    }
   ],
   "source": [
    "from pyspark.sql import SparkSession\n",
    "from pyspark.sql.types import *\n",
    "from pyspark.sql.functions import *\n",
    "spark = SparkSession.builder.appName(\"Online Course Enrollments\").getOrCreate()\n",
    "spark"
   ]
  },
  {
   "cell_type": "code",
   "execution_count": 0,
   "metadata": {
    "application/vnd.databricks.v1+cell": {
     "cellMetadata": {
      "byteLimit": 2048000,
      "rowLimit": 10000
     },
     "inputWidgets": {},
     "nuid": "b7edfa9d-8ba4-4b26-a85f-b985b6d7429b",
     "showTitle": false,
     "tableResultSettingsMap": {},
     "title": ""
    }
   },
   "outputs": [
    {
     "output_type": "display_data",
     "data": {
      "text/html": [
       "<style scoped>\n",
       "  .table-result-container {\n",
       "    max-height: 300px;\n",
       "    overflow: auto;\n",
       "  }\n",
       "  table, th, td {\n",
       "    border: 1px solid black;\n",
       "    border-collapse: collapse;\n",
       "  }\n",
       "  th, td {\n",
       "    padding: 5px;\n",
       "  }\n",
       "  th {\n",
       "    text-align: left;\n",
       "  }\n",
       "</style><div class='table-result-container'><table class='table-result'><thead style='background-color: white'><tr><th>EnrollmentID</th><th>StudentName</th><th>CourseName</th><th>Category</th><th>EnrollDate</th><th>ProgressPercent</th><th>Rating</th><th>Status</th></tr></thead><tbody><tr><td>ENR001</td><td>Aditya</td><td>Python for Beginners</td><td>Programming</td><td>2024-05-10</td><td>80</td><td>4.5</td><td>Active</td></tr><tr><td>ENR002</td><td>Simran</td><td>Data Analysis with Excel</td><td>Analytics</td><td>2024-05-12</td><td>100</td><td>4.7</td><td>Completed</td></tr><tr><td>ENR003</td><td>Aakash</td><td>Power BI Essentials</td><td>Analytics</td><td>2024-05-13</td><td>30</td><td>3.8</td><td>Active</td></tr><tr><td>ENR004</td><td>Neha</td><td>Java Basics</td><td>Programming</td><td>2024-05-15</td><td>0</td><td>null</td><td>Inactive</td></tr><tr><td>ENR005</td><td>Zara</td><td>Machine Learning 101</td><td>AI</td><td>2024-05-17</td><td>60</td><td>4.2</td><td>Active</td></tr><tr><td>ENR006</td><td>Ibrahim</td><td>Python for Beginners</td><td>Programming</td><td>2024-05-18</td><td>90</td><td>4.6</td><td>Completed</td></tr></tbody></table></div>"
      ]
     },
     "metadata": {
      "application/vnd.databricks.v1+output": {
       "addedWidgets": {},
       "aggData": [],
       "aggError": "",
       "aggOverflow": false,
       "aggSchema": [],
       "aggSeriesLimitReached": false,
       "aggType": "",
       "arguments": {},
       "columnCustomDisplayInfos": {},
       "data": [
        [
         "ENR001",
         "Aditya",
         "Python for Beginners",
         "Programming",
         "2024-05-10",
         80,
         4.5,
         "Active"
        ],
        [
         "ENR002",
         "Simran",
         "Data Analysis with Excel",
         "Analytics",
         "2024-05-12",
         100,
         4.7,
         "Completed"
        ],
        [
         "ENR003",
         "Aakash",
         "Power BI Essentials",
         "Analytics",
         "2024-05-13",
         30,
         3.8,
         "Active"
        ],
        [
         "ENR004",
         "Neha",
         "Java Basics",
         "Programming",
         "2024-05-15",
         0,
         null,
         "Inactive"
        ],
        [
         "ENR005",
         "Zara",
         "Machine Learning 101",
         "AI",
         "2024-05-17",
         60,
         4.2,
         "Active"
        ],
        [
         "ENR006",
         "Ibrahim",
         "Python for Beginners",
         "Programming",
         "2024-05-18",
         90,
         4.6,
         "Completed"
        ]
       ],
       "datasetInfos": [],
       "dbfsResultPath": null,
       "isJsonSchema": true,
       "metadata": {},
       "overflow": false,
       "plotOptions": {
        "customPlotOptions": {},
        "displayType": "table",
        "pivotAggregation": null,
        "pivotColumns": null,
        "xColumns": null,
        "yColumns": null
       },
       "removedWidgets": [],
       "schema": [
        {
         "metadata": "{}",
         "name": "EnrollmentID",
         "type": "\"string\""
        },
        {
         "metadata": "{}",
         "name": "StudentName",
         "type": "\"string\""
        },
        {
         "metadata": "{}",
         "name": "CourseName",
         "type": "\"string\""
        },
        {
         "metadata": "{}",
         "name": "Category",
         "type": "\"string\""
        },
        {
         "metadata": "{\"__detected_date_formats\":\"yyyy-M-d\"}",
         "name": "EnrollDate",
         "type": "\"date\""
        },
        {
         "metadata": "{}",
         "name": "ProgressPercent",
         "type": "\"integer\""
        },
        {
         "metadata": "{}",
         "name": "Rating",
         "type": "\"double\""
        },
        {
         "metadata": "{}",
         "name": "Status",
         "type": "\"string\""
        }
       ],
       "type": "table"
      }
     },
     "output_type": "display_data"
    }
   ],
   "source": [
    "df_infer = spark.read.csv(\"dbfs:/FileStore/shared_uploads/azuser3559_mml.local@techademy.com/course_enrollments-1.csv\", header=True, inferSchema=True)\n",
    "df_infer.display()\n"
   ]
  },
  {
   "cell_type": "code",
   "execution_count": 0,
   "metadata": {
    "application/vnd.databricks.v1+cell": {
     "cellMetadata": {
      "byteLimit": 2048000,
      "rowLimit": 10000
     },
     "inputWidgets": {},
     "nuid": "cc61061b-0caf-4555-860a-0f8b1b181bc2",
     "showTitle": false,
     "tableResultSettingsMap": {},
     "title": ""
    }
   },
   "outputs": [
    {
     "output_type": "display_data",
     "data": {
      "text/html": [
       "<style scoped>\n",
       "  .table-result-container {\n",
       "    max-height: 300px;\n",
       "    overflow: auto;\n",
       "  }\n",
       "  table, th, td {\n",
       "    border: 1px solid black;\n",
       "    border-collapse: collapse;\n",
       "  }\n",
       "  th, td {\n",
       "    padding: 5px;\n",
       "  }\n",
       "  th {\n",
       "    text-align: left;\n",
       "  }\n",
       "</style><div class='table-result-container'><table class='table-result'><thead style='background-color: white'><tr><th>EnrollmentID</th><th>StudentName</th><th>CourseName</th><th>Category</th><th>EnrollDate</th><th>ProgressPercent</th><th>Rating</th><th>Status</th></tr></thead><tbody><tr><td>ENR001</td><td>Aditya</td><td>Python for Beginners</td><td>Programming</td><td>2024-05-10</td><td>80</td><td>4.5</td><td>Active</td></tr><tr><td>ENR002</td><td>Simran</td><td>Data Analysis with Excel</td><td>Analytics</td><td>2024-05-12</td><td>100</td><td>4.7</td><td>Completed</td></tr><tr><td>ENR003</td><td>Aakash</td><td>Power BI Essentials</td><td>Analytics</td><td>2024-05-13</td><td>30</td><td>3.8</td><td>Active</td></tr><tr><td>ENR004</td><td>Neha</td><td>Java Basics</td><td>Programming</td><td>2024-05-15</td><td>0</td><td>null</td><td>Inactive</td></tr><tr><td>ENR005</td><td>Zara</td><td>Machine Learning 101</td><td>AI</td><td>2024-05-17</td><td>60</td><td>4.2</td><td>Active</td></tr><tr><td>ENR006</td><td>Ibrahim</td><td>Python for Beginners</td><td>Programming</td><td>2024-05-18</td><td>90</td><td>4.6</td><td>Completed</td></tr></tbody></table></div>"
      ]
     },
     "metadata": {
      "application/vnd.databricks.v1+output": {
       "addedWidgets": {},
       "aggData": [],
       "aggError": "",
       "aggOverflow": false,
       "aggSchema": [],
       "aggSeriesLimitReached": false,
       "aggType": "",
       "arguments": {},
       "columnCustomDisplayInfos": {},
       "data": [
        [
         "ENR001",
         "Aditya",
         "Python for Beginners",
         "Programming",
         "2024-05-10",
         80,
         4.5,
         "Active"
        ],
        [
         "ENR002",
         "Simran",
         "Data Analysis with Excel",
         "Analytics",
         "2024-05-12",
         100,
         4.7,
         "Completed"
        ],
        [
         "ENR003",
         "Aakash",
         "Power BI Essentials",
         "Analytics",
         "2024-05-13",
         30,
         3.8,
         "Active"
        ],
        [
         "ENR004",
         "Neha",
         "Java Basics",
         "Programming",
         "2024-05-15",
         0,
         null,
         "Inactive"
        ],
        [
         "ENR005",
         "Zara",
         "Machine Learning 101",
         "AI",
         "2024-05-17",
         60,
         4.2,
         "Active"
        ],
        [
         "ENR006",
         "Ibrahim",
         "Python for Beginners",
         "Programming",
         "2024-05-18",
         90,
         4.6,
         "Completed"
        ]
       ],
       "datasetInfos": [],
       "dbfsResultPath": null,
       "isJsonSchema": true,
       "metadata": {},
       "overflow": false,
       "plotOptions": {
        "customPlotOptions": {},
        "displayType": "table",
        "pivotAggregation": null,
        "pivotColumns": null,
        "xColumns": null,
        "yColumns": null
       },
       "removedWidgets": [],
       "schema": [
        {
         "metadata": "{}",
         "name": "EnrollmentID",
         "type": "\"string\""
        },
        {
         "metadata": "{}",
         "name": "StudentName",
         "type": "\"string\""
        },
        {
         "metadata": "{}",
         "name": "CourseName",
         "type": "\"string\""
        },
        {
         "metadata": "{}",
         "name": "Category",
         "type": "\"string\""
        },
        {
         "metadata": "{}",
         "name": "EnrollDate",
         "type": "\"date\""
        },
        {
         "metadata": "{}",
         "name": "ProgressPercent",
         "type": "\"integer\""
        },
        {
         "metadata": "{}",
         "name": "Rating",
         "type": "\"double\""
        },
        {
         "metadata": "{}",
         "name": "Status",
         "type": "\"string\""
        }
       ],
       "type": "table"
      }
     },
     "output_type": "display_data"
    }
   ],
   "source": [
    "manual_schema = StructType([\n",
    "    StructField(\"EnrollmentID\", StringType(), True),\n",
    "    StructField(\"StudentName\", StringType(), True),\n",
    "    StructField(\"CourseName\", StringType(), True),\n",
    "    StructField(\"Category\", StringType(), True),\n",
    "    StructField(\"EnrollDate\", DateType(), True),\n",
    "    StructField(\"ProgressPercent\", IntegerType(), True),\n",
    "    StructField(\"Rating\", DoubleType(), True),\n",
    "    StructField(\"Status\", StringType(), True)\n",
    "])\n",
    "\n",
    "df_manual = spark.read.csv(\"dbfs:/FileStore/shared_uploads/azuser3559_mml.local@techademy.com/course_enrollments-1.csv\", header=True, schema=manual_schema)\n",
    "df_manual.display()\n",
    "\n"
   ]
  },
  {
   "cell_type": "code",
   "execution_count": 0,
   "metadata": {
    "application/vnd.databricks.v1+cell": {
     "cellMetadata": {
      "byteLimit": 2048000,
      "rowLimit": 10000
     },
     "inputWidgets": {},
     "nuid": "a2622883-cf89-4204-8d90-3846dd2b92c3",
     "showTitle": false,
     "tableResultSettingsMap": {},
     "title": ""
    }
   },
   "outputs": [
    {
     "output_type": "display_data",
     "data": {
      "text/html": [
       "<style scoped>\n",
       "  .table-result-container {\n",
       "    max-height: 300px;\n",
       "    overflow: auto;\n",
       "  }\n",
       "  table, th, td {\n",
       "    border: 1px solid black;\n",
       "    border-collapse: collapse;\n",
       "  }\n",
       "  th, td {\n",
       "    padding: 5px;\n",
       "  }\n",
       "  th {\n",
       "    text-align: left;\n",
       "  }\n",
       "</style><div class='table-result-container'><table class='table-result'><thead style='background-color: white'><tr><th>EnrollmentID</th><th>StudentName</th><th>CourseName</th><th>Category</th><th>EnrollDate</th><th>ProgressPercent</th><th>Rating</th><th>Status</th></tr></thead><tbody><tr><td>ENR003</td><td>Aakash</td><td>Power BI Essentials</td><td>Analytics</td><td>2024-05-13</td><td>30</td><td>3.8</td><td>Active</td></tr><tr><td>ENR004</td><td>Neha</td><td>Java Basics</td><td>Programming</td><td>2024-05-15</td><td>0</td><td>null</td><td>Inactive</td></tr></tbody></table></div>"
      ]
     },
     "metadata": {
      "application/vnd.databricks.v1+output": {
       "addedWidgets": {},
       "aggData": [],
       "aggError": "",
       "aggOverflow": false,
       "aggSchema": [],
       "aggSeriesLimitReached": false,
       "aggType": "",
       "arguments": {},
       "columnCustomDisplayInfos": {},
       "data": [
        [
         "ENR003",
         "Aakash",
         "Power BI Essentials",
         "Analytics",
         "2024-05-13",
         30,
         3.8,
         "Active"
        ],
        [
         "ENR004",
         "Neha",
         "Java Basics",
         "Programming",
         "2024-05-15",
         0,
         null,
         "Inactive"
        ]
       ],
       "datasetInfos": [],
       "dbfsResultPath": null,
       "isJsonSchema": true,
       "metadata": {},
       "overflow": false,
       "plotOptions": {
        "customPlotOptions": {},
        "displayType": "table",
        "pivotAggregation": null,
        "pivotColumns": null,
        "xColumns": null,
        "yColumns": null
       },
       "removedWidgets": [],
       "schema": [
        {
         "metadata": "{}",
         "name": "EnrollmentID",
         "type": "\"string\""
        },
        {
         "metadata": "{}",
         "name": "StudentName",
         "type": "\"string\""
        },
        {
         "metadata": "{}",
         "name": "CourseName",
         "type": "\"string\""
        },
        {
         "metadata": "{}",
         "name": "Category",
         "type": "\"string\""
        },
        {
         "metadata": "{\"__detected_date_formats\":\"yyyy-M-d\"}",
         "name": "EnrollDate",
         "type": "\"date\""
        },
        {
         "metadata": "{}",
         "name": "ProgressPercent",
         "type": "\"integer\""
        },
        {
         "metadata": "{}",
         "name": "Rating",
         "type": "\"double\""
        },
        {
         "metadata": "{}",
         "name": "Status",
         "type": "\"string\""
        }
       ],
       "type": "table"
      }
     },
     "output_type": "display_data"
    }
   ],
   "source": [
    "df_pp = df_infer.filter(df_infer['ProgressPercent'] < 50)\n",
    "df_pp.display()"
   ]
  },
  {
   "cell_type": "code",
   "execution_count": 0,
   "metadata": {
    "application/vnd.databricks.v1+cell": {
     "cellMetadata": {
      "byteLimit": 2048000,
      "rowLimit": 10000
     },
     "inputWidgets": {},
     "nuid": "9663d9ef-9ca2-4190-bfd2-4e7cbe3e45cc",
     "showTitle": false,
     "tableResultSettingsMap": {},
     "title": ""
    }
   },
   "outputs": [
    {
     "output_type": "display_data",
     "data": {
      "text/html": [
       "<style scoped>\n",
       "  .table-result-container {\n",
       "    max-height: 300px;\n",
       "    overflow: auto;\n",
       "  }\n",
       "  table, th, td {\n",
       "    border: 1px solid black;\n",
       "    border-collapse: collapse;\n",
       "  }\n",
       "  th, td {\n",
       "    padding: 5px;\n",
       "  }\n",
       "  th {\n",
       "    text-align: left;\n",
       "  }\n",
       "</style><div class='table-result-container'><table class='table-result'><thead style='background-color: white'><tr><th>EnrollmentID</th><th>StudentName</th><th>CourseName</th><th>Category</th><th>EnrollDate</th><th>ProgressPercent</th><th>Rating</th><th>Status</th></tr></thead><tbody><tr><td>ENR004</td><td>Neha</td><td>Java Basics</td><td>Programming</td><td>2024-05-15</td><td>0</td><td>null</td><td>Inactive</td></tr></tbody></table></div>"
      ]
     },
     "metadata": {
      "application/vnd.databricks.v1+output": {
       "addedWidgets": {},
       "aggData": [],
       "aggError": "",
       "aggOverflow": false,
       "aggSchema": [],
       "aggSeriesLimitReached": false,
       "aggType": "",
       "arguments": {},
       "columnCustomDisplayInfos": {},
       "data": [
        [
         "ENR004",
         "Neha",
         "Java Basics",
         "Programming",
         "2024-05-15",
         0,
         null,
         "Inactive"
        ]
       ],
       "datasetInfos": [],
       "dbfsResultPath": null,
       "isJsonSchema": true,
       "metadata": {},
       "overflow": false,
       "plotOptions": {
        "customPlotOptions": {},
        "displayType": "table",
        "pivotAggregation": null,
        "pivotColumns": null,
        "xColumns": null,
        "yColumns": null
       },
       "removedWidgets": [],
       "schema": [
        {
         "metadata": "{}",
         "name": "EnrollmentID",
         "type": "\"string\""
        },
        {
         "metadata": "{}",
         "name": "StudentName",
         "type": "\"string\""
        },
        {
         "metadata": "{}",
         "name": "CourseName",
         "type": "\"string\""
        },
        {
         "metadata": "{}",
         "name": "Category",
         "type": "\"string\""
        },
        {
         "metadata": "{\"__detected_date_formats\":\"yyyy-M-d\"}",
         "name": "EnrollDate",
         "type": "\"date\""
        },
        {
         "metadata": "{}",
         "name": "ProgressPercent",
         "type": "\"integer\""
        },
        {
         "metadata": "{}",
         "name": "Rating",
         "type": "\"double\""
        },
        {
         "metadata": "{}",
         "name": "Status",
         "type": "\"string\""
        }
       ],
       "type": "table"
      }
     },
     "output_type": "display_data"
    },
    {
     "output_type": "display_data",
     "data": {
      "text/html": [
       "<style scoped>\n",
       "  .table-result-container {\n",
       "    max-height: 300px;\n",
       "    overflow: auto;\n",
       "  }\n",
       "  table, th, td {\n",
       "    border: 1px solid black;\n",
       "    border-collapse: collapse;\n",
       "  }\n",
       "  th, td {\n",
       "    padding: 5px;\n",
       "  }\n",
       "  th {\n",
       "    text-align: left;\n",
       "  }\n",
       "</style><div class='table-result-container'><table class='table-result'><thead style='background-color: white'><tr><th>EnrollmentID</th><th>StudentName</th><th>CourseName</th><th>Category</th><th>EnrollDate</th><th>ProgressPercent</th><th>Rating</th><th>Status</th></tr></thead><tbody><tr><td>ENR001</td><td>Aditya</td><td>Python for Beginners</td><td>Programming</td><td>2024-05-10</td><td>80</td><td>4.5</td><td>Active</td></tr><tr><td>ENR002</td><td>Simran</td><td>Data Analysis with Excel</td><td>Analytics</td><td>2024-05-12</td><td>100</td><td>4.7</td><td>Completed</td></tr><tr><td>ENR003</td><td>Aakash</td><td>Power BI Essentials</td><td>Analytics</td><td>2024-05-13</td><td>30</td><td>3.8</td><td>Active</td></tr><tr><td>ENR004</td><td>Neha</td><td>Java Basics</td><td>Programming</td><td>2024-05-15</td><td>0</td><td>4.359999999999999</td><td>Inactive</td></tr><tr><td>ENR005</td><td>Zara</td><td>Machine Learning 101</td><td>AI</td><td>2024-05-17</td><td>60</td><td>4.2</td><td>Active</td></tr><tr><td>ENR006</td><td>Ibrahim</td><td>Python for Beginners</td><td>Programming</td><td>2024-05-18</td><td>90</td><td>4.6</td><td>Completed</td></tr></tbody></table></div>"
      ]
     },
     "metadata": {
      "application/vnd.databricks.v1+output": {
       "addedWidgets": {},
       "aggData": [],
       "aggError": "",
       "aggOverflow": false,
       "aggSchema": [],
       "aggSeriesLimitReached": false,
       "aggType": "",
       "arguments": {},
       "columnCustomDisplayInfos": {},
       "data": [
        [
         "ENR001",
         "Aditya",
         "Python for Beginners",
         "Programming",
         "2024-05-10",
         80,
         4.5,
         "Active"
        ],
        [
         "ENR002",
         "Simran",
         "Data Analysis with Excel",
         "Analytics",
         "2024-05-12",
         100,
         4.7,
         "Completed"
        ],
        [
         "ENR003",
         "Aakash",
         "Power BI Essentials",
         "Analytics",
         "2024-05-13",
         30,
         3.8,
         "Active"
        ],
        [
         "ENR004",
         "Neha",
         "Java Basics",
         "Programming",
         "2024-05-15",
         0,
         4.359999999999999,
         "Inactive"
        ],
        [
         "ENR005",
         "Zara",
         "Machine Learning 101",
         "AI",
         "2024-05-17",
         60,
         4.2,
         "Active"
        ],
        [
         "ENR006",
         "Ibrahim",
         "Python for Beginners",
         "Programming",
         "2024-05-18",
         90,
         4.6,
         "Completed"
        ]
       ],
       "datasetInfos": [],
       "dbfsResultPath": null,
       "isJsonSchema": true,
       "metadata": {},
       "overflow": false,
       "plotOptions": {
        "customPlotOptions": {},
        "displayType": "table",
        "pivotAggregation": null,
        "pivotColumns": null,
        "xColumns": null,
        "yColumns": null
       },
       "removedWidgets": [],
       "schema": [
        {
         "metadata": "{}",
         "name": "EnrollmentID",
         "type": "\"string\""
        },
        {
         "metadata": "{}",
         "name": "StudentName",
         "type": "\"string\""
        },
        {
         "metadata": "{}",
         "name": "CourseName",
         "type": "\"string\""
        },
        {
         "metadata": "{}",
         "name": "Category",
         "type": "\"string\""
        },
        {
         "metadata": "{\"__detected_date_formats\":\"yyyy-M-d\"}",
         "name": "EnrollDate",
         "type": "\"date\""
        },
        {
         "metadata": "{}",
         "name": "ProgressPercent",
         "type": "\"integer\""
        },
        {
         "metadata": "{}",
         "name": "Rating",
         "type": "\"double\""
        },
        {
         "metadata": "{}",
         "name": "Status",
         "type": "\"string\""
        }
       ],
       "type": "table"
      }
     },
     "output_type": "display_data"
    }
   ],
   "source": [
    "df_null = df_infer.filter(df_infer['Rating'].isNull())\n",
    "df_null.display()\n",
    "avg_rating = df_infer.select(avg(\"Rating\")).first()[0]\n",
    "df_filled = df_infer.withColumn(\"Rating\", when(col(\"Rating\").isNull(), avg_rating).otherwise(col(\"Rating\")))\n",
    "df_filled.display()"
   ]
  },
  {
   "cell_type": "code",
   "execution_count": 0,
   "metadata": {
    "application/vnd.databricks.v1+cell": {
     "cellMetadata": {
      "byteLimit": 2048000,
      "rowLimit": 10000
     },
     "inputWidgets": {},
     "nuid": "9340b344-09d5-43d5-b6e2-ff56fea77bc1",
     "showTitle": false,
     "tableResultSettingsMap": {},
     "title": ""
    }
   },
   "outputs": [
    {
     "output_type": "display_data",
     "data": {
      "text/html": [
       "<style scoped>\n",
       "  .table-result-container {\n",
       "    max-height: 300px;\n",
       "    overflow: auto;\n",
       "  }\n",
       "  table, th, td {\n",
       "    border: 1px solid black;\n",
       "    border-collapse: collapse;\n",
       "  }\n",
       "  th, td {\n",
       "    padding: 5px;\n",
       "  }\n",
       "  th {\n",
       "    text-align: left;\n",
       "  }\n",
       "</style><div class='table-result-container'><table class='table-result'><thead style='background-color: white'><tr><th>EnrollmentID</th><th>StudentName</th><th>CourseName</th><th>Category</th><th>EnrollDate</th><th>ProgressPercent</th><th>Rating</th><th>Status</th></tr></thead><tbody><tr><td>ENR001</td><td>Aditya</td><td>Python for Beginners</td><td>Programming</td><td>2024-05-10</td><td>80</td><td>4.5</td><td>1</td></tr><tr><td>ENR002</td><td>Simran</td><td>Data Analysis with Excel</td><td>Analytics</td><td>2024-05-12</td><td>100</td><td>4.7</td><td>0</td></tr><tr><td>ENR003</td><td>Aakash</td><td>Power BI Essentials</td><td>Analytics</td><td>2024-05-13</td><td>30</td><td>3.8</td><td>1</td></tr><tr><td>ENR004</td><td>Neha</td><td>Java Basics</td><td>Programming</td><td>2024-05-15</td><td>0</td><td>null</td><td>0</td></tr><tr><td>ENR005</td><td>Zara</td><td>Machine Learning 101</td><td>AI</td><td>2024-05-17</td><td>60</td><td>4.2</td><td>1</td></tr><tr><td>ENR006</td><td>Ibrahim</td><td>Python for Beginners</td><td>Programming</td><td>2024-05-18</td><td>90</td><td>4.6</td><td>0</td></tr></tbody></table></div>"
      ]
     },
     "metadata": {
      "application/vnd.databricks.v1+output": {
       "addedWidgets": {},
       "aggData": [],
       "aggError": "",
       "aggOverflow": false,
       "aggSchema": [],
       "aggSeriesLimitReached": false,
       "aggType": "",
       "arguments": {},
       "columnCustomDisplayInfos": {},
       "data": [
        [
         "ENR001",
         "Aditya",
         "Python for Beginners",
         "Programming",
         "2024-05-10",
         80,
         4.5,
         1
        ],
        [
         "ENR002",
         "Simran",
         "Data Analysis with Excel",
         "Analytics",
         "2024-05-12",
         100,
         4.7,
         0
        ],
        [
         "ENR003",
         "Aakash",
         "Power BI Essentials",
         "Analytics",
         "2024-05-13",
         30,
         3.8,
         1
        ],
        [
         "ENR004",
         "Neha",
         "Java Basics",
         "Programming",
         "2024-05-15",
         0,
         null,
         0
        ],
        [
         "ENR005",
         "Zara",
         "Machine Learning 101",
         "AI",
         "2024-05-17",
         60,
         4.2,
         1
        ],
        [
         "ENR006",
         "Ibrahim",
         "Python for Beginners",
         "Programming",
         "2024-05-18",
         90,
         4.6,
         0
        ]
       ],
       "datasetInfos": [],
       "dbfsResultPath": null,
       "isJsonSchema": true,
       "metadata": {},
       "overflow": false,
       "plotOptions": {
        "customPlotOptions": {},
        "displayType": "table",
        "pivotAggregation": null,
        "pivotColumns": null,
        "xColumns": null,
        "yColumns": null
       },
       "removedWidgets": [],
       "schema": [
        {
         "metadata": "{}",
         "name": "EnrollmentID",
         "type": "\"string\""
        },
        {
         "metadata": "{}",
         "name": "StudentName",
         "type": "\"string\""
        },
        {
         "metadata": "{}",
         "name": "CourseName",
         "type": "\"string\""
        },
        {
         "metadata": "{}",
         "name": "Category",
         "type": "\"string\""
        },
        {
         "metadata": "{\"__detected_date_formats\":\"yyyy-M-d\"}",
         "name": "EnrollDate",
         "type": "\"date\""
        },
        {
         "metadata": "{}",
         "name": "ProgressPercent",
         "type": "\"integer\""
        },
        {
         "metadata": "{}",
         "name": "Rating",
         "type": "\"double\""
        },
        {
         "metadata": "{}",
         "name": "Status",
         "type": "\"integer\""
        }
       ],
       "type": "table"
      }
     },
     "output_type": "display_data"
    }
   ],
   "source": [
    "df_status = df_infer.withColumn(\"Status\", when(col(\"Status\") == \"Active\",1).otherwise(0))\n",
    "df_status.display()"
   ]
  },
  {
   "cell_type": "code",
   "execution_count": 0,
   "metadata": {
    "application/vnd.databricks.v1+cell": {
     "cellMetadata": {
      "byteLimit": 2048000,
      "rowLimit": 10000
     },
     "inputWidgets": {},
     "nuid": "ece69330-6049-4642-b3c3-f4fa66958304",
     "showTitle": false,
     "tableResultSettingsMap": {},
     "title": ""
    }
   },
   "outputs": [
    {
     "output_type": "display_data",
     "data": {
      "text/html": [
       "<style scoped>\n",
       "  .table-result-container {\n",
       "    max-height: 300px;\n",
       "    overflow: auto;\n",
       "  }\n",
       "  table, th, td {\n",
       "    border: 1px solid black;\n",
       "    border-collapse: collapse;\n",
       "  }\n",
       "  th, td {\n",
       "    padding: 5px;\n",
       "  }\n",
       "  th {\n",
       "    text-align: left;\n",
       "  }\n",
       "</style><div class='table-result-container'><table class='table-result'><thead style='background-color: white'><tr><th>CourseName</th><th>AvgProgress</th></tr></thead><tbody><tr><td>Data Analysis with Excel</td><td>100.0</td></tr><tr><td>Java Basics</td><td>0.0</td></tr><tr><td>Machine Learning 101</td><td>60.0</td></tr><tr><td>Python for Beginners</td><td>85.0</td></tr><tr><td>Power BI Essentials</td><td>30.0</td></tr></tbody></table></div>"
      ]
     },
     "metadata": {
      "application/vnd.databricks.v1+output": {
       "addedWidgets": {},
       "aggData": [],
       "aggError": "",
       "aggOverflow": false,
       "aggSchema": [],
       "aggSeriesLimitReached": false,
       "aggType": "",
       "arguments": {},
       "columnCustomDisplayInfos": {},
       "data": [
        [
         "Data Analysis with Excel",
         100.0
        ],
        [
         "Java Basics",
         0.0
        ],
        [
         "Machine Learning 101",
         60.0
        ],
        [
         "Python for Beginners",
         85.0
        ],
        [
         "Power BI Essentials",
         30.0
        ]
       ],
       "datasetInfos": [],
       "dbfsResultPath": null,
       "isJsonSchema": true,
       "metadata": {},
       "overflow": false,
       "plotOptions": {
        "customPlotOptions": {},
        "displayType": "table",
        "pivotAggregation": null,
        "pivotColumns": null,
        "xColumns": null,
        "yColumns": null
       },
       "removedWidgets": [],
       "schema": [
        {
         "metadata": "{}",
         "name": "CourseName",
         "type": "\"string\""
        },
        {
         "metadata": "{}",
         "name": "AvgProgress",
         "type": "\"double\""
        }
       ],
       "type": "table"
      }
     },
     "output_type": "display_data"
    }
   ],
   "source": [
    "df_progress = df_infer.groupBy(\"CourseName\").agg(avg(\"ProgressPercent\").alias(\"AvgProgress\"))\n",
    "df_progress.display()"
   ]
  },
  {
   "cell_type": "code",
   "execution_count": 0,
   "metadata": {
    "application/vnd.databricks.v1+cell": {
     "cellMetadata": {
      "byteLimit": 2048000,
      "rowLimit": 10000
     },
     "inputWidgets": {},
     "nuid": "63e9c440-925e-485c-94b1-4d3e37494701",
     "showTitle": false,
     "tableResultSettingsMap": {},
     "title": ""
    }
   },
   "outputs": [
    {
     "output_type": "display_data",
     "data": {
      "text/html": [
       "<style scoped>\n",
       "  .table-result-container {\n",
       "    max-height: 300px;\n",
       "    overflow: auto;\n",
       "  }\n",
       "  table, th, td {\n",
       "    border: 1px solid black;\n",
       "    border-collapse: collapse;\n",
       "  }\n",
       "  th, td {\n",
       "    padding: 5px;\n",
       "  }\n",
       "  th {\n",
       "    text-align: left;\n",
       "  }\n",
       "</style><div class='table-result-container'><table class='table-result'><thead style='background-color: white'><tr><th>Category</th><th>Student Count</th></tr></thead><tbody><tr><td>Programming</td><td>3</td></tr><tr><td>AI</td><td>1</td></tr><tr><td>Analytics</td><td>2</td></tr></tbody></table></div>"
      ]
     },
     "metadata": {
      "application/vnd.databricks.v1+output": {
       "addedWidgets": {},
       "aggData": [],
       "aggError": "",
       "aggOverflow": false,
       "aggSchema": [],
       "aggSeriesLimitReached": false,
       "aggType": "",
       "arguments": {},
       "columnCustomDisplayInfos": {},
       "data": [
        [
         "Programming",
         3
        ],
        [
         "AI",
         1
        ],
        [
         "Analytics",
         2
        ]
       ],
       "datasetInfos": [],
       "dbfsResultPath": null,
       "isJsonSchema": true,
       "metadata": {},
       "overflow": false,
       "plotOptions": {
        "customPlotOptions": {},
        "displayType": "table",
        "pivotAggregation": null,
        "pivotColumns": null,
        "xColumns": null,
        "yColumns": null
       },
       "removedWidgets": [],
       "schema": [
        {
         "metadata": "{}",
         "name": "Category",
         "type": "\"string\""
        },
        {
         "metadata": "{}",
         "name": "Student Count",
         "type": "\"long\""
        }
       ],
       "type": "table"
      }
     },
     "output_type": "display_data"
    }
   ],
   "source": [
    "df_count = df_infer.groupBy(\"Category\").count().withColumnRenamed(\"count\", \"Student Count\")\n",
    "df_count.display()"
   ]
  },
  {
   "cell_type": "code",
   "execution_count": 0,
   "metadata": {
    "application/vnd.databricks.v1+cell": {
     "cellMetadata": {
      "byteLimit": 2048000,
      "rowLimit": 10000
     },
     "inputWidgets": {},
     "nuid": "bd777743-d4b3-43dd-b9a5-08c262d5bae2",
     "showTitle": false,
     "tableResultSettingsMap": {},
     "title": ""
    }
   },
   "outputs": [
    {
     "output_type": "display_data",
     "data": {
      "text/html": [
       "<style scoped>\n",
       "  .table-result-container {\n",
       "    max-height: 300px;\n",
       "    overflow: auto;\n",
       "  }\n",
       "  table, th, td {\n",
       "    border: 1px solid black;\n",
       "    border-collapse: collapse;\n",
       "  }\n",
       "  th, td {\n",
       "    padding: 5px;\n",
       "  }\n",
       "  th {\n",
       "    text-align: left;\n",
       "  }\n",
       "</style><div class='table-result-container'><table class='table-result'><thead style='background-color: white'><tr><th>CourseName</th><th>count</th></tr></thead><tbody><tr><td>Python for Beginners</td><td>2</td></tr></tbody></table></div>"
      ]
     },
     "metadata": {
      "application/vnd.databricks.v1+output": {
       "addedWidgets": {},
       "aggData": [],
       "aggError": "",
       "aggOverflow": false,
       "aggSchema": [],
       "aggSeriesLimitReached": false,
       "aggType": "",
       "arguments": {},
       "columnCustomDisplayInfos": {},
       "data": [
        [
         "Python for Beginners",
         2
        ]
       ],
       "datasetInfos": [],
       "dbfsResultPath": null,
       "isJsonSchema": true,
       "metadata": {},
       "overflow": false,
       "plotOptions": {
        "customPlotOptions": {},
        "displayType": "table",
        "pivotAggregation": null,
        "pivotColumns": null,
        "xColumns": null,
        "yColumns": null
       },
       "removedWidgets": [],
       "schema": [
        {
         "metadata": "{}",
         "name": "CourseName",
         "type": "\"string\""
        },
        {
         "metadata": "{}",
         "name": "count",
         "type": "\"long\""
        }
       ],
       "type": "table"
      }
     },
     "output_type": "display_data"
    }
   ],
   "source": [
    "df_most = df_infer.groupBy(\"CourseName\").count().orderBy(desc(\"count\")).limit(1)\n",
    "df_most.display()"
   ]
  },
  {
   "cell_type": "code",
   "execution_count": 0,
   "metadata": {
    "application/vnd.databricks.v1+cell": {
     "cellMetadata": {
      "byteLimit": 2048000,
      "rowLimit": 10000
     },
     "inputWidgets": {},
     "nuid": "0028fb21-e2d9-490e-befc-93c5c7e4ff1a",
     "showTitle": false,
     "tableResultSettingsMap": {},
     "title": ""
    }
   },
   "outputs": [
    {
     "output_type": "display_data",
     "data": {
      "text/html": [
       "<style scoped>\n",
       "  .table-result-container {\n",
       "    max-height: 300px;\n",
       "    overflow: auto;\n",
       "  }\n",
       "  table, th, td {\n",
       "    border: 1px solid black;\n",
       "    border-collapse: collapse;\n",
       "  }\n",
       "  th, td {\n",
       "    padding: 5px;\n",
       "  }\n",
       "  th {\n",
       "    text-align: left;\n",
       "  }\n",
       "</style><div class='table-result-container'><table class='table-result'><thead style='background-color: white'><tr><th>CourseName</th><th>DurationWeeks</th><th>Instructor</th></tr></thead><tbody><tr><td>Python for Beginners</td><td>4</td><td>Rakesh</td></tr><tr><td>Data Analysis with Excel</td><td>3</td><td>Anjali</td></tr><tr><td>Power BI Essentials</td><td>5</td><td>Rekha</td></tr><tr><td>Java Basics</td><td>6</td><td>Manoj</td></tr><tr><td>Machine Learning 101</td><td>8</td><td>Samir</td></tr></tbody></table></div>"
      ]
     },
     "metadata": {
      "application/vnd.databricks.v1+output": {
       "addedWidgets": {},
       "aggData": [],
       "aggError": "",
       "aggOverflow": false,
       "aggSchema": [],
       "aggSeriesLimitReached": false,
       "aggType": "",
       "arguments": {},
       "columnCustomDisplayInfos": {},
       "data": [
        [
         "Python for Beginners",
         4,
         "Rakesh"
        ],
        [
         "Data Analysis with Excel",
         3,
         "Anjali"
        ],
        [
         "Power BI Essentials",
         5,
         "Rekha"
        ],
        [
         "Java Basics",
         6,
         "Manoj"
        ],
        [
         "Machine Learning 101",
         8,
         "Samir"
        ]
       ],
       "datasetInfos": [],
       "dbfsResultPath": null,
       "isJsonSchema": true,
       "metadata": {},
       "overflow": false,
       "plotOptions": {
        "customPlotOptions": {},
        "displayType": "table",
        "pivotAggregation": null,
        "pivotColumns": null,
        "xColumns": null,
        "yColumns": null
       },
       "removedWidgets": [],
       "schema": [
        {
         "metadata": "{}",
         "name": "CourseName",
         "type": "\"string\""
        },
        {
         "metadata": "{}",
         "name": "DurationWeeks",
         "type": "\"integer\""
        },
        {
         "metadata": "{}",
         "name": "Instructor",
         "type": "\"string\""
        }
       ],
       "type": "table"
      }
     },
     "output_type": "display_data"
    }
   ],
   "source": [
    "df_infer1 = spark.read.csv(\"dbfs:/FileStore/shared_uploads/azuser3559_mml.local@techademy.com/course_details.csv\", header=True, inferSchema=True)\n",
    "df_infer1.display()\n"
   ]
  },
  {
   "cell_type": "code",
   "execution_count": 0,
   "metadata": {
    "application/vnd.databricks.v1+cell": {
     "cellMetadata": {
      "byteLimit": 2048000,
      "rowLimit": 10000
     },
     "inputWidgets": {},
     "nuid": "c12fa58f-9f1a-4ac5-8be0-3c95ba528f45",
     "showTitle": false,
     "tableResultSettingsMap": {},
     "title": ""
    }
   },
   "outputs": [
    {
     "output_type": "display_data",
     "data": {
      "text/html": [
       "<style scoped>\n",
       "  .table-result-container {\n",
       "    max-height: 300px;\n",
       "    overflow: auto;\n",
       "  }\n",
       "  table, th, td {\n",
       "    border: 1px solid black;\n",
       "    border-collapse: collapse;\n",
       "  }\n",
       "  th, td {\n",
       "    padding: 5px;\n",
       "  }\n",
       "  th {\n",
       "    text-align: left;\n",
       "  }\n",
       "</style><div class='table-result-container'><table class='table-result'><thead style='background-color: white'><tr><th>CourseName</th><th>EnrollmentID</th><th>StudentName</th><th>Category</th><th>EnrollDate</th><th>ProgressPercent</th><th>Rating</th><th>Status</th><th>DurationWeeks</th><th>Instructor</th></tr></thead><tbody><tr><td>Python for Beginners</td><td>ENR001</td><td>Aditya</td><td>Programming</td><td>2024-05-10</td><td>80</td><td>4.5</td><td>Active</td><td>4</td><td>Rakesh</td></tr><tr><td>Data Analysis with Excel</td><td>ENR002</td><td>Simran</td><td>Analytics</td><td>2024-05-12</td><td>100</td><td>4.7</td><td>Completed</td><td>3</td><td>Anjali</td></tr><tr><td>Power BI Essentials</td><td>ENR003</td><td>Aakash</td><td>Analytics</td><td>2024-05-13</td><td>30</td><td>3.8</td><td>Active</td><td>5</td><td>Rekha</td></tr><tr><td>Java Basics</td><td>ENR004</td><td>Neha</td><td>Programming</td><td>2024-05-15</td><td>0</td><td>null</td><td>Inactive</td><td>6</td><td>Manoj</td></tr><tr><td>Machine Learning 101</td><td>ENR005</td><td>Zara</td><td>AI</td><td>2024-05-17</td><td>60</td><td>4.2</td><td>Active</td><td>8</td><td>Samir</td></tr><tr><td>Python for Beginners</td><td>ENR006</td><td>Ibrahim</td><td>Programming</td><td>2024-05-18</td><td>90</td><td>4.6</td><td>Completed</td><td>4</td><td>Rakesh</td></tr></tbody></table></div>"
      ]
     },
     "metadata": {
      "application/vnd.databricks.v1+output": {
       "addedWidgets": {},
       "aggData": [],
       "aggError": "",
       "aggOverflow": false,
       "aggSchema": [],
       "aggSeriesLimitReached": false,
       "aggType": "",
       "arguments": {},
       "columnCustomDisplayInfos": {},
       "data": [
        [
         "Python for Beginners",
         "ENR001",
         "Aditya",
         "Programming",
         "2024-05-10",
         80,
         4.5,
         "Active",
         4,
         "Rakesh"
        ],
        [
         "Data Analysis with Excel",
         "ENR002",
         "Simran",
         "Analytics",
         "2024-05-12",
         100,
         4.7,
         "Completed",
         3,
         "Anjali"
        ],
        [
         "Power BI Essentials",
         "ENR003",
         "Aakash",
         "Analytics",
         "2024-05-13",
         30,
         3.8,
         "Active",
         5,
         "Rekha"
        ],
        [
         "Java Basics",
         "ENR004",
         "Neha",
         "Programming",
         "2024-05-15",
         0,
         null,
         "Inactive",
         6,
         "Manoj"
        ],
        [
         "Machine Learning 101",
         "ENR005",
         "Zara",
         "AI",
         "2024-05-17",
         60,
         4.2,
         "Active",
         8,
         "Samir"
        ],
        [
         "Python for Beginners",
         "ENR006",
         "Ibrahim",
         "Programming",
         "2024-05-18",
         90,
         4.6,
         "Completed",
         4,
         "Rakesh"
        ]
       ],
       "datasetInfos": [],
       "dbfsResultPath": null,
       "isJsonSchema": true,
       "metadata": {},
       "overflow": false,
       "plotOptions": {
        "customPlotOptions": {},
        "displayType": "table",
        "pivotAggregation": null,
        "pivotColumns": null,
        "xColumns": null,
        "yColumns": null
       },
       "removedWidgets": [],
       "schema": [
        {
         "metadata": "{}",
         "name": "CourseName",
         "type": "\"string\""
        },
        {
         "metadata": "{}",
         "name": "EnrollmentID",
         "type": "\"string\""
        },
        {
         "metadata": "{}",
         "name": "StudentName",
         "type": "\"string\""
        },
        {
         "metadata": "{}",
         "name": "Category",
         "type": "\"string\""
        },
        {
         "metadata": "{\"__detected_date_formats\":\"yyyy-M-d\"}",
         "name": "EnrollDate",
         "type": "\"date\""
        },
        {
         "metadata": "{}",
         "name": "ProgressPercent",
         "type": "\"integer\""
        },
        {
         "metadata": "{}",
         "name": "Rating",
         "type": "\"double\""
        },
        {
         "metadata": "{}",
         "name": "Status",
         "type": "\"string\""
        },
        {
         "metadata": "{}",
         "name": "DurationWeeks",
         "type": "\"integer\""
        },
        {
         "metadata": "{}",
         "name": "Instructor",
         "type": "\"string\""
        }
       ],
       "type": "table"
      }
     },
     "output_type": "display_data"
    }
   ],
   "source": [
    "df_join = df_infer.join(df_infer1, on = \"CourseName\", how = \"left\")\n",
    "df_join.display()"
   ]
  },
  {
   "cell_type": "code",
   "execution_count": 0,
   "metadata": {
    "application/vnd.databricks.v1+cell": {
     "cellMetadata": {
      "byteLimit": 2048000,
      "rowLimit": 10000
     },
     "inputWidgets": {},
     "nuid": "ea758ac3-f576-4c3e-a1af-af3399057a57",
     "showTitle": false,
     "tableResultSettingsMap": {},
     "title": ""
    }
   },
   "outputs": [
    {
     "output_type": "display_data",
     "data": {
      "text/html": [
       "<style scoped>\n",
       "  .table-result-container {\n",
       "    max-height: 300px;\n",
       "    overflow: auto;\n",
       "  }\n",
       "  table, th, td {\n",
       "    border: 1px solid black;\n",
       "    border-collapse: collapse;\n",
       "  }\n",
       "  th, td {\n",
       "    padding: 5px;\n",
       "  }\n",
       "  th {\n",
       "    text-align: left;\n",
       "  }\n",
       "</style><div class='table-result-container'><table class='table-result'><thead style='background-color: white'><tr><th>CourseName</th><th>EnrollmentID</th><th>StudentName</th><th>Category</th><th>EnrollDate</th><th>ProgressPercent</th><th>Rating</th><th>Status</th><th>DurationWeeks</th><th>Instructor</th><th>Rank</th></tr></thead><tbody><tr><td>Data Analysis with Excel</td><td>ENR002</td><td>Simran</td><td>Analytics</td><td>2024-05-12</td><td>100</td><td>4.7</td><td>Completed</td><td>3</td><td>Anjali</td><td>1</td></tr><tr><td>Java Basics</td><td>ENR004</td><td>Neha</td><td>Programming</td><td>2024-05-15</td><td>0</td><td>null</td><td>Inactive</td><td>6</td><td>Manoj</td><td>1</td></tr><tr><td>Machine Learning 101</td><td>ENR005</td><td>Zara</td><td>AI</td><td>2024-05-17</td><td>60</td><td>4.2</td><td>Active</td><td>8</td><td>Samir</td><td>1</td></tr><tr><td>Power BI Essentials</td><td>ENR003</td><td>Aakash</td><td>Analytics</td><td>2024-05-13</td><td>30</td><td>3.8</td><td>Active</td><td>5</td><td>Rekha</td><td>1</td></tr><tr><td>Python for Beginners</td><td>ENR006</td><td>Ibrahim</td><td>Programming</td><td>2024-05-18</td><td>90</td><td>4.6</td><td>Completed</td><td>4</td><td>Rakesh</td><td>1</td></tr><tr><td>Python for Beginners</td><td>ENR001</td><td>Aditya</td><td>Programming</td><td>2024-05-10</td><td>80</td><td>4.5</td><td>Active</td><td>4</td><td>Rakesh</td><td>2</td></tr></tbody></table></div>"
      ]
     },
     "metadata": {
      "application/vnd.databricks.v1+output": {
       "addedWidgets": {},
       "aggData": [],
       "aggError": "",
       "aggOverflow": false,
       "aggSchema": [],
       "aggSeriesLimitReached": false,
       "aggType": "",
       "arguments": {},
       "columnCustomDisplayInfos": {},
       "data": [
        [
         "Data Analysis with Excel",
         "ENR002",
         "Simran",
         "Analytics",
         "2024-05-12",
         100,
         4.7,
         "Completed",
         3,
         "Anjali",
         1
        ],
        [
         "Java Basics",
         "ENR004",
         "Neha",
         "Programming",
         "2024-05-15",
         0,
         null,
         "Inactive",
         6,
         "Manoj",
         1
        ],
        [
         "Machine Learning 101",
         "ENR005",
         "Zara",
         "AI",
         "2024-05-17",
         60,
         4.2,
         "Active",
         8,
         "Samir",
         1
        ],
        [
         "Power BI Essentials",
         "ENR003",
         "Aakash",
         "Analytics",
         "2024-05-13",
         30,
         3.8,
         "Active",
         5,
         "Rekha",
         1
        ],
        [
         "Python for Beginners",
         "ENR006",
         "Ibrahim",
         "Programming",
         "2024-05-18",
         90,
         4.6,
         "Completed",
         4,
         "Rakesh",
         1
        ],
        [
         "Python for Beginners",
         "ENR001",
         "Aditya",
         "Programming",
         "2024-05-10",
         80,
         4.5,
         "Active",
         4,
         "Rakesh",
         2
        ]
       ],
       "datasetInfos": [],
       "dbfsResultPath": null,
       "isJsonSchema": true,
       "metadata": {},
       "overflow": false,
       "plotOptions": {
        "customPlotOptions": {},
        "displayType": "table",
        "pivotAggregation": null,
        "pivotColumns": null,
        "xColumns": null,
        "yColumns": null
       },
       "removedWidgets": [],
       "schema": [
        {
         "metadata": "{}",
         "name": "CourseName",
         "type": "\"string\""
        },
        {
         "metadata": "{}",
         "name": "EnrollmentID",
         "type": "\"string\""
        },
        {
         "metadata": "{}",
         "name": "StudentName",
         "type": "\"string\""
        },
        {
         "metadata": "{}",
         "name": "Category",
         "type": "\"string\""
        },
        {
         "metadata": "{\"__detected_date_formats\":\"yyyy-M-d\"}",
         "name": "EnrollDate",
         "type": "\"date\""
        },
        {
         "metadata": "{}",
         "name": "ProgressPercent",
         "type": "\"integer\""
        },
        {
         "metadata": "{}",
         "name": "Rating",
         "type": "\"double\""
        },
        {
         "metadata": "{}",
         "name": "Status",
         "type": "\"string\""
        },
        {
         "metadata": "{}",
         "name": "DurationWeeks",
         "type": "\"integer\""
        },
        {
         "metadata": "{}",
         "name": "Instructor",
         "type": "\"string\""
        },
        {
         "metadata": "{}",
         "name": "Rank",
         "type": "\"integer\""
        }
       ],
       "type": "table"
      }
     },
     "output_type": "display_data"
    }
   ],
   "source": [
    "from pyspark.sql.window import Window\n",
    "\n",
    "window = Window.partitionBy(\"CourseName\").orderBy(col(\"ProgressPercent\").desc())\n",
    "\n",
    "df_rank = df_join.withColumn(\"Rank\", rank().over(window))\n",
    "df_rank.display()\n"
   ]
  },
  {
   "cell_type": "code",
   "execution_count": 0,
   "metadata": {
    "application/vnd.databricks.v1+cell": {
     "cellMetadata": {
      "byteLimit": 2048000,
      "rowLimit": 10000
     },
     "inputWidgets": {},
     "nuid": "af69a4cf-f901-41e0-94c1-5b0b505e1a43",
     "showTitle": false,
     "tableResultSettingsMap": {},
     "title": ""
    }
   },
   "outputs": [
    {
     "output_type": "display_data",
     "data": {
      "text/html": [
       "<style scoped>\n",
       "  .table-result-container {\n",
       "    max-height: 300px;\n",
       "    overflow: auto;\n",
       "  }\n",
       "  table, th, td {\n",
       "    border: 1px solid black;\n",
       "    border-collapse: collapse;\n",
       "  }\n",
       "  th, td {\n",
       "    padding: 5px;\n",
       "  }\n",
       "  th {\n",
       "    text-align: left;\n",
       "  }\n",
       "</style><div class='table-result-container'><table class='table-result'><thead style='background-color: white'><tr><th>CourseName</th><th>EnrollmentID</th><th>StudentName</th><th>Category</th><th>EnrollDate</th><th>ProgressPercent</th><th>Rating</th><th>Status</th><th>DurationWeeks</th><th>Instructor</th><th>NextEnrollDate</th><th>PrevEnrollDate</th></tr></thead><tbody><tr><td>Machine Learning 101</td><td>ENR005</td><td>Zara</td><td>AI</td><td>2024-05-17</td><td>60</td><td>4.2</td><td>Active</td><td>8</td><td>Samir</td><td>null</td><td>null</td></tr><tr><td>Data Analysis with Excel</td><td>ENR002</td><td>Simran</td><td>Analytics</td><td>2024-05-12</td><td>100</td><td>4.7</td><td>Completed</td><td>3</td><td>Anjali</td><td>2024-05-13</td><td>null</td></tr><tr><td>Power BI Essentials</td><td>ENR003</td><td>Aakash</td><td>Analytics</td><td>2024-05-13</td><td>30</td><td>3.8</td><td>Active</td><td>5</td><td>Rekha</td><td>null</td><td>2024-05-12</td></tr><tr><td>Python for Beginners</td><td>ENR001</td><td>Aditya</td><td>Programming</td><td>2024-05-10</td><td>80</td><td>4.5</td><td>Active</td><td>4</td><td>Rakesh</td><td>2024-05-15</td><td>null</td></tr><tr><td>Java Basics</td><td>ENR004</td><td>Neha</td><td>Programming</td><td>2024-05-15</td><td>0</td><td>null</td><td>Inactive</td><td>6</td><td>Manoj</td><td>2024-05-18</td><td>2024-05-10</td></tr><tr><td>Python for Beginners</td><td>ENR006</td><td>Ibrahim</td><td>Programming</td><td>2024-05-18</td><td>90</td><td>4.6</td><td>Completed</td><td>4</td><td>Rakesh</td><td>null</td><td>2024-05-15</td></tr></tbody></table></div>"
      ]
     },
     "metadata": {
      "application/vnd.databricks.v1+output": {
       "addedWidgets": {},
       "aggData": [],
       "aggError": "",
       "aggOverflow": false,
       "aggSchema": [],
       "aggSeriesLimitReached": false,
       "aggType": "",
       "arguments": {},
       "columnCustomDisplayInfos": {},
       "data": [
        [
         "Machine Learning 101",
         "ENR005",
         "Zara",
         "AI",
         "2024-05-17",
         60,
         4.2,
         "Active",
         8,
         "Samir",
         null,
         null
        ],
        [
         "Data Analysis with Excel",
         "ENR002",
         "Simran",
         "Analytics",
         "2024-05-12",
         100,
         4.7,
         "Completed",
         3,
         "Anjali",
         "2024-05-13",
         null
        ],
        [
         "Power BI Essentials",
         "ENR003",
         "Aakash",
         "Analytics",
         "2024-05-13",
         30,
         3.8,
         "Active",
         5,
         "Rekha",
         null,
         "2024-05-12"
        ],
        [
         "Python for Beginners",
         "ENR001",
         "Aditya",
         "Programming",
         "2024-05-10",
         80,
         4.5,
         "Active",
         4,
         "Rakesh",
         "2024-05-15",
         null
        ],
        [
         "Java Basics",
         "ENR004",
         "Neha",
         "Programming",
         "2024-05-15",
         0,
         null,
         "Inactive",
         6,
         "Manoj",
         "2024-05-18",
         "2024-05-10"
        ],
        [
         "Python for Beginners",
         "ENR006",
         "Ibrahim",
         "Programming",
         "2024-05-18",
         90,
         4.6,
         "Completed",
         4,
         "Rakesh",
         null,
         "2024-05-15"
        ]
       ],
       "datasetInfos": [],
       "dbfsResultPath": null,
       "isJsonSchema": true,
       "metadata": {},
       "overflow": false,
       "plotOptions": {
        "customPlotOptions": {},
        "displayType": "table",
        "pivotAggregation": null,
        "pivotColumns": null,
        "xColumns": null,
        "yColumns": null
       },
       "removedWidgets": [],
       "schema": [
        {
         "metadata": "{}",
         "name": "CourseName",
         "type": "\"string\""
        },
        {
         "metadata": "{}",
         "name": "EnrollmentID",
         "type": "\"string\""
        },
        {
         "metadata": "{}",
         "name": "StudentName",
         "type": "\"string\""
        },
        {
         "metadata": "{}",
         "name": "Category",
         "type": "\"string\""
        },
        {
         "metadata": "{\"__detected_date_formats\":\"yyyy-M-d\"}",
         "name": "EnrollDate",
         "type": "\"date\""
        },
        {
         "metadata": "{}",
         "name": "ProgressPercent",
         "type": "\"integer\""
        },
        {
         "metadata": "{}",
         "name": "Rating",
         "type": "\"double\""
        },
        {
         "metadata": "{}",
         "name": "Status",
         "type": "\"string\""
        },
        {
         "metadata": "{}",
         "name": "DurationWeeks",
         "type": "\"integer\""
        },
        {
         "metadata": "{}",
         "name": "Instructor",
         "type": "\"string\""
        },
        {
         "metadata": "{}",
         "name": "NextEnrollDate",
         "type": "\"date\""
        },
        {
         "metadata": "{}",
         "name": "PrevEnrollDate",
         "type": "\"date\""
        }
       ],
       "type": "table"
      }
     },
     "output_type": "display_data"
    }
   ],
   "source": [
    "date_window = Window.partitionBy(\"Category\").orderBy(\"EnrollDate\")\n",
    "\n",
    "df_dates = df_join.withColumn(\"NextEnrollDate\", lead(\"EnrollDate\").over(date_window)) \\\n",
    "                    .withColumn(\"PrevEnrollDate\", lag(\"EnrollDate\").over(date_window))\n",
    "df_dates.display()"
   ]
  },
  {
   "cell_type": "code",
   "execution_count": 0,
   "metadata": {
    "application/vnd.databricks.v1+cell": {
     "cellMetadata": {
      "byteLimit": 2048000,
      "rowLimit": 10000
     },
     "inputWidgets": {},
     "nuid": "26879972-9342-4567-bbae-c6d668c4bd26",
     "showTitle": false,
     "tableResultSettingsMap": {},
     "title": ""
    }
   },
   "outputs": [
    {
     "output_type": "display_data",
     "data": {
      "text/html": [
       "<style scoped>\n",
       "  .table-result-container {\n",
       "    max-height: 300px;\n",
       "    overflow: auto;\n",
       "  }\n",
       "  table, th, td {\n",
       "    border: 1px solid black;\n",
       "    border-collapse: collapse;\n",
       "  }\n",
       "  th, td {\n",
       "    padding: 5px;\n",
       "  }\n",
       "  th {\n",
       "    text-align: left;\n",
       "  }\n",
       "</style><div class='table-result-container'><table class='table-result'><thead style='background-color: white'><tr><th>Category</th><th>Active</th><th>Completed</th><th>Inactive</th></tr></thead><tbody><tr><td>Programming</td><td>1</td><td>1</td><td>1</td></tr><tr><td>AI</td><td>1</td><td>null</td><td>null</td></tr><tr><td>Analytics</td><td>1</td><td>1</td><td>null</td></tr></tbody></table></div>"
      ]
     },
     "metadata": {
      "application/vnd.databricks.v1+output": {
       "addedWidgets": {},
       "aggData": [],
       "aggError": "",
       "aggOverflow": false,
       "aggSchema": [],
       "aggSeriesLimitReached": false,
       "aggType": "",
       "arguments": {},
       "columnCustomDisplayInfos": {},
       "data": [
        [
         "Programming",
         1,
         1,
         1
        ],
        [
         "AI",
         1,
         null,
         null
        ],
        [
         "Analytics",
         1,
         1,
         null
        ]
       ],
       "datasetInfos": [],
       "dbfsResultPath": null,
       "isJsonSchema": true,
       "metadata": {},
       "overflow": false,
       "plotOptions": {
        "customPlotOptions": {},
        "displayType": "table",
        "pivotAggregation": null,
        "pivotColumns": null,
        "xColumns": null,
        "yColumns": null
       },
       "removedWidgets": [],
       "schema": [
        {
         "metadata": "{}",
         "name": "Category",
         "type": "\"string\""
        },
        {
         "metadata": "{}",
         "name": "Active",
         "type": "\"long\""
        },
        {
         "metadata": "{}",
         "name": "Completed",
         "type": "\"long\""
        },
        {
         "metadata": "{}",
         "name": "Inactive",
         "type": "\"long\""
        }
       ],
       "type": "table"
      }
     },
     "output_type": "display_data"
    }
   ],
   "source": [
    "df_pivot = df_join.groupBy(\"Category\").pivot(\"Status\").count()\n",
    "df_pivot.display()"
   ]
  },
  {
   "cell_type": "code",
   "execution_count": 0,
   "metadata": {
    "application/vnd.databricks.v1+cell": {
     "cellMetadata": {
      "byteLimit": 2048000,
      "rowLimit": 10000
     },
     "inputWidgets": {},
     "nuid": "cb665aae-5355-49e3-96dc-fb9b196bb599",
     "showTitle": false,
     "tableResultSettingsMap": {},
     "title": ""
    }
   },
   "outputs": [
    {
     "output_type": "display_data",
     "data": {
      "text/html": [
       "<style scoped>\n",
       "  .table-result-container {\n",
       "    max-height: 300px;\n",
       "    overflow: auto;\n",
       "  }\n",
       "  table, th, td {\n",
       "    border: 1px solid black;\n",
       "    border-collapse: collapse;\n",
       "  }\n",
       "  th, td {\n",
       "    padding: 5px;\n",
       "  }\n",
       "  th {\n",
       "    text-align: left;\n",
       "  }\n",
       "</style><div class='table-result-container'><table class='table-result'><thead style='background-color: white'><tr><th>CourseName</th><th>EnrollmentID</th><th>StudentName</th><th>Category</th><th>EnrollDate</th><th>ProgressPercent</th><th>Rating</th><th>Status</th><th>DurationWeeks</th><th>Instructor</th><th>NextEnrollDate</th><th>PrevEnrollDate</th><th>EnrollYear</th><th>EnrollMonth</th></tr></thead><tbody><tr><td>Machine Learning 101</td><td>ENR005</td><td>Zara</td><td>AI</td><td>2024-05-17</td><td>60</td><td>4.2</td><td>Active</td><td>8</td><td>Samir</td><td>null</td><td>null</td><td>2024</td><td>5</td></tr><tr><td>Data Analysis with Excel</td><td>ENR002</td><td>Simran</td><td>Analytics</td><td>2024-05-12</td><td>100</td><td>4.7</td><td>Completed</td><td>3</td><td>Anjali</td><td>2024-05-13</td><td>null</td><td>2024</td><td>5</td></tr><tr><td>Power BI Essentials</td><td>ENR003</td><td>Aakash</td><td>Analytics</td><td>2024-05-13</td><td>30</td><td>3.8</td><td>Active</td><td>5</td><td>Rekha</td><td>null</td><td>2024-05-12</td><td>2024</td><td>5</td></tr><tr><td>Python for Beginners</td><td>ENR001</td><td>Aditya</td><td>Programming</td><td>2024-05-10</td><td>80</td><td>4.5</td><td>Active</td><td>4</td><td>Rakesh</td><td>2024-05-15</td><td>null</td><td>2024</td><td>5</td></tr><tr><td>Java Basics</td><td>ENR004</td><td>Neha</td><td>Programming</td><td>2024-05-15</td><td>0</td><td>null</td><td>Inactive</td><td>6</td><td>Manoj</td><td>2024-05-18</td><td>2024-05-10</td><td>2024</td><td>5</td></tr><tr><td>Python for Beginners</td><td>ENR006</td><td>Ibrahim</td><td>Programming</td><td>2024-05-18</td><td>90</td><td>4.6</td><td>Completed</td><td>4</td><td>Rakesh</td><td>null</td><td>2024-05-15</td><td>2024</td><td>5</td></tr></tbody></table></div>"
      ]
     },
     "metadata": {
      "application/vnd.databricks.v1+output": {
       "addedWidgets": {},
       "aggData": [],
       "aggError": "",
       "aggOverflow": false,
       "aggSchema": [],
       "aggSeriesLimitReached": false,
       "aggType": "",
       "arguments": {},
       "columnCustomDisplayInfos": {},
       "data": [
        [
         "Machine Learning 101",
         "ENR005",
         "Zara",
         "AI",
         "2024-05-17",
         60,
         4.2,
         "Active",
         8,
         "Samir",
         null,
         null,
         2024,
         5
        ],
        [
         "Data Analysis with Excel",
         "ENR002",
         "Simran",
         "Analytics",
         "2024-05-12",
         100,
         4.7,
         "Completed",
         3,
         "Anjali",
         "2024-05-13",
         null,
         2024,
         5
        ],
        [
         "Power BI Essentials",
         "ENR003",
         "Aakash",
         "Analytics",
         "2024-05-13",
         30,
         3.8,
         "Active",
         5,
         "Rekha",
         null,
         "2024-05-12",
         2024,
         5
        ],
        [
         "Python for Beginners",
         "ENR001",
         "Aditya",
         "Programming",
         "2024-05-10",
         80,
         4.5,
         "Active",
         4,
         "Rakesh",
         "2024-05-15",
         null,
         2024,
         5
        ],
        [
         "Java Basics",
         "ENR004",
         "Neha",
         "Programming",
         "2024-05-15",
         0,
         null,
         "Inactive",
         6,
         "Manoj",
         "2024-05-18",
         "2024-05-10",
         2024,
         5
        ],
        [
         "Python for Beginners",
         "ENR006",
         "Ibrahim",
         "Programming",
         "2024-05-18",
         90,
         4.6,
         "Completed",
         4,
         "Rakesh",
         null,
         "2024-05-15",
         2024,
         5
        ]
       ],
       "datasetInfos": [],
       "dbfsResultPath": null,
       "isJsonSchema": true,
       "metadata": {},
       "overflow": false,
       "plotOptions": {
        "customPlotOptions": {},
        "displayType": "table",
        "pivotAggregation": null,
        "pivotColumns": null,
        "xColumns": null,
        "yColumns": null
       },
       "removedWidgets": [],
       "schema": [
        {
         "metadata": "{}",
         "name": "CourseName",
         "type": "\"string\""
        },
        {
         "metadata": "{}",
         "name": "EnrollmentID",
         "type": "\"string\""
        },
        {
         "metadata": "{}",
         "name": "StudentName",
         "type": "\"string\""
        },
        {
         "metadata": "{}",
         "name": "Category",
         "type": "\"string\""
        },
        {
         "metadata": "{\"__detected_date_formats\":\"yyyy-M-d\"}",
         "name": "EnrollDate",
         "type": "\"date\""
        },
        {
         "metadata": "{}",
         "name": "ProgressPercent",
         "type": "\"integer\""
        },
        {
         "metadata": "{}",
         "name": "Rating",
         "type": "\"double\""
        },
        {
         "metadata": "{}",
         "name": "Status",
         "type": "\"string\""
        },
        {
         "metadata": "{}",
         "name": "DurationWeeks",
         "type": "\"integer\""
        },
        {
         "metadata": "{}",
         "name": "Instructor",
         "type": "\"string\""
        },
        {
         "metadata": "{}",
         "name": "NextEnrollDate",
         "type": "\"date\""
        },
        {
         "metadata": "{}",
         "name": "PrevEnrollDate",
         "type": "\"date\""
        },
        {
         "metadata": "{}",
         "name": "EnrollYear",
         "type": "\"integer\""
        },
        {
         "metadata": "{}",
         "name": "EnrollMonth",
         "type": "\"integer\""
        }
       ],
       "type": "table"
      }
     },
     "output_type": "display_data"
    }
   ],
   "source": [
    "\n",
    "df_ym = df_dates.withColumn(\"EnrollYear\", year(\"EnrollDate\")) \\\n",
    "             .withColumn(\"EnrollMonth\", month(\"EnrollDate\"))\n",
    "df_ym.display()\n"
   ]
  },
  {
   "cell_type": "code",
   "execution_count": 0,
   "metadata": {
    "application/vnd.databricks.v1+cell": {
     "cellMetadata": {
      "byteLimit": 2048000,
      "rowLimit": 10000
     },
     "inputWidgets": {},
     "nuid": "12fee9de-9837-4aca-bde1-ee76027924a6",
     "showTitle": false,
     "tableResultSettingsMap": {},
     "title": ""
    }
   },
   "outputs": [],
   "source": [
    "df_drop = df_join.filter((col(\"Status\").isNotNull()) & (col(\"Status\") != \"\"))\n"
   ]
  },
  {
   "cell_type": "code",
   "execution_count": 0,
   "metadata": {
    "application/vnd.databricks.v1+cell": {
     "cellMetadata": {
      "byteLimit": 2048000,
      "rowLimit": 10000
     },
     "inputWidgets": {},
     "nuid": "8243a799-017b-43cd-861f-b3eaa5fef9d5",
     "showTitle": false,
     "tableResultSettingsMap": {},
     "title": ""
    }
   },
   "outputs": [],
   "source": [
    "df_duplicate = df_join.dropDuplicates([\"EnrollmentID\"])"
   ]
  },
  {
   "cell_type": "code",
   "execution_count": 0,
   "metadata": {
    "application/vnd.databricks.v1+cell": {
     "cellMetadata": {
      "byteLimit": 2048000,
      "rowLimit": 10000
     },
     "inputWidgets": {},
     "nuid": "d4755bf7-83fd-421a-9dd8-cb0d7356e29a",
     "showTitle": false,
     "tableResultSettingsMap": {},
     "title": ""
    }
   },
   "outputs": [],
   "source": [
    "output_path = \"/FileStore/cleaned_enrollments\"\n",
    "\n",
    "df_csv = df_duplicate.write.mode(\"overwrite\").option(\"header\", True).csv(f\"{output_path}/csv\")\n",
    "\n",
    "df_json = df_duplicate.write.mode(\"overwrite\").json(f\"{output_path}/json\")\n",
    "\n",
    "df_parquet = df_duplicate.write.mode(\"overwrite\").parquet(f\"{output_path}/parquet\")\n"
   ]
  }
 ],
 "metadata": {
  "application/vnd.databricks.v1+notebook": {
   "computePreferences": null,
   "dashboards": [],
   "environmentMetadata": {
    "base_environment": "",
    "environment_version": "2"
   },
   "inputWidgetPreferences": null,
   "language": "python",
   "notebookMetadata": {
    "pythonIndentUnit": 4
   },
   "notebookName": "Assignment_june_16",
   "widgets": {}
  },
  "language_info": {
   "name": "python"
  }
 },
 "nbformat": 4,
 "nbformat_minor": 0
}