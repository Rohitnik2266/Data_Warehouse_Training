{
  "nbformat": 4,
  "nbformat_minor": 0,
  "metadata": {
    "colab": {
      "provenance": []
    },
    "kernelspec": {
      "name": "python3",
      "display_name": "Python 3"
    },
    "language_info": {
      "name": "python"
    }
  },
  "cells": [
    {
      "cell_type": "markdown",
      "source": [
        "Data Preparation"
      ],
      "metadata": {
        "id": "opNhI8gMQF6O"
      }
    },
    {
      "cell_type": "code",
      "execution_count": 2,
      "metadata": {
        "id": "YgnCH-9iQB7c"
      },
      "outputs": [],
      "source": [
        "from pyspark.sql import SparkSession\n",
        "from pyspark.sql.functions import *\n",
        "\n",
        "spark = SparkSession.builder \\\n",
        "    .appName(\"Practice\") \\\n",
        "    .enableHiveSupport() \\\n",
        "    .getOrCreate()\n",
        "\n",
        "customers_data = [\n",
        "    (101, 'Ali', 'ali@gmail.com', 'Mumbai', '2022-05-10'),\n",
        "    (102, 'Neha', 'neha@yahoo.com', 'Delhi', '2023-01-15'),\n",
        "    (103, 'Ravi', 'ravi@hotmail.com', 'Bangalore', '2021-11-01'),\n",
        "    (104, 'Sneha', 'sneha@outlook.com', 'Hyderabad', '2020-07-22'),\n",
        "    (105, 'Amit', 'amit@gmail.com', 'Chennai', '2023-03-10'),\n",
        "]\n",
        "orders_data = [\n",
        "    (1, 101, 'Laptop', 'Electronics', 2, 50000.0, '2024-01-10'),\n",
        "    (2, 101, 'Mouse', 'Electronics', 1, 1200.0, '2024-01-15'),\n",
        "    (3, 102, 'Tablet', 'Electronics', 1, 20000.0, '2024-02-01'),\n",
        "    (4, 103, 'Bookshelf', 'Furniture', 1, 3500.0, '2024-02-10'),\n",
        "    (5, 104, 'Mixer', 'Appliances', 1, 5000.0, '2024-02-15'),\n",
        "    (6, 105, 'Notebook', 'Stationery', 5, 500.0, '2024-03-01'),\n",
        "    (7, 102, 'Phone', 'Electronics', 1, 30000.0, '2024-03-02'),\n",
        "]\n",
        "\n",
        "customers_df = spark.createDataFrame(customers_data, [\"CustomerID\", \"Name\", \"Email\", \"City\", \"SignupDate\"])\n",
        "orders_df = spark.createDataFrame(orders_data, [\"OrderID\", \"CustomerID\", \"Product\", \"Category\", \"Quantity\", \"Price\", \"OrderDate\"])\n",
        "\n",
        "spark.sql(\"CREATE DATABASE IF NOT EXISTS sales\")\n",
        "\n",
        "customers_df.write.mode(\"overwrite\").saveAsTable(\"sales.customers\")\n",
        "orders_df.write.mode(\"overwrite\").saveAsTable(\"sales.orders\")\n"
      ]
    },
    {
      "cell_type": "markdown",
      "source": [
        "SECTION A: PySpark DataFrame Tasks"
      ],
      "metadata": {
        "id": "hz4fvaX6Qv91"
      }
    },
    {
      "cell_type": "markdown",
      "source": [
        "1."
      ],
      "metadata": {
        "id": "5iq73u4SQz1M"
      }
    },
    {
      "cell_type": "code",
      "source": [
        "orders_df = orders_df.withColumn(\"TotalAmount\", col(\"Price\") * col(\"Quantity\"))\n"
      ],
      "metadata": {
        "id": "4NhKz11JQ08c"
      },
      "execution_count": 3,
      "outputs": []
    },
    {
      "cell_type": "markdown",
      "source": [
        "2."
      ],
      "metadata": {
        "id": "b7uEvl6tQ7nP"
      }
    },
    {
      "cell_type": "code",
      "source": [
        "orders_df.filter(col(\"TotalAmount\") > 10000).show()\n"
      ],
      "metadata": {
        "colab": {
          "base_uri": "https://localhost:8080/"
        },
        "id": "QNZMtb3WQ8nz",
        "outputId": "0ec170c9-2d7c-45d0-f3e1-1726210d7363"
      },
      "execution_count": 4,
      "outputs": [
        {
          "output_type": "stream",
          "name": "stdout",
          "text": [
            "+-------+----------+-------+-----------+--------+-------+----------+-----------+\n",
            "|OrderID|CustomerID|Product|   Category|Quantity|  Price| OrderDate|TotalAmount|\n",
            "+-------+----------+-------+-----------+--------+-------+----------+-----------+\n",
            "|      1|       101| Laptop|Electronics|       2|50000.0|2024-01-10|   100000.0|\n",
            "|      3|       102| Tablet|Electronics|       1|20000.0|2024-02-01|    20000.0|\n",
            "|      7|       102|  Phone|Electronics|       1|30000.0|2024-03-02|    30000.0|\n",
            "+-------+----------+-------+-----------+--------+-------+----------+-----------+\n",
            "\n"
          ]
        }
      ]
    },
    {
      "cell_type": "markdown",
      "source": [
        "3."
      ],
      "metadata": {
        "id": "jncJfV1tQ_dg"
      }
    },
    {
      "cell_type": "code",
      "source": [
        "customers_df = customers_df.withColumn(\"City\", lower(col(\"City\")))\n"
      ],
      "metadata": {
        "id": "f4XDLQQSRAwm"
      },
      "execution_count": 5,
      "outputs": []
    },
    {
      "cell_type": "markdown",
      "source": [
        "4."
      ],
      "metadata": {
        "id": "b2uBHf7WRFXl"
      }
    },
    {
      "cell_type": "code",
      "source": [
        "orders_df = orders_df.withColumn(\"OrderYear\", year(to_date(\"OrderDate\")))\n"
      ],
      "metadata": {
        "id": "ZpRA8bbxRGRs"
      },
      "execution_count": 6,
      "outputs": []
    },
    {
      "cell_type": "markdown",
      "source": [
        "5."
      ],
      "metadata": {
        "id": "dTgfpyIPRM9l"
      }
    },
    {
      "cell_type": "code",
      "source": [
        "customers_df = customers_df.fillna({\"Email\": \"unknown@example.com\"})\n"
      ],
      "metadata": {
        "id": "-_X1dQvNRNli"
      },
      "execution_count": 7,
      "outputs": []
    },
    {
      "cell_type": "markdown",
      "source": [
        "6."
      ],
      "metadata": {
        "id": "QWinGnk9RQfF"
      }
    },
    {
      "cell_type": "code",
      "source": [
        "orders_df = orders_df.withColumn(\n",
        "    \"AmountCategory\",\n",
        "    when(col(\"TotalAmount\") < 5000, \"Low\")\n",
        "    .when(col(\"TotalAmount\").between(5000, 20000), \"Medium\")\n",
        "    .otherwise(\"High\")\n",
        ")\n"
      ],
      "metadata": {
        "id": "dO34Op3sRRsx"
      },
      "execution_count": 8,
      "outputs": []
    },
    {
      "cell_type": "markdown",
      "source": [
        "SECTION B: Spark SQL Tasks"
      ],
      "metadata": {
        "id": "H-AwfL6cRUkt"
      }
    },
    {
      "cell_type": "code",
      "source": [
        "orders_df.createOrReplaceTempView(\"orders\")\n",
        "customers_df.createOrReplaceTempView(\"customers\")\n"
      ],
      "metadata": {
        "id": "wuRrPX0XReoi"
      },
      "execution_count": 9,
      "outputs": []
    },
    {
      "cell_type": "markdown",
      "source": [
        "7."
      ],
      "metadata": {
        "id": "O5ySHKBpRYU1"
      }
    },
    {
      "cell_type": "code",
      "source": [
        "spark.sql(\"\"\"\n",
        "    SELECT o.*\n",
        "    FROM orders o\n",
        "    JOIN customers c ON o.CustomerID = c.CustomerID\n",
        "    WHERE c.Name = 'Ali'\n",
        "\"\"\").show()\n"
      ],
      "metadata": {
        "colab": {
          "base_uri": "https://localhost:8080/"
        },
        "id": "4RrRIjEmRaRI",
        "outputId": "5cef3812-32d6-4dfc-aff8-fee5cb960597"
      },
      "execution_count": 11,
      "outputs": [
        {
          "output_type": "stream",
          "name": "stdout",
          "text": [
            "+-------+----------+-------+-----------+--------+-------+----------+-----------+---------+--------------+\n",
            "|OrderID|CustomerID|Product|   Category|Quantity|  Price| OrderDate|TotalAmount|OrderYear|AmountCategory|\n",
            "+-------+----------+-------+-----------+--------+-------+----------+-----------+---------+--------------+\n",
            "|      1|       101| Laptop|Electronics|       2|50000.0|2024-01-10|   100000.0|     2024|          High|\n",
            "|      2|       101|  Mouse|Electronics|       1| 1200.0|2024-01-15|     1200.0|     2024|           Low|\n",
            "+-------+----------+-------+-----------+--------+-------+----------+-----------+---------+--------------+\n",
            "\n"
          ]
        }
      ]
    },
    {
      "cell_type": "markdown",
      "source": [
        "8."
      ],
      "metadata": {
        "id": "u2y7KO08R2g0"
      }
    },
    {
      "cell_type": "code",
      "source": [
        "spark.sql(\"\"\"\n",
        "    SELECT CustomerID, SUM(Price * Quantity) AS TotalSpending\n",
        "    FROM orders\n",
        "    GROUP BY CustomerID\n",
        "\"\"\").show()\n"
      ],
      "metadata": {
        "colab": {
          "base_uri": "https://localhost:8080/"
        },
        "id": "66bFTvvNR3So",
        "outputId": "ad0c9545-184a-47e0-c794-d88d1abc9b5b"
      },
      "execution_count": 12,
      "outputs": [
        {
          "output_type": "stream",
          "name": "stdout",
          "text": [
            "+----------+-------------+\n",
            "|CustomerID|TotalSpending|\n",
            "+----------+-------------+\n",
            "|       101|     101200.0|\n",
            "|       102|      50000.0|\n",
            "|       103|       3500.0|\n",
            "|       104|       5000.0|\n",
            "|       105|       2500.0|\n",
            "+----------+-------------+\n",
            "\n"
          ]
        }
      ]
    },
    {
      "cell_type": "markdown",
      "source": [
        "9."
      ],
      "metadata": {
        "id": "ucGIS1diR6hn"
      }
    },
    {
      "cell_type": "code",
      "source": [
        "spark.sql(\"\"\"\n",
        "    SELECT Category, SUM(Price * Quantity) AS Revenue\n",
        "    FROM orders\n",
        "    GROUP BY Category\n",
        "    ORDER BY Revenue DESC\n",
        "    LIMIT 1\n",
        "\"\"\").show()\n"
      ],
      "metadata": {
        "colab": {
          "base_uri": "https://localhost:8080/"
        },
        "id": "kvctfoYjR7ei",
        "outputId": "df48bf46-60c8-4244-a0b6-333ebb3b178b"
      },
      "execution_count": 13,
      "outputs": [
        {
          "output_type": "stream",
          "name": "stdout",
          "text": [
            "+-----------+--------+\n",
            "|   Category| Revenue|\n",
            "+-----------+--------+\n",
            "|Electronics|151200.0|\n",
            "+-----------+--------+\n",
            "\n"
          ]
        }
      ]
    },
    {
      "cell_type": "markdown",
      "source": [
        "10."
      ],
      "metadata": {
        "id": "8PQ-evCDR_nu"
      }
    },
    {
      "cell_type": "code",
      "source": [
        "customer_orders_df = spark.sql(\"\"\"\n",
        "    SELECT c.Name AS CustomerName,\n",
        "           o.Product,\n",
        "           o.Price * o.Quantity AS TotalAmount\n",
        "    FROM orders o\n",
        "    JOIN customers c ON o.CustomerID = c.CustomerID\n",
        "\"\"\")\n",
        "customer_orders_df.createOrReplaceTempView(\"customer_orders\")\n"
      ],
      "metadata": {
        "id": "kfBO1lfKSA13"
      },
      "execution_count": 14,
      "outputs": []
    },
    {
      "cell_type": "markdown",
      "source": [
        "11."
      ],
      "metadata": {
        "id": "SNvuSvE3SE7Q"
      }
    },
    {
      "cell_type": "code",
      "source": [
        "spark.sql(\"\"\"\n",
        "    SELECT *\n",
        "    FROM customer_orders\n",
        "    JOIN orders o ON customer_orders.Product = o.Product\n",
        "    WHERE to_date(o.OrderDate) > '2024-02-29'\n",
        "\"\"\").show()\n"
      ],
      "metadata": {
        "colab": {
          "base_uri": "https://localhost:8080/"
        },
        "id": "rlI7hF3ESGE1",
        "outputId": "77c7eec4-e020-4b7e-f55e-adfa8c48469d"
      },
      "execution_count": 15,
      "outputs": [
        {
          "output_type": "stream",
          "name": "stdout",
          "text": [
            "+------------+--------+-----------+-------+----------+--------+-----------+--------+-------+----------+-----------+---------+--------------+\n",
            "|CustomerName| Product|TotalAmount|OrderID|CustomerID| Product|   Category|Quantity|  Price| OrderDate|TotalAmount|OrderYear|AmountCategory|\n",
            "+------------+--------+-----------+-------+----------+--------+-----------+--------+-------+----------+-----------+---------+--------------+\n",
            "|        Neha|   Phone|    30000.0|      7|       102|   Phone|Electronics|       1|30000.0|2024-03-02|    30000.0|     2024|          High|\n",
            "|        Amit|Notebook|     2500.0|      6|       105|Notebook| Stationery|       5|  500.0|2024-03-01|     2500.0|     2024|           Low|\n",
            "+------------+--------+-----------+-------+----------+--------+-----------+--------+-------+----------+-----------+---------+--------------+\n",
            "\n"
          ]
        }
      ]
    },
    {
      "cell_type": "markdown",
      "source": [
        "SECTION C: Advanced Practice"
      ],
      "metadata": {
        "id": "sOYp7WOtSPK9"
      }
    },
    {
      "cell_type": "markdown",
      "source": [
        "12."
      ],
      "metadata": {
        "id": "3HJc5HQsSQLX"
      }
    },
    {
      "cell_type": "code",
      "source": [
        "customers_df.createOrReplaceGlobalTempView(\"customers\")\n",
        "\n",
        "spark.sql(\"\"\"\n",
        "    SELECT *\n",
        "    FROM global_temp.customers\n",
        "    WHERE City = 'mumbai'\n",
        "\"\"\").show()\n"
      ],
      "metadata": {
        "colab": {
          "base_uri": "https://localhost:8080/"
        },
        "id": "_qoBLdogSR7L",
        "outputId": "74b0eb49-1f01-44a3-b23c-ac305736069b"
      },
      "execution_count": 16,
      "outputs": [
        {
          "output_type": "stream",
          "name": "stdout",
          "text": [
            "+----------+----+-------------+------+----------+\n",
            "|CustomerID|Name|        Email|  City|SignupDate|\n",
            "+----------+----+-------------+------+----------+\n",
            "|       101| Ali|ali@gmail.com|mumbai|2022-05-10|\n",
            "+----------+----+-------------+------+----------+\n",
            "\n"
          ]
        }
      ]
    },
    {
      "cell_type": "markdown",
      "source": [
        "13."
      ],
      "metadata": {
        "id": "sIgkZhWtSX-K"
      }
    },
    {
      "cell_type": "code",
      "source": [
        "orders_df.write.mode(\"overwrite\").parquet(\"/tmp/orders_with_totalamount.parquet\")\n"
      ],
      "metadata": {
        "id": "HTWnYWspSZHM"
      },
      "execution_count": 17,
      "outputs": []
    },
    {
      "cell_type": "markdown",
      "source": [
        "14."
      ],
      "metadata": {
        "id": "i-oqBF2TSdgs"
      }
    },
    {
      "cell_type": "code",
      "source": [
        "parquet_df = spark.read.parquet(\"/tmp/orders_with_totalamount.parquet\")\n",
        "parquet_df.count()\n"
      ],
      "metadata": {
        "colab": {
          "base_uri": "https://localhost:8080/"
        },
        "id": "DspQCDuvSeem",
        "outputId": "0f1374c3-aff3-4c1b-f491-ca383b5cf1e1"
      },
      "execution_count": 18,
      "outputs": [
        {
          "output_type": "execute_result",
          "data": {
            "text/plain": [
              "7"
            ]
          },
          "metadata": {},
          "execution_count": 18
        }
      ]
    },
    {
      "cell_type": "markdown",
      "source": [
        "SECTION D: UDF + Built-in Function Tasks"
      ],
      "metadata": {
        "id": "pvD-3q0uSswO"
      }
    },
    {
      "cell_type": "markdown",
      "source": [
        "15."
      ],
      "metadata": {
        "id": "HL3IkchZSt3P"
      }
    },
    {
      "cell_type": "code",
      "source": [
        "from pyspark.sql.functions import udf\n",
        "from pyspark.sql.types import StringType\n",
        "\n",
        "def mask_email(email):\n",
        "    if '@' in email:\n",
        "        user, domain = email.split('@')\n",
        "        return user[0] + '***@' + domain\n",
        "    return email\n",
        "\n",
        "mask_udf = udf(mask_email, StringType())\n",
        "\n",
        "customers_df = customers_df.withColumn(\"MaskedEmail\", mask_udf(\"Email\"))\n",
        "customers_df.select(\"Email\", \"MaskedEmail\").show()\n"
      ],
      "metadata": {
        "colab": {
          "base_uri": "https://localhost:8080/"
        },
        "id": "2O2xug3LSvLD",
        "outputId": "5b83c46a-4a25-45be-8078-2644c88bba10"
      },
      "execution_count": 19,
      "outputs": [
        {
          "output_type": "stream",
          "name": "stdout",
          "text": [
            "+-----------------+----------------+\n",
            "|            Email|     MaskedEmail|\n",
            "+-----------------+----------------+\n",
            "|    ali@gmail.com|  a***@gmail.com|\n",
            "|   neha@yahoo.com|  n***@yahoo.com|\n",
            "| ravi@hotmail.com|r***@hotmail.com|\n",
            "|sneha@outlook.com|s***@outlook.com|\n",
            "|   amit@gmail.com|  a***@gmail.com|\n",
            "+-----------------+----------------+\n",
            "\n"
          ]
        }
      ]
    },
    {
      "cell_type": "markdown",
      "source": [
        "16."
      ],
      "metadata": {
        "id": "SHzYVJrSS3kh"
      }
    },
    {
      "cell_type": "code",
      "source": [
        "from pyspark.sql.functions import concat_ws\n",
        "\n",
        "customers_df = customers_df.withColumn(\"Label\", concat_ws(\" from \", \"Name\", \"City\"))\n",
        "customers_df.select(\"Label\").show()\n"
      ],
      "metadata": {
        "colab": {
          "base_uri": "https://localhost:8080/"
        },
        "id": "wr-iQaQJS4vQ",
        "outputId": "665087a3-bd85-473a-8532-546f4ebf16da"
      },
      "execution_count": 20,
      "outputs": [
        {
          "output_type": "stream",
          "name": "stdout",
          "text": [
            "+--------------------+\n",
            "|               Label|\n",
            "+--------------------+\n",
            "|     Ali from mumbai|\n",
            "|     Neha from delhi|\n",
            "| Ravi from bangalore|\n",
            "|Sneha from hyderabad|\n",
            "|   Amit from chennai|\n",
            "+--------------------+\n",
            "\n"
          ]
        }
      ]
    },
    {
      "cell_type": "markdown",
      "source": [
        "17."
      ],
      "metadata": {
        "id": "TgjsUfrbS81A"
      }
    },
    {
      "cell_type": "code",
      "source": [
        "from pyspark.sql.functions import regexp_replace\n",
        "\n",
        "orders_df = orders_df.withColumn(\"CleanProduct\", regexp_replace(\"Product\", \"[^a-zA-Z0-9 ]\", \"\"))\n",
        "orders_df.select(\"Product\", \"CleanProduct\").show()\n"
      ],
      "metadata": {
        "colab": {
          "base_uri": "https://localhost:8080/"
        },
        "id": "QOVnMB84S94m",
        "outputId": "6a846e84-450b-405a-e814-604ccda87d80"
      },
      "execution_count": 21,
      "outputs": [
        {
          "output_type": "stream",
          "name": "stdout",
          "text": [
            "+---------+------------+\n",
            "|  Product|CleanProduct|\n",
            "+---------+------------+\n",
            "|   Laptop|      Laptop|\n",
            "|    Mouse|       Mouse|\n",
            "|   Tablet|      Tablet|\n",
            "|Bookshelf|   Bookshelf|\n",
            "|    Mixer|       Mixer|\n",
            "| Notebook|    Notebook|\n",
            "|    Phone|       Phone|\n",
            "+---------+------------+\n",
            "\n"
          ]
        }
      ]
    },
    {
      "cell_type": "markdown",
      "source": [
        "18."
      ],
      "metadata": {
        "id": "tLrLHLp6TEYN"
      }
    },
    {
      "cell_type": "code",
      "source": [
        "from pyspark.sql.functions import to_date, datediff, current_date\n",
        "\n",
        "customers_df = customers_df.withColumn(\"SignupDate\", to_date(\"SignupDate\"))\n",
        "customers_df = customers_df.withColumn(\"CustomerAgeDays\", datediff(current_date(), \"SignupDate\"))\n",
        "customers_df.select(\"Name\", \"CustomerAgeDays\").show()\n"
      ],
      "metadata": {
        "colab": {
          "base_uri": "https://localhost:8080/"
        },
        "id": "XZNnp5mpTFPD",
        "outputId": "7e5dbef3-c364-4bc7-907e-33e4f684dcaa"
      },
      "execution_count": 22,
      "outputs": [
        {
          "output_type": "stream",
          "name": "stdout",
          "text": [
            "+-----+---------------+\n",
            "| Name|CustomerAgeDays|\n",
            "+-----+---------------+\n",
            "|  Ali|           1121|\n",
            "| Neha|            871|\n",
            "| Ravi|           1311|\n",
            "|Sneha|           1778|\n",
            "| Amit|            817|\n",
            "+-----+---------------+\n",
            "\n"
          ]
        }
      ]
    }
  ]
}
