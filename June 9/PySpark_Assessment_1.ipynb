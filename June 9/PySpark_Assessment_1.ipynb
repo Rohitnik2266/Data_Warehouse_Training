{
  "nbformat": 4,
  "nbformat_minor": 0,
  "metadata": {
    "colab": {
      "provenance": [],
      "authorship_tag": "ABX9TyPo/nuZYX0UUpcE86/5LtLn",
      "include_colab_link": true
    },
    "kernelspec": {
      "name": "python3",
      "display_name": "Python 3"
    },
    "language_info": {
      "name": "python"
    }
  },
  "cells": [
    {
      "cell_type": "markdown",
      "metadata": {
        "id": "view-in-github",
        "colab_type": "text"
      },
      "source": [
        "<a href=\"https://colab.research.google.com/github/Rohitnik2266/Data_Warehouse_Training/blob/main/June%209/PySpark_Assessment_1.ipynb\" target=\"_parent\"><img src=\"https://colab.research.google.com/assets/colab-badge.svg\" alt=\"Open In Colab\"/></a>"
      ]
    },
    {
      "cell_type": "code",
      "execution_count": 1,
      "metadata": {
        "id": "fIPqiswe91aO"
      },
      "outputs": [],
      "source": [
        "from pyspark.sql import SparkSession\n",
        "spark = SparkSession.builder.appName(\"SparkMasterTask\").getOrCreate()\n"
      ]
    },
    {
      "cell_type": "code",
      "source": [
        "#1. Data Ingestion & Exploration\n",
        "# Load CSVs with schema inference\n",
        "customers_df = spark.read.option(\"header\", True).option(\"inferSchema\", True).csv(\"customers.csv\")\n",
        "orders_df = spark.read.option(\"header\", True).option(\"inferSchema\", True).csv(\"orders.csv\")\n"
      ],
      "metadata": {
        "id": "WImg5yG4Tntn"
      },
      "execution_count": 9,
      "outputs": []
    },
    {
      "cell_type": "code",
      "source": [
        "customers_df.printSchema()\n",
        "orders_df.printSchema()"
      ],
      "metadata": {
        "colab": {
          "base_uri": "https://localhost:8080/"
        },
        "id": "ddYRfNYrYAjn",
        "outputId": "3b609d6f-878c-44a5-ce1d-9105a05aa6bc"
      },
      "execution_count": 10,
      "outputs": [
        {
          "output_type": "stream",
          "name": "stdout",
          "text": [
            "root\n",
            " |-- CustomerID: integer (nullable = true)\n",
            " |-- Name: string (nullable = true)\n",
            " |-- Email: string (nullable = true)\n",
            " |-- City: string (nullable = true)\n",
            " |-- SignupDate: string (nullable = true)\n",
            "\n",
            "root\n",
            " |-- OrderID: integer (nullable = true)\n",
            " |-- CustomerID: integer (nullable = true)\n",
            " |-- Product: string (nullable = true)\n",
            " |-- Category: string (nullable = true)\n",
            " |-- Quantity: integer (nullable = true)\n",
            " |-- Price: integer (nullable = true)\n",
            " |-- OrderDate: string (nullable = true)\n",
            "\n"
          ]
        }
      ]
    },
    {
      "cell_type": "code",
      "source": [
        "print(\"Total Customers:\", customers_df.count())\n",
        "print(\"Total Orders:\", orders_df.count())"
      ],
      "metadata": {
        "colab": {
          "base_uri": "https://localhost:8080/"
        },
        "id": "AZfVT6AxYVuK",
        "outputId": "29ce0766-7b33-4145-f987-152a4ed0fa15"
      },
      "execution_count": 11,
      "outputs": [
        {
          "output_type": "stream",
          "name": "stdout",
          "text": [
            "Total Customers: 5\n",
            "Total Orders: 7\n"
          ]
        }
      ]
    },
    {
      "cell_type": "code",
      "source": [
        "customers_df.select(\"City\").distinct().show()"
      ],
      "metadata": {
        "colab": {
          "base_uri": "https://localhost:8080/"
        },
        "id": "l0Wc31maZPKg",
        "outputId": "7df96123-a0d8-4ba4-aed6-3b6024f0664c"
      },
      "execution_count": 12,
      "outputs": [
        {
          "output_type": "stream",
          "name": "stdout",
          "text": [
            "+---------+\n",
            "|     City|\n",
            "+---------+\n",
            "|Bangalore|\n",
            "|  Chennai|\n",
            "|   Mumbai|\n",
            "|    Delhi|\n",
            "|Hyderabad|\n",
            "+---------+\n",
            "\n"
          ]
        }
      ]
    },
    {
      "cell_type": "code",
      "source": [
        "#2. DataFrame Transformations\n",
        "from pyspark.sql.functions import col, year\n",
        "\n",
        "orders_df = orders_df.withColumn(\"TotalAmount\", col(\"Quantity\") * col(\"Price\"))"
      ],
      "metadata": {
        "id": "INyd4czsZWKw"
      },
      "execution_count": 17,
      "outputs": []
    },
    {
      "cell_type": "code",
      "source": [
        "orders_df = orders_df.withColumn(\"OrderYear\", year(col(\"OrderDate\")))"
      ],
      "metadata": {
        "id": "kCBKHtedbL2R"
      },
      "execution_count": 18,
      "outputs": []
    },
    {
      "cell_type": "code",
      "source": [
        "orders_df.filter(col(\"TotalAmount\") > 10000).show()"
      ],
      "metadata": {
        "colab": {
          "base_uri": "https://localhost:8080/"
        },
        "id": "GLPc_wuGbL68",
        "outputId": "13bf9c70-b84f-4dc0-8729-390e13af598c"
      },
      "execution_count": 19,
      "outputs": [
        {
          "output_type": "stream",
          "name": "stdout",
          "text": [
            "+-------+----------+-------+-----------+--------+-----+---------+-----------+---------+\n",
            "|OrderID|CustomerID|Product|   Category|Quantity|Price|OrderDate|TotalAmount|OrderYear|\n",
            "+-------+----------+-------+-----------+--------+-----+---------+-----------+---------+\n",
            "|      1|       101| Laptop|Electronics|       2|50000|1/10/2024|     100000|     NULL|\n",
            "|      3|       102| Tablet|Electronics|       1|20000| 2/1/2024|      20000|     NULL|\n",
            "|      7|       102|  Phone|Electronics|       1|30000| 3/2/2024|      30000|     NULL|\n",
            "+-------+----------+-------+-----------+--------+-----+---------+-----------+---------+\n",
            "\n"
          ]
        }
      ]
    },
    {
      "cell_type": "code",
      "source": [
        "customers_df = customers_df.drop(\"Email\")"
      ],
      "metadata": {
        "id": "tuvktiLnbL_r"
      },
      "execution_count": 20,
      "outputs": []
    },
    {
      "cell_type": "code",
      "source": [
        "#3. Handling Nulls & Conditionals\n",
        "from pyspark.sql.functions import when, lit, to_date\n",
        "\n",
        "customers_df = customers_df.withColumn(\"City\", when(col(\"CustomerID\") == 105, None).otherwise(col(\"City\")))\n"
      ],
      "metadata": {
        "id": "oOoP31Z4Z7gG"
      },
      "execution_count": 21,
      "outputs": []
    },
    {
      "cell_type": "code",
      "source": [
        "customers_df = customers_df.fillna({\"City\": \"Unknown\"})"
      ],
      "metadata": {
        "id": "0XC5kyAGbZ_2"
      },
      "execution_count": 22,
      "outputs": []
    },
    {
      "cell_type": "code",
      "source": [
        "customers_df = customers_df.withColumn(\"CustomerType\", when(to_date(\"SignupDate\") < \"2022-01-01\", \"Loyal\").otherwise(\"New\"))"
      ],
      "metadata": {
        "id": "QLmqnEHWbaEw"
      },
      "execution_count": 23,
      "outputs": []
    },
    {
      "cell_type": "code",
      "source": [
        "orders_df = orders_df.withColumn(\n",
        "    \"OrderType\",\n",
        "    when(col(\"TotalAmount\") < 5000, \"Low\").otherwise(\"High\")\n",
        ")"
      ],
      "metadata": {
        "id": "7mIcvDZ-baIv"
      },
      "execution_count": 24,
      "outputs": []
    },
    {
      "cell_type": "code",
      "source": [
        "#4. Joins & Aggregations\n",
        "\n",
        "joined_df = orders_df.join(customers_df, on=\"CustomerID\", how=\"inner\")\n"
      ],
      "metadata": {
        "id": "K6Ivb1saZ89y"
      },
      "execution_count": 25,
      "outputs": []
    },
    {
      "cell_type": "code",
      "source": [
        "from pyspark.sql.functions import sum as _sum, count as _count\n",
        "\n",
        "joined_df.groupBy(\"City\").agg(\n",
        "    _count(\"OrderID\").alias(\"TotalOrders\"),\n",
        "    _sum(\"TotalAmount\").alias(\"TotalRevenue\")\n",
        ").show()"
      ],
      "metadata": {
        "colab": {
          "base_uri": "https://localhost:8080/"
        },
        "id": "dNDbR2KCb2iA",
        "outputId": "da4d68d7-1985-4433-ced9-7d8be8d45731"
      },
      "execution_count": 26,
      "outputs": [
        {
          "output_type": "stream",
          "name": "stdout",
          "text": [
            "+---------+-----------+------------+\n",
            "|     City|TotalOrders|TotalRevenue|\n",
            "+---------+-----------+------------+\n",
            "|Bangalore|          1|        3500|\n",
            "|   Mumbai|          2|      101200|\n",
            "|  Unknown|          1|        2500|\n",
            "|    Delhi|          2|       50000|\n",
            "|Hyderabad|          1|        5000|\n",
            "+---------+-----------+------------+\n",
            "\n"
          ]
        }
      ]
    },
    {
      "cell_type": "code",
      "source": [
        "joined_df.groupBy(\"CustomerID\", \"Name\").agg(_sum(\"TotalAmount\").alias(\"TotalSpend\"))\\\n",
        "    .orderBy(col(\"TotalSpend\").desc()).limit(3).show()"
      ],
      "metadata": {
        "colab": {
          "base_uri": "https://localhost:8080/"
        },
        "id": "WnKeiT07by17",
        "outputId": "b135abaf-35e4-4d0c-eddb-f07f86da7d00"
      },
      "execution_count": 27,
      "outputs": [
        {
          "output_type": "stream",
          "name": "stdout",
          "text": [
            "+----------+-----+----------+\n",
            "|CustomerID| Name|TotalSpend|\n",
            "+----------+-----+----------+\n",
            "|       101|  Ali|    101200|\n",
            "|       102| Neha|     50000|\n",
            "|       104|Sneha|      5000|\n",
            "+----------+-----+----------+\n",
            "\n"
          ]
        }
      ]
    },
    {
      "cell_type": "code",
      "source": [
        "orders_df.groupBy(\"Category\").agg(_sum(\"Quantity\").alias(\"ProductsSold\")).show()"
      ],
      "metadata": {
        "colab": {
          "base_uri": "https://localhost:8080/"
        },
        "id": "lsWLMDt2by9J",
        "outputId": "132832d7-6366-4021-bf50-f3f039f09d1c"
      },
      "execution_count": 28,
      "outputs": [
        {
          "output_type": "stream",
          "name": "stdout",
          "text": [
            "+-----------+------------+\n",
            "|   Category|ProductsSold|\n",
            "+-----------+------------+\n",
            "| Stationery|           5|\n",
            "|Electronics|           5|\n",
            "|  Furniture|           1|\n",
            "| Appliances|           1|\n",
            "+-----------+------------+\n",
            "\n"
          ]
        }
      ]
    },
    {
      "cell_type": "code",
      "source": [
        "#5. Spark SQL Tasks\n",
        "\n",
        "spark.sql(\"CREATE DATABASE IF NOT EXISTS sales\")\n",
        "spark.sql(\"USE sales\")"
      ],
      "metadata": {
        "colab": {
          "base_uri": "https://localhost:8080/"
        },
        "id": "Qu-OaJz5aERp",
        "outputId": "458f2cdf-e393-4e82-b445-2109155a5ea6"
      },
      "execution_count": 30,
      "outputs": [
        {
          "output_type": "execute_result",
          "data": {
            "text/plain": [
              "DataFrame[]"
            ]
          },
          "metadata": {},
          "execution_count": 30
        }
      ]
    },
    {
      "cell_type": "code",
      "source": [
        "customers_df.write.mode(\"overwrite\").saveAsTable(\"sales.customers\")\n",
        "orders_df.write.mode(\"overwrite\").saveAsTable(\"sales.orders\")"
      ],
      "metadata": {
        "id": "Eb4HzaTBcQTi"
      },
      "execution_count": 31,
      "outputs": []
    },
    {
      "cell_type": "code",
      "source": [
        "spark.sql(\"\"\"\n",
        "    SELECT * FROM orders o JOIN customers c ON o.CustomerID = c.CustomerID\n",
        "    WHERE c.City = 'Delhi'\n",
        "\"\"\").show()\n",
        "\n",
        "spark.sql(\"\"\"\n",
        "    SELECT Category, AVG(TotalAmount) AS AvgOrderValue\n",
        "    FROM orders\n",
        "    GROUP BY Category\n",
        "\"\"\").show()\n",
        "\n",
        "spark.sql(\"\"\"\n",
        "    CREATE OR REPLACE VIEW monthly_orders AS\n",
        "    SELECT MONTH(OrderDate) AS Month, SUM(TotalAmount) AS MonthlyTotal\n",
        "    FROM orders\n",
        "    GROUP BY MONTH(OrderDate)\n",
        "\"\"\")\n",
        "spark.sql(\"SELECT * FROM monthly_orders\").show()"
      ],
      "metadata": {
        "colab": {
          "base_uri": "https://localhost:8080/"
        },
        "id": "L1dsmByqcQZ_",
        "outputId": "7638c0c5-3e33-4cb2-dc20-9ee259967644"
      },
      "execution_count": 32,
      "outputs": [
        {
          "output_type": "stream",
          "name": "stdout",
          "text": [
            "+-------+----------+-------+-----------+--------+-----+---------+-----------+---------+---------+----------+----+-----+----------+------------+\n",
            "|OrderID|CustomerID|Product|   Category|Quantity|Price|OrderDate|TotalAmount|OrderYear|OrderType|CustomerID|Name| City|SignupDate|CustomerType|\n",
            "+-------+----------+-------+-----------+--------+-----+---------+-----------+---------+---------+----------+----+-----+----------+------------+\n",
            "|      3|       102| Tablet|Electronics|       1|20000| 2/1/2024|      20000|     NULL|     High|       102|Neha|Delhi| 1/15/2023|         New|\n",
            "|      7|       102|  Phone|Electronics|       1|30000| 3/2/2024|      30000|     NULL|     High|       102|Neha|Delhi| 1/15/2023|         New|\n",
            "+-------+----------+-------+-----------+--------+-----+---------+-----------+---------+---------+----------+----+-----+----------+------------+\n",
            "\n",
            "+-----------+-------------+\n",
            "|   Category|AvgOrderValue|\n",
            "+-----------+-------------+\n",
            "| Stationery|       2500.0|\n",
            "|Electronics|      37800.0|\n",
            "|  Furniture|       3500.0|\n",
            "| Appliances|       5000.0|\n",
            "+-----------+-------------+\n",
            "\n",
            "+-----+------------+\n",
            "|Month|MonthlyTotal|\n",
            "+-----+------------+\n",
            "| NULL|      162200|\n",
            "+-----+------------+\n",
            "\n"
          ]
        }
      ]
    },
    {
      "cell_type": "code",
      "source": [
        "#String & Date Functions\n",
        "\n",
        "from pyspark.sql import Row\n",
        "\n",
        "# Recreate customers_df with Email column for masking\n",
        "customers_with_email = spark.createDataFrame([\n",
        "    Row(CustomerID=101, Name=\"Ali\", Email=\"ali@gmail.com\", City=\"Mumbai\", SignupDate=\"2022-05-10\"),\n",
        "    Row(CustomerID=102, Name=\"Neha\", Email=\"neha@yahoo.com\", City=\"Delhi\", SignupDate=\"2023-01-15\"),\n",
        "    Row(CustomerID=103, Name=\"Ravi\", Email=\"ravi@hotmail.com\", City=\"Bangalore\", SignupDate=\"2021-11-01\"),\n",
        "    Row(CustomerID=104, Name=\"Sneha\", Email=\"sneha@outlook.com\", City=\"Hyderabad\", SignupDate=\"2020-07-22\"),\n",
        "    Row(CustomerID=105, Name=\"Amit\", Email=\"amit@gmail.com\", City=\"Chennai\", SignupDate=\"2023-03-10\")\n",
        "])\n"
      ],
      "metadata": {
        "id": "KC7vjAYleZJF"
      },
      "execution_count": 40,
      "outputs": []
    },
    {
      "cell_type": "code",
      "source": [
        "\n",
        "from pyspark.sql.functions import regexp_replace, concat_ws, datediff, current_date, month, date_format\n",
        "\n",
        "customers_masked = customers_with_email.withColumn(\"MaskedEmail\", regexp_replace(\"Email\", r'(^.)(.*)(@.*)', r'\\1***\\3'))\n"
      ],
      "metadata": {
        "id": "LqNbBUcdaFud"
      },
      "execution_count": 42,
      "outputs": []
    },
    {
      "cell_type": "code",
      "source": [
        "customers_df = customers_df.withColumn(\"Description\", concat_ws(\" from \", \"Name\", \"City\"))\n"
      ],
      "metadata": {
        "id": "f0bZ2jNBcjiC"
      },
      "execution_count": 43,
      "outputs": []
    },
    {
      "cell_type": "code",
      "source": [
        "customers_df = customers_df.withColumn(\"AgeInDays\", datediff(current_date(), to_date(\"SignupDate\")))\n"
      ],
      "metadata": {
        "id": "WmKSK44Xcjk-"
      },
      "execution_count": 44,
      "outputs": []
    },
    {
      "cell_type": "code",
      "source": [
        "orders_df = orders_df.withColumn(\"MonthName\", date_format(\"OrderDate\", \"MMMM\"))"
      ],
      "metadata": {
        "id": "vaqCYo-8cjop"
      },
      "execution_count": 45,
      "outputs": []
    },
    {
      "cell_type": "code",
      "source": [
        "#7. UDFs and Complex Logic\n",
        "from pyspark.sql.functions import udf\n",
        "from pyspark.sql.types import StringType\n",
        "\n",
        "def tag_customer(spend):\n",
        "    if spend > 50000:\n",
        "        return \"Gold\"\n",
        "    elif spend >= 10000:\n",
        "        return \"Silver\"\n",
        "    else:\n",
        "        return \"Bronze\"\n",
        "\n",
        "tag_udf = udf(tag_customer, StringType())\n",
        "\n",
        "customer_spend = joined_df.groupBy(\"CustomerID\").agg(_sum(\"TotalAmount\").alias(\"Spend\"))\n",
        "customer_spend = customer_spend.withColumn(\"Tag\", tag_udf(col(\"Spend\")))\n",
        "customer_spend.show()\n"
      ],
      "metadata": {
        "colab": {
          "base_uri": "https://localhost:8080/"
        },
        "id": "5hBLaCD8aKFP",
        "outputId": "2bd6e925-8727-4257-f618-3cd01b0b1df2"
      },
      "execution_count": 46,
      "outputs": [
        {
          "output_type": "stream",
          "name": "stdout",
          "text": [
            "+----------+------+------+\n",
            "|CustomerID| Spend|   Tag|\n",
            "+----------+------+------+\n",
            "|       101|101200|  Gold|\n",
            "|       103|  3500|Bronze|\n",
            "|       102| 50000|Silver|\n",
            "|       105|  2500|Bronze|\n",
            "|       104|  5000|Bronze|\n",
            "+----------+------+------+\n",
            "\n"
          ]
        }
      ]
    },
    {
      "cell_type": "code",
      "source": [
        "def shorten_name(name):\n",
        "    return name[:3] + \"...\" if name else None\n",
        "\n",
        "shorten_udf = udf(shorten_name, StringType())\n",
        "\n",
        "orders_df = orders_df.withColumn(\"ShortProduct\", shorten_udf(col(\"Product\")))\n",
        "orders_df.select(\"Product\", \"ShortProduct\").show()"
      ],
      "metadata": {
        "colab": {
          "base_uri": "https://localhost:8080/"
        },
        "id": "6Ry5FZY_km4C",
        "outputId": "91cddb1d-adc0-4a75-87b2-f6fb8635240e"
      },
      "execution_count": 47,
      "outputs": [
        {
          "output_type": "stream",
          "name": "stdout",
          "text": [
            "+---------+------------+\n",
            "|  Product|ShortProduct|\n",
            "+---------+------------+\n",
            "|   Laptop|      Lap...|\n",
            "|    Mouse|      Mou...|\n",
            "|   Tablet|      Tab...|\n",
            "|Bookshelf|      Boo...|\n",
            "|    Mixer|      Mix...|\n",
            "| Notebook|      Not...|\n",
            "|    Phone|      Pho...|\n",
            "+---------+------------+\n",
            "\n"
          ]
        }
      ]
    },
    {
      "cell_type": "code",
      "source": [
        "#Parquet & Views\n",
        "\n",
        "joined_df.write.mode(\"overwrite\").parquet(\"joined_orders.parquet\")\n"
      ],
      "metadata": {
        "id": "nbUsZ3eHaO-_"
      },
      "execution_count": 48,
      "outputs": []
    },
    {
      "cell_type": "code",
      "source": [
        "parquet_df = spark.read.parquet(\"joined_orders.parquet\")\n",
        "parquet_df.printSchema()"
      ],
      "metadata": {
        "colab": {
          "base_uri": "https://localhost:8080/"
        },
        "id": "dYrwiqTllE9P",
        "outputId": "d6e3557e-66c9-471c-c844-f72af63e735a"
      },
      "execution_count": 49,
      "outputs": [
        {
          "output_type": "stream",
          "name": "stdout",
          "text": [
            "root\n",
            " |-- CustomerID: integer (nullable = true)\n",
            " |-- OrderID: integer (nullable = true)\n",
            " |-- Product: string (nullable = true)\n",
            " |-- Category: string (nullable = true)\n",
            " |-- Quantity: integer (nullable = true)\n",
            " |-- Price: integer (nullable = true)\n",
            " |-- OrderDate: string (nullable = true)\n",
            " |-- TotalAmount: integer (nullable = true)\n",
            " |-- OrderYear: integer (nullable = true)\n",
            " |-- OrderType: string (nullable = true)\n",
            " |-- Name: string (nullable = true)\n",
            " |-- City: string (nullable = true)\n",
            " |-- SignupDate: string (nullable = true)\n",
            " |-- CustomerType: string (nullable = true)\n",
            "\n"
          ]
        }
      ]
    },
    {
      "cell_type": "code",
      "source": [
        "parquet_df.createOrReplaceGlobalTempView(\"global_joined\")\n"
      ],
      "metadata": {
        "id": "IK1N_OOblBP2"
      },
      "execution_count": 50,
      "outputs": []
    },
    {
      "cell_type": "code",
      "source": [
        "spark.sql(\"SELECT * FROM global_temp.global_joined LIMIT 5\").show()\n"
      ],
      "metadata": {
        "colab": {
          "base_uri": "https://localhost:8080/"
        },
        "id": "l-L7lEXqk_I4",
        "outputId": "7a387f69-fdcd-4a0f-c4b0-d05fce5a8530"
      },
      "execution_count": 51,
      "outputs": [
        {
          "output_type": "stream",
          "name": "stdout",
          "text": [
            "+----------+-------+---------+-----------+--------+-----+---------+-----------+---------+---------+-----+---------+----------+------------+\n",
            "|CustomerID|OrderID|  Product|   Category|Quantity|Price|OrderDate|TotalAmount|OrderYear|OrderType| Name|     City|SignupDate|CustomerType|\n",
            "+----------+-------+---------+-----------+--------+-----+---------+-----------+---------+---------+-----+---------+----------+------------+\n",
            "|       101|      1|   Laptop|Electronics|       2|50000|1/10/2024|     100000|     NULL|     High|  Ali|   Mumbai| 5/10/2022|         New|\n",
            "|       101|      2|    Mouse|Electronics|       1| 1200|1/15/2024|       1200|     NULL|      Low|  Ali|   Mumbai| 5/10/2022|         New|\n",
            "|       102|      3|   Tablet|Electronics|       1|20000| 2/1/2024|      20000|     NULL|     High| Neha|    Delhi| 1/15/2023|         New|\n",
            "|       103|      4|Bookshelf|  Furniture|       1| 3500|2/10/2024|       3500|     NULL|      Low| Ravi|Bangalore| 11/1/2021|         New|\n",
            "|       104|      5|    Mixer| Appliances|       1| 5000|2/15/2024|       5000|     NULL|     High|Sneha|Hyderabad| 7/22/2020|         New|\n",
            "+----------+-------+---------+-----------+--------+-----+---------+-----------+---------+---------+-----+---------+----------+------------+\n",
            "\n"
          ]
        }
      ]
    },
    {
      "cell_type": "code",
      "source": [
        "import time\n",
        "\n",
        "start = time.time()\n",
        "spark.read.option(\"inferSchema\", True).csv(\"orders.csv\").count()\n",
        "print(\"CSV Read Time:\", time.time() - start)\n",
        "\n",
        "start = time.time()\n",
        "spark.read.parquet(\"joined_orders.parquet\").count()\n",
        "print(\"Parquet Read Time:\", time.time() - start)"
      ],
      "metadata": {
        "colab": {
          "base_uri": "https://localhost:8080/"
        },
        "id": "copDuiWjaWs3",
        "outputId": "5b8e750a-45bf-4f7c-c2d8-fa033c1c79e8"
      },
      "execution_count": 52,
      "outputs": [
        {
          "output_type": "stream",
          "name": "stdout",
          "text": [
            "CSV Read Time: 1.013702630996704\n",
            "Parquet Read Time: 0.5349557399749756\n"
          ]
        }
      ]
    },
    {
      "cell_type": "code",
      "source": [],
      "metadata": {
        "id": "qtAgyHT8lM6G"
      },
      "execution_count": 52,
      "outputs": []
    }
  ]
}