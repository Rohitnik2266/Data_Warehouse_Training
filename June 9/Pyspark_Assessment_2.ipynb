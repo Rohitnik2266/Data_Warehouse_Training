{
  "nbformat": 4,
  "nbformat_minor": 0,
  "metadata": {
    "colab": {
      "provenance": [],
      "gpuType": "T4",
      "include_colab_link": true
    },
    "kernelspec": {
      "name": "python3",
      "display_name": "Python 3"
    },
    "language_info": {
      "name": "python"
    },
    "accelerator": "GPU"
  },
  "cells": [
    {
      "cell_type": "markdown",
      "metadata": {
        "id": "view-in-github",
        "colab_type": "text"
      },
      "source": [
        "<a href=\"https://colab.research.google.com/github/Rohitnik2266/Data_Warehouse_Training/blob/main/June%209/Pyspark_Assessment_2.ipynb\" target=\"_parent\"><img src=\"https://colab.research.google.com/assets/colab-badge.svg\" alt=\"Open In Colab\"/></a>"
      ]
    },
    {
      "cell_type": "code",
      "source": [
        "from pyspark.sql import SparkSession\n",
        "from pyspark.sql.functions import *\n",
        "spark = SparkSession.builder.appName(\"HR_Analytics\").getOrCreate()"
      ],
      "metadata": {
        "id": "sj48o-C2mqT0"
      },
      "execution_count": 44,
      "outputs": []
    },
    {
      "cell_type": "code",
      "source": [
        "#1. Ingestion & Exploration\n",
        "employees = spark.read.option(\"header\", True).option(\"inferSchema\", True).csv(\"employees.csv\")\n",
        "attendance = spark.read.option(\"header\", True).option(\"inferSchema\", True).csv(\"attendance.csv\")\n",
        "bonuses = spark.read.option(\"multiline\", True).json(\"bonuses.json\")\n"
      ],
      "metadata": {
        "id": "a7RA1rwGmqWd"
      },
      "execution_count": 45,
      "outputs": []
    },
    {
      "cell_type": "code",
      "source": [
        "employees.printSchema()\n",
        "employees.show()\n",
        "\n",
        "attendance.printSchema()\n",
        "attendance.show()\n",
        "\n",
        "bonuses.printSchema()\n",
        "bonuses.show()"
      ],
      "metadata": {
        "colab": {
          "base_uri": "https://localhost:8080/"
        },
        "id": "n86bUQIX-ZaL",
        "outputId": "d6605c62-2e76-49ae-ed2f-2344ea976afe"
      },
      "execution_count": 46,
      "outputs": [
        {
          "output_type": "stream",
          "name": "stdout",
          "text": [
            "root\n",
            " |-- EmpID: integer (nullable = true)\n",
            " |-- Name: string (nullable = true)\n",
            " |-- Department: string (nullable = true)\n",
            " |-- JoinDate: date (nullable = true)\n",
            " |-- Salary: integer (nullable = true)\n",
            " |-- ManagerID: integer (nullable = true)\n",
            "\n",
            "+-----+------+-----------+----------+------+---------+\n",
            "|EmpID|  Name| Department|  JoinDate|Salary|ManagerID|\n",
            "+-----+------+-----------+----------+------+---------+\n",
            "|    1| Anita|         HR|2021-05-01| 55000|     NULL|\n",
            "|    2|   Raj|Engineering|2020-03-15| 80000|        1|\n",
            "|    3|Simran|Engineering|2022-07-10| 75000|        1|\n",
            "|    4| Aamir|  Marketing|2019-11-20| 60000|        1|\n",
            "|    5| Nisha|         HR|2023-01-05| 50000|        1|\n",
            "+-----+------+-----------+----------+------+---------+\n",
            "\n",
            "root\n",
            " |-- EmpID: integer (nullable = true)\n",
            " |-- Date: date (nullable = true)\n",
            " |-- Status: string (nullable = true)\n",
            "\n",
            "+-----+----------+-------+\n",
            "|EmpID|      Date| Status|\n",
            "+-----+----------+-------+\n",
            "|    1|2024-04-01|Present|\n",
            "|    1|2024-04-02|Present|\n",
            "|    2|2024-04-01| Absent|\n",
            "|    2|2024-04-02|Present|\n",
            "|    3|2024-04-01|Present|\n",
            "|    3|2024-04-02|Present|\n",
            "|    4|2024-04-01| Absent|\n",
            "|    4|2024-04-02| Absent|\n",
            "|    5|2024-04-01|Present|\n",
            "|    5|2024-04-02|Present|\n",
            "+-----+----------+-------+\n",
            "\n",
            "root\n",
            " |-- Bonus: long (nullable = true)\n",
            " |-- EmpID: long (nullable = true)\n",
            " |-- Year: long (nullable = true)\n",
            "\n",
            "+-----+-----+----+\n",
            "|Bonus|EmpID|Year|\n",
            "+-----+-----+----+\n",
            "| 5000|    1|2023|\n",
            "| 7000|    2|2023|\n",
            "| 6500|    3|2023|\n",
            "| 6000|    4|2023|\n",
            "| 4000|    5|2023|\n",
            "+-----+-----+----+\n",
            "\n"
          ]
        }
      ]
    },
    {
      "cell_type": "code",
      "source": [
        "employees.select(\"Department\").distinct().count()"
      ],
      "metadata": {
        "colab": {
          "base_uri": "https://localhost:8080/"
        },
        "id": "J1mskZPZ-Zgh",
        "outputId": "31ec8812-f01c-4778-ebc0-10f9b5fae499"
      },
      "execution_count": 47,
      "outputs": [
        {
          "output_type": "execute_result",
          "data": {
            "text/plain": [
              "3"
            ]
          },
          "metadata": {},
          "execution_count": 47
        }
      ]
    },
    {
      "source": [
        "#2. DataFrame Operation\n",
        "\n",
        "employees = employees.withColumn(\"TenureYears\", round(datediff(current_date(), col(\"JoinDate\")) / 365, 2))\n"
      ],
      "cell_type": "code",
      "metadata": {
        "id": "MdfOkGh910dj"
      },
      "execution_count": 48,
      "outputs": []
    },
    {
      "cell_type": "code",
      "source": [
        "emp_bonus = employees.join(bonuses, \"EmpID\")\n",
        "emp_bonus = emp_bonus.withColumn(\"TotalCompensation\", col(\"Salary\") + col(\"Bonus\"))"
      ],
      "metadata": {
        "id": "jKqhcQPB-vbX"
      },
      "execution_count": 49,
      "outputs": []
    },
    {
      "cell_type": "code",
      "source": [
        "emp_bonus.filter(col(\"TenureYears\") > 2).show()\n"
      ],
      "metadata": {
        "colab": {
          "base_uri": "https://localhost:8080/"
        },
        "id": "9bHc5f7H-vif",
        "outputId": "650a1cb6-848a-4610-86a1-d6fdb5de5219"
      },
      "execution_count": 50,
      "outputs": [
        {
          "output_type": "stream",
          "name": "stdout",
          "text": [
            "+-----+------+-----------+----------+------+---------+-----------+-----+----+-----------------+\n",
            "|EmpID|  Name| Department|  JoinDate|Salary|ManagerID|TenureYears|Bonus|Year|TotalCompensation|\n",
            "+-----+------+-----------+----------+------+---------+-----------+-----+----+-----------------+\n",
            "|    1| Anita|         HR|2021-05-01| 55000|     NULL|       4.11| 5000|2023|            60000|\n",
            "|    2|   Raj|Engineering|2020-03-15| 80000|        1|       5.24| 7000|2023|            87000|\n",
            "|    3|Simran|Engineering|2022-07-10| 75000|        1|       2.92| 6500|2023|            81500|\n",
            "|    4| Aamir|  Marketing|2019-11-20| 60000|        1|       5.56| 6000|2023|            66000|\n",
            "|    5| Nisha|         HR|2023-01-05| 50000|        1|       2.43| 4000|2023|            54000|\n",
            "+-----+------+-----------+----------+------+---------+-----------+-----+----+-----------------+\n",
            "\n"
          ]
        }
      ]
    },
    {
      "cell_type": "code",
      "source": [
        "employees.filter(col(\"ManagerID\").isNotNull()).show()\n"
      ],
      "metadata": {
        "colab": {
          "base_uri": "https://localhost:8080/"
        },
        "id": "VVqWlgfB-vpw",
        "outputId": "df0e784b-dbf7-4b65-ace1-b8fe83f8b102"
      },
      "execution_count": 51,
      "outputs": [
        {
          "output_type": "stream",
          "name": "stdout",
          "text": [
            "+-----+------+-----------+----------+------+---------+-----------+\n",
            "|EmpID|  Name| Department|  JoinDate|Salary|ManagerID|TenureYears|\n",
            "+-----+------+-----------+----------+------+---------+-----------+\n",
            "|    2|   Raj|Engineering|2020-03-15| 80000|        1|       5.24|\n",
            "|    3|Simran|Engineering|2022-07-10| 75000|        1|       2.92|\n",
            "|    4| Aamir|  Marketing|2019-11-20| 60000|        1|       5.56|\n",
            "|    5| Nisha|         HR|2023-01-05| 50000|        1|       2.43|\n",
            "+-----+------+-----------+----------+------+---------+-----------+\n",
            "\n"
          ]
        }
      ]
    },
    {
      "source": [
        "#3. Aggregation\n",
        "\n",
        "employees.groupBy(\"Department\").agg(avg(\"Salary\").alias(\"AvgSalary\")).show()\n"
      ],
      "cell_type": "code",
      "metadata": {
        "colab": {
          "base_uri": "https://localhost:8080/"
        },
        "id": "KDG0FKtf2dtP",
        "outputId": "72f82c4a-b19f-45ba-8528-ed9a31ad8d8d"
      },
      "execution_count": 52,
      "outputs": [
        {
          "output_type": "stream",
          "name": "stdout",
          "text": [
            "+-----------+---------+\n",
            "| Department|AvgSalary|\n",
            "+-----------+---------+\n",
            "|Engineering|  77500.0|\n",
            "|         HR|  52500.0|\n",
            "|  Marketing|  60000.0|\n",
            "+-----------+---------+\n",
            "\n"
          ]
        }
      ]
    },
    {
      "cell_type": "code",
      "source": [
        "employees.groupBy(\"ManagerID\").count().alias(\"NumEmployees\").show()\n"
      ],
      "metadata": {
        "colab": {
          "base_uri": "https://localhost:8080/"
        },
        "id": "nB-P4saO-5h4",
        "outputId": "30178fcc-5a57-4ff7-b918-8a4c942ce8a8"
      },
      "execution_count": 53,
      "outputs": [
        {
          "output_type": "stream",
          "name": "stdout",
          "text": [
            "+---------+-----+\n",
            "|ManagerID|count|\n",
            "+---------+-----+\n",
            "|     NULL|    1|\n",
            "|        1|    4|\n",
            "+---------+-----+\n",
            "\n"
          ]
        }
      ]
    },
    {
      "cell_type": "code",
      "source": [
        "attendance.filter(col(\"Status\") == \"Absent\").groupBy(\"EmpID\").count().withColumnRenamed(\"count\", \"AbsenceCount\").show()"
      ],
      "metadata": {
        "colab": {
          "base_uri": "https://localhost:8080/"
        },
        "id": "AciwlBMA-5q5",
        "outputId": "4d7e0516-96a4-4ca7-cfb0-3b6f85677002"
      },
      "execution_count": 54,
      "outputs": [
        {
          "output_type": "stream",
          "name": "stdout",
          "text": [
            "+-----+------------+\n",
            "|EmpID|AbsenceCount|\n",
            "+-----+------------+\n",
            "|    4|           2|\n",
            "|    2|           1|\n",
            "+-----+------------+\n",
            "\n"
          ]
        }
      ]
    },
    {
      "source": [
        "#4. Joins\n",
        "\n",
        "att_summary = attendance.groupBy(\"EmpID\").pivot(\"Status\").count().fillna(0)\n",
        "att_summary = att_summary.withColumn(\"TotalDays\", col(\"Present\") + col(\"Absent\"))\n",
        "att_summary = att_summary.withColumn(\"AttendancePercent\", round(col(\"Present\") / col(\"TotalDays\") * 100, 2))"
      ],
      "cell_type": "code",
      "metadata": {
        "id": "yKclaTQX2lB4"
      },
      "execution_count": 55,
      "outputs": []
    },
    {
      "cell_type": "code",
      "source": [
        "emp_attendance = employees.join(att_summary, \"EmpID\", \"left\")\n",
        "emp_attendance.select(\"EmpID\", \"Name\", \"AttendancePercent\").show()"
      ],
      "metadata": {
        "colab": {
          "base_uri": "https://localhost:8080/"
        },
        "id": "oxJihrCm_GUX",
        "outputId": "f20fbc9c-cfce-472a-93e2-8968662909f8"
      },
      "execution_count": 56,
      "outputs": [
        {
          "output_type": "stream",
          "name": "stdout",
          "text": [
            "+-----+------+-----------------+\n",
            "|EmpID|  Name|AttendancePercent|\n",
            "+-----+------+-----------------+\n",
            "|    1| Anita|            100.0|\n",
            "|    2|   Raj|             50.0|\n",
            "|    3|Simran|            100.0|\n",
            "|    4| Aamir|              0.0|\n",
            "|    5| Nisha|            100.0|\n",
            "+-----+------+-----------------+\n",
            "\n"
          ]
        }
      ]
    },
    {
      "cell_type": "code",
      "source": [
        "top_comp = emp_bonus.orderBy(col(\"TotalCompensation\").desc()).limit(3)\n",
        "top_comp.select(\"EmpID\", \"Name\", \"TotalCompensation\").show()"
      ],
      "metadata": {
        "colab": {
          "base_uri": "https://localhost:8080/"
        },
        "id": "RC3Zq_odEH3U",
        "outputId": "a5f0f4f4-80ec-4684-a03a-548f63a5c10a"
      },
      "execution_count": 57,
      "outputs": [
        {
          "output_type": "stream",
          "name": "stdout",
          "text": [
            "+-----+------+-----------------+\n",
            "|EmpID|  Name|TotalCompensation|\n",
            "+-----+------+-----------------+\n",
            "|    2|   Raj|            87000|\n",
            "|    3|Simran|            81500|\n",
            "|    4| Aamir|            66000|\n",
            "+-----+------+-----------------+\n",
            "\n"
          ]
        }
      ]
    },
    {
      "cell_type": "code",
      "source": [
        "multi_join = employees.join(bonuses, \"EmpID\").join(att_summary, \"EmpID\")\n",
        "multi_join.show()"
      ],
      "metadata": {
        "colab": {
          "base_uri": "https://localhost:8080/"
        },
        "id": "TggYUKR9IXdj",
        "outputId": "98d6676a-e4f7-4353-83c4-a33d7a4c6759"
      },
      "execution_count": 58,
      "outputs": [
        {
          "output_type": "stream",
          "name": "stdout",
          "text": [
            "+-----+------+-----------+----------+------+---------+-----------+-----+----+------+-------+---------+-----------------+\n",
            "|EmpID|  Name| Department|  JoinDate|Salary|ManagerID|TenureYears|Bonus|Year|Absent|Present|TotalDays|AttendancePercent|\n",
            "+-----+------+-----------+----------+------+---------+-----------+-----+----+------+-------+---------+-----------------+\n",
            "|    1| Anita|         HR|2021-05-01| 55000|     NULL|       4.11| 5000|2023|     0|      2|        2|            100.0|\n",
            "|    2|   Raj|Engineering|2020-03-15| 80000|        1|       5.24| 7000|2023|     1|      1|        2|             50.0|\n",
            "|    3|Simran|Engineering|2022-07-10| 75000|        1|       2.92| 6500|2023|     0|      2|        2|            100.0|\n",
            "|    4| Aamir|  Marketing|2019-11-20| 60000|        1|       5.56| 6000|2023|     2|      0|        2|              0.0|\n",
            "|    5| Nisha|         HR|2023-01-05| 50000|        1|       2.43| 4000|2023|     0|      2|        2|            100.0|\n",
            "+-----+------+-----------+----------+------+---------+-----------+-----+----+------+-------+---------+-----------------+\n",
            "\n"
          ]
        }
      ]
    },
    {
      "cell_type": "code",
      "source": [
        "#String & Date Functions\n",
        "\n",
        "employees = employees.withColumn(\"JoinYear\", year(\"JoinDate\")).withColumn(\"JoinMonth\", month(\"JoinDate\"))"
      ],
      "metadata": {
        "id": "oBMbuXmtmqZM"
      },
      "execution_count": 59,
      "outputs": []
    },
    {
      "cell_type": "code",
      "source": [
        "employees = employees.withColumn(\"MaskedName\", regexp_replace(\"Name\", \"(?<=.).\", \"*\"))"
      ],
      "metadata": {
        "id": "EScu2TUmFEkA"
      },
      "execution_count": 60,
      "outputs": []
    },
    {
      "cell_type": "code",
      "source": [
        "employees = employees.withColumn(\"EmpCode\", concat(lit(\"EMP\"), lpad(col(\"EmpID\"), 3, \"0\")))\n",
        "employees.select(\"EmpID\", \"Name\", \"EmpCode\").show()"
      ],
      "metadata": {
        "colab": {
          "base_uri": "https://localhost:8080/"
        },
        "id": "pH2gIe63FEpa",
        "outputId": "5fd12f29-86b6-4af7-f5e4-ea2715729ada"
      },
      "execution_count": 61,
      "outputs": [
        {
          "output_type": "stream",
          "name": "stdout",
          "text": [
            "+-----+------+-------+\n",
            "|EmpID|  Name|EmpCode|\n",
            "+-----+------+-------+\n",
            "|    1| Anita| EMP001|\n",
            "|    2|   Raj| EMP002|\n",
            "|    3|Simran| EMP003|\n",
            "|    4| Aamir| EMP004|\n",
            "|    5| Nisha| EMP005|\n",
            "+-----+------+-------+\n",
            "\n"
          ]
        }
      ]
    },
    {
      "cell_type": "code",
      "source": [
        "#Conditional & Null handling\n",
        "\n",
        "bonuses = bonuses.withColumn(\"Performance\",\n",
        "    when(col(\"Bonus\") > 6000, \"High\")\n",
        "    .when((col(\"Bonus\") >= 4000) & (col(\"Bonus\") <= 6000), \"Medium\")\n",
        "    .otherwise(\"Low\")\n",
        ")"
      ],
      "metadata": {
        "id": "H4lSoZcdFFAd"
      },
      "execution_count": 62,
      "outputs": []
    },
    {
      "cell_type": "code",
      "source": [
        "employees = employees.fillna({\"ManagerID\": \"No Manager\"})\n"
      ],
      "metadata": {
        "id": "cqQRQOFGFLb_"
      },
      "execution_count": 63,
      "outputs": []
    },
    {
      "cell_type": "code",
      "source": [
        "#7. Spark SQL\n",
        "\n",
        "spark.sql(\"CREATE DATABASE IF NOT EXISTS hr\")\n",
        "spark.catalog.setCurrentDatabase(\"hr\")"
      ],
      "metadata": {
        "id": "Kp44RNdgFLq9"
      },
      "execution_count": 64,
      "outputs": []
    },
    {
      "cell_type": "code",
      "source": [
        "employees.write.mode(\"overwrite\").saveAsTable(\"employees\")\n",
        "attendance.write.mode(\"overwrite\").saveAsTable(\"attendance\")\n",
        "bonuses.write.mode(\"overwrite\").saveAsTable(\"bonuses\")"
      ],
      "metadata": {
        "id": "Sygf5v8mFQ2v"
      },
      "execution_count": 65,
      "outputs": []
    },
    {
      "cell_type": "code",
      "source": [
        "spark.sql(\"\"\"\n",
        "SELECT Department, Name, Salary\n",
        "FROM employees\n",
        "WHERE Salary = (SELECT MAX(Salary) FROM employees e2 WHERE e2.Department = employees.Department)\n",
        "\"\"\").show()\n",
        "\n",
        "spark.sql(\"\"\"\n",
        "SELECT e.Department,\n",
        "       ROUND(100 * SUM(CASE WHEN a.Status = 'Present' THEN 1 ELSE 0 END)/COUNT(*), 2) AS AttendanceRate\n",
        "FROM employees e JOIN attendance a ON e.EmpID = a.EmpID\n",
        "GROUP BY e.Department\n",
        "\"\"\").show()\n",
        "\n",
        "spark.sql(\"\"\"\n",
        "SELECT * FROM employees\n",
        "WHERE year(JoinDate) > 2021 AND Salary > 70000\n",
        "\"\"\").show()"
      ],
      "metadata": {
        "colab": {
          "base_uri": "https://localhost:8080/"
        },
        "id": "fbbl6b4TJeHT",
        "outputId": "4b4effdd-1f81-42fb-ebac-0bdbf2894a6f"
      },
      "execution_count": 66,
      "outputs": [
        {
          "output_type": "stream",
          "name": "stdout",
          "text": [
            "+-----------+-----+------+\n",
            "| Department| Name|Salary|\n",
            "+-----------+-----+------+\n",
            "|         HR|Anita| 55000|\n",
            "|Engineering|  Raj| 80000|\n",
            "|  Marketing|Aamir| 60000|\n",
            "+-----------+-----+------+\n",
            "\n",
            "+-----------+--------------+\n",
            "| Department|AttendanceRate|\n",
            "+-----------+--------------+\n",
            "|Engineering|          75.0|\n",
            "|         HR|         100.0|\n",
            "|  Marketing|           0.0|\n",
            "+-----------+--------------+\n",
            "\n",
            "+-----+------+-----------+----------+------+---------+-----------+--------+---------+----------+-------+\n",
            "|EmpID|  Name| Department|  JoinDate|Salary|ManagerID|TenureYears|JoinYear|JoinMonth|MaskedName|EmpCode|\n",
            "+-----+------+-----------+----------+------+---------+-----------+--------+---------+----------+-------+\n",
            "|    3|Simran|Engineering|2022-07-10| 75000|        1|       2.92|    2022|        7|    S*****| EMP003|\n",
            "+-----+------+-----------+----------+------+---------+-----------+--------+---------+----------+-------+\n",
            "\n"
          ]
        }
      ]
    },
    {
      "cell_type": "code",
      "source": [
        "#8. Advance (optional)\n",
        "\n",
        "from pyspark.sql.types import StringType\n",
        "from pyspark.sql.functions import udf\n",
        "\n",
        "def classify_dept(dept):\n",
        "    return \"Tech\" if dept in [\"Engineering\"] else \"Non-Tech\""
      ],
      "metadata": {
        "id": "aBKT_AdiFSIH"
      },
      "execution_count": 67,
      "outputs": []
    },
    {
      "cell_type": "code",
      "source": [
        "dept_udf = udf(classify_dept, StringType())\n",
        "employees = employees.withColumn(\"DeptCategory\", dept_udf(\"Department\"))"
      ],
      "metadata": {
        "id": "nk9vTXLAFavJ"
      },
      "execution_count": 68,
      "outputs": []
    },
    {
      "cell_type": "code",
      "source": [
        "emp_attendance_summary = emp_attendance.select(\"EmpID\", \"Name\", \"Department\", \"AttendancePercent\")\n",
        "emp_attendance_summary.createOrReplaceTempView(\"emp_attendance_summary\")"
      ],
      "metadata": {
        "id": "OCjC_pZomqb7"
      },
      "execution_count": 69,
      "outputs": []
    },
    {
      "cell_type": "code",
      "source": [
        "emp_attendance_summary.write.mode(\"overwrite\").partitionBy(\"Department\").parquet(\"emp_attendance_summary.parquet\")"
      ],
      "metadata": {
        "id": "LOX5G2LTmqfd"
      },
      "execution_count": 70,
      "outputs": []
    },
    {
      "cell_type": "code",
      "source": [],
      "metadata": {
        "id": "XS4ivAvbJ0zT"
      },
      "execution_count": 42,
      "outputs": []
    }
  ]
}