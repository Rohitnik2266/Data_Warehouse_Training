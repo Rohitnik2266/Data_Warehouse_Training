{
 "cells": [
  {
   "cell_type": "code",
   "execution_count": 0,
   "metadata": {
    "application/vnd.databricks.v1+cell": {
     "cellMetadata": {
      "byteLimit": 2048000,
      "rowLimit": 10000
     },
     "inputWidgets": {},
     "nuid": "35321114-21cc-4bc3-9b78-7d14015babec",
     "showTitle": false,
     "tableResultSettingsMap": {},
     "title": ""
    }
   },
   "outputs": [
    {
     "output_type": "execute_result",
     "data": {
      "text/html": [
       "\n",
       "            <div>\n",
       "                <p><b>SparkSession - hive</b></p>\n",
       "                \n",
       "        <div>\n",
       "            <p><b>SparkContext</b></p>\n",
       "\n",
       "            <p><a href=\"/?o=2342854597430550#setting/sparkui/0612-123310-2108yh11/driver-5266839468827761896\">Spark UI</a></p>\n",
       "\n",
       "            <dl>\n",
       "              <dt>Version</dt>\n",
       "                <dd><code>v3.5.0</code></dd>\n",
       "              <dt>Master</dt>\n",
       "                <dd><code>local[*, 4]</code></dd>\n",
       "              <dt>AppName</dt>\n",
       "                <dd><code>Databricks Shell</code></dd>\n",
       "            </dl>\n",
       "        </div>\n",
       "        \n",
       "            </div>\n",
       "        "
      ],
      "text/plain": [
       "<pyspark.sql.session.SparkSession at 0x746b84278950>"
      ]
     },
     "execution_count": 4,
     "metadata": {},
     "output_type": "execute_result"
    }
   ],
   "source": [
    "from pyspark.sql import SparkSession\n",
    "from pyspark.sql.functions import *\n",
    "spark = SparkSession.builder.appName(\"Online Course Learning Platform Analytics\").getOrCreate()\n",
    "spark"
   ]
  },
  {
   "cell_type": "code",
   "execution_count": 0,
   "metadata": {
    "application/vnd.databricks.v1+cell": {
     "cellMetadata": {
      "byteLimit": 2048000,
      "rowLimit": 10000
     },
     "inputWidgets": {},
     "nuid": "87b19228-2b60-431f-ab6a-89b1c3291505",
     "showTitle": false,
     "tableResultSettingsMap": {},
     "title": ""
    }
   },
   "outputs": [
    {
     "output_type": "stream",
     "name": "stdout",
     "output_type": "stream",
     "text": [
      "+--------+------+--------+-----------------+------------+----------+--------------+---------------+------+\n|EnrollID|UserID|CourseID|       CourseName|    Category|EnrollDate|CompletionDate|ProgressPercent|Rating|\n+--------+------+--------+-----------------+------------+----------+--------------+---------------+------+\n|    E001|  U001|    C001|    Python Basics| Programming|2024-04-01|    2024-04-10|            100|     4|\n|    E002|  U002|    C002|Excel for Finance|Productivity|2024-04-02|          NULL|             45|  NULL|\n|    E003|  U001|    C003|  ML with PySpark|Data Science|2024-04-03|          NULL|             30|  NULL|\n|    E004|  U003|    C001|    Python Basics| Programming|2024-04-04|    2024-04-20|            100|     5|\n|    E005|  U004|    C004|Digital Marketing|   Marketing|2024-04-05|    2024-04-16|            100|     4|\n+--------+------+--------+-----------------+------------+----------+--------------+---------------+------+\n\n"
     ]
    }
   ],
   "source": [
    "df_infra = spark.read.csv(\"dbfs:/FileStore/shared_uploads/azuser3559_mml.local@techademy.com/course_enrollments_.csv\", header=True, inferSchema=True)\n",
    "df_infra.show()"
   ]
  },
  {
   "cell_type": "code",
   "execution_count": 0,
   "metadata": {
    "application/vnd.databricks.v1+cell": {
     "cellMetadata": {
      "byteLimit": 2048000,
      "rowLimit": 10000
     },
     "inputWidgets": {},
     "nuid": "3c9a1be2-89bc-4e1c-abc3-f9eb7b1f0256",
     "showTitle": false,
     "tableResultSettingsMap": {},
     "title": ""
    }
   },
   "outputs": [
    {
     "output_type": "stream",
     "name": "stdout",
     "output_type": "stream",
     "text": [
      "+--------+------+--------+-----------------+------------+----------+--------------+---------------+------+\n|EnrollID|UserID|CourseID|       CourseName|    Category|EnrollDate|CompletionDate|ProgressPercent|Rating|\n+--------+------+--------+-----------------+------------+----------+--------------+---------------+------+\n|    E001|  U001|    C001|    Python Basics| Programming|2024-04-01|    2024-04-10|            100|     4|\n|    E002|  U002|    C002|Excel for Finance|Productivity|2024-04-02|          NULL|             45|  NULL|\n|    E003|  U001|    C003|  ML with PySpark|Data Science|2024-04-03|          NULL|             30|  NULL|\n|    E004|  U003|    C001|    Python Basics| Programming|2024-04-04|    2024-04-20|            100|     5|\n|    E005|  U004|    C004|Digital Marketing|   Marketing|2024-04-05|    2024-04-16|            100|     4|\n+--------+------+--------+-----------------+------------+----------+--------------+---------------+------+\n\n"
     ]
    }
   ],
   "source": [
    "df_date = df_infra.withColumn(\"EnrollDate\", to_date(\"EnrollDate\"))  .withColumn(\"CompletionDate\", to_date(\"CompletionDate\"))\n",
    "df_date.show()"
   ]
  },
  {
   "cell_type": "code",
   "execution_count": 0,
   "metadata": {
    "application/vnd.databricks.v1+cell": {
     "cellMetadata": {
      "byteLimit": 2048000,
      "rowLimit": 10000
     },
     "inputWidgets": {},
     "nuid": "240bdeaf-df72-459d-bd35-204b766dca5f",
     "showTitle": false,
     "tableResultSettingsMap": {},
     "title": ""
    }
   },
   "outputs": [
    {
     "output_type": "stream",
     "name": "stdout",
     "output_type": "stream",
     "text": [
      "+--------+------+--------+-----------------+------------+----------+--------------+---------------+------+--------------+\n|EnrollID|UserID|CourseID|       CourseName|    Category|EnrollDate|CompletionDate|ProgressPercent|Rating|DaysToComplete|\n+--------+------+--------+-----------------+------------+----------+--------------+---------------+------+--------------+\n|    E001|  U001|    C001|    Python Basics| Programming|2024-04-01|    2024-04-10|            100|     4|             9|\n|    E002|  U002|    C002|Excel for Finance|Productivity|2024-04-02|          NULL|             45|  NULL|          NULL|\n|    E003|  U001|    C003|  ML with PySpark|Data Science|2024-04-03|          NULL|             30|  NULL|          NULL|\n|    E004|  U003|    C001|    Python Basics| Programming|2024-04-04|    2024-04-20|            100|     5|            16|\n|    E005|  U004|    C004|Digital Marketing|   Marketing|2024-04-05|    2024-04-16|            100|     4|            11|\n+--------+------+--------+-----------------+------------+----------+--------------+---------------+------+--------------+\n\n"
     ]
    }
   ],
   "source": [
    "df_com = df_date.withColumn(\"DaysToComplete\", datediff(\"CompletionDate\", \"EnrollDate\"))\n",
    "df_com.show()"
   ]
  },
  {
   "cell_type": "code",
   "execution_count": 0,
   "metadata": {
    "application/vnd.databricks.v1+cell": {
     "cellMetadata": {
      "byteLimit": 2048000,
      "rowLimit": 10000
     },
     "inputWidgets": {},
     "nuid": "c42d0228-c244-43b5-bf65-f9634db7f5ab",
     "showTitle": false,
     "tableResultSettingsMap": {},
     "title": ""
    }
   },
   "outputs": [
    {
     "output_type": "stream",
     "name": "stdout",
     "output_type": "stream",
     "text": [
      "+------+------------+\n|UserID|TotalCourses|\n+------+------------+\n|  U004|           1|\n|  U002|           1|\n|  U003|           1|\n|  U001|           2|\n+------+------------+\n\n"
     ]
    }
   ],
   "source": [
    "df_TC = df_com.groupBy(\"UserID\").agg(count(\"*\").alias(\"TotalCourses\"))\n",
    "df_TC.show()"
   ]
  },
  {
   "cell_type": "code",
   "execution_count": 0,
   "metadata": {
    "application/vnd.databricks.v1+cell": {
     "cellMetadata": {
      "byteLimit": 2048000,
      "rowLimit": 10000
     },
     "inputWidgets": {},
     "nuid": "ce484d66-008b-4ff5-96d2-d520a9070783",
     "showTitle": false,
     "tableResultSettingsMap": {},
     "title": ""
    }
   },
   "outputs": [
    {
     "output_type": "stream",
     "name": "stdout",
     "output_type": "stream",
     "text": [
      "+------+-----------+\n|UserID|AvgProgress|\n+------+-----------+\n|  U004|      100.0|\n|  U002|       45.0|\n|  U003|      100.0|\n|  U001|       65.0|\n+------+-----------+\n\n"
     ]
    }
   ],
   "source": [
    "df_AP = df_com.groupBy(\"UserID\").agg(avg(\"ProgressPercent\").alias(\"AvgProgress\"))\n",
    "df_AP.show()"
   ]
  },
  {
   "cell_type": "code",
   "execution_count": 0,
   "metadata": {
    "application/vnd.databricks.v1+cell": {
     "cellMetadata": {
      "byteLimit": 2048000,
      "rowLimit": 10000
     },
     "inputWidgets": {},
     "nuid": "ef2e517d-8ce0-41cc-a47d-ba541ffeb7f6",
     "showTitle": false,
     "tableResultSettingsMap": {},
     "title": ""
    }
   },
   "outputs": [
    {
     "output_type": "stream",
     "name": "stdout",
     "output_type": "stream",
     "text": [
      "+--------+------+--------+-----------------+------------+----------+--------------+---------------+------+--------------+-----------+\n|EnrollID|UserID|CourseID|       CourseName|    Category|EnrollDate|CompletionDate|ProgressPercent|Rating|DaysToComplete|IsCompleted|\n+--------+------+--------+-----------------+------------+----------+--------------+---------------+------+--------------+-----------+\n|    E001|  U001|    C001|    Python Basics| Programming|2024-04-01|    2024-04-10|            100|     4|             9|       true|\n|    E002|  U002|    C002|Excel for Finance|Productivity|2024-04-02|          NULL|             45|  NULL|          NULL|      false|\n|    E003|  U001|    C003|  ML with PySpark|Data Science|2024-04-03|          NULL|             30|  NULL|          NULL|      false|\n|    E004|  U003|    C001|    Python Basics| Programming|2024-04-04|    2024-04-20|            100|     5|            16|       true|\n|    E005|  U004|    C004|Digital Marketing|   Marketing|2024-04-05|    2024-04-16|            100|     4|            11|       true|\n+--------+------+--------+-----------------+------------+----------+--------------+---------------+------+--------------+-----------+\n\n"
     ]
    }
   ],
   "source": [
    "df_IC = df_com.withColumn(\"IsCompleted\", (col(\"ProgressPercent\") == 100))\n",
    "df_IC.show()"
   ]
  },
  {
   "cell_type": "code",
   "execution_count": 0,
   "metadata": {
    "application/vnd.databricks.v1+cell": {
     "cellMetadata": {
      "byteLimit": 2048000,
      "rowLimit": 10000
     },
     "inputWidgets": {},
     "nuid": "7ed3d3b3-052c-490e-9e1d-8e3180da0567",
     "showTitle": false,
     "tableResultSettingsMap": {},
     "title": ""
    }
   },
   "outputs": [
    {
     "output_type": "stream",
     "name": "stdout",
     "output_type": "stream",
     "text": [
      "+--------+------+--------+-----------------+------------+----------+--------------+---------------+------+--------------+-----------+\n|EnrollID|UserID|CourseID|       CourseName|    Category|EnrollDate|CompletionDate|ProgressPercent|Rating|DaysToComplete|IsCompleted|\n+--------+------+--------+-----------------+------------+----------+--------------+---------------+------+--------------+-----------+\n|    E001|  U001|    C001|    Python Basics| Programming|2024-04-01|    2024-04-10|            100|   4.0|             9|       true|\n|    E002|  U002|    C002|Excel for Finance|Productivity|2024-04-02|          NULL|             45|   0.0|          NULL|      false|\n|    E003|  U001|    C003|  ML with PySpark|Data Science|2024-04-03|          NULL|             30|   0.0|          NULL|      false|\n|    E004|  U003|    C001|    Python Basics| Programming|2024-04-04|    2024-04-20|            100|   5.0|            16|       true|\n|    E005|  U004|    C004|Digital Marketing|   Marketing|2024-04-05|    2024-04-16|            100|   4.0|            11|       true|\n+--------+------+--------+-----------------+------------+----------+--------------+---------------+------+--------------+-----------+\n\n"
     ]
    }
   ],
   "source": [
    "df_NN = df_IC.withColumn(\"Rating\", when(col(\"Rating\").isNull(), 0.0).otherwise(col(\"Rating\")))\n",
    "df_NN.show()"
   ]
  },
  {
   "cell_type": "code",
   "execution_count": 0,
   "metadata": {
    "application/vnd.databricks.v1+cell": {
     "cellMetadata": {
      "byteLimit": 2048000,
      "rowLimit": 10000
     },
     "inputWidgets": {},
     "nuid": "f1e149e1-fade-4cd2-b3b2-9bbfdf8d2975",
     "showTitle": false,
     "tableResultSettingsMap": {},
     "title": ""
    }
   },
   "outputs": [
    {
     "output_type": "stream",
     "name": "stdout",
     "output_type": "stream",
     "text": [
      "+--------+------+--------+-----------------+------------+----------+--------------+---------------+------+--------------+-----------+---------------+\n|EnrollID|UserID|CourseID|       CourseName|    Category|EnrollDate|CompletionDate|ProgressPercent|Rating|DaysToComplete|IsCompleted|EngagementScore|\n+--------+------+--------+-----------------+------------+----------+--------------+---------------+------+--------------+-----------+---------------+\n|    E001|  U001|    C001|    Python Basics| Programming|2024-04-01|    2024-04-10|            100|   4.0|             9|       true|          400.0|\n|    E002|  U002|    C002|Excel for Finance|Productivity|2024-04-02|          NULL|             45|   0.0|          NULL|      false|            0.0|\n|    E003|  U001|    C003|  ML with PySpark|Data Science|2024-04-03|          NULL|             30|   0.0|          NULL|      false|            0.0|\n|    E004|  U003|    C001|    Python Basics| Programming|2024-04-04|    2024-04-20|            100|   5.0|            16|       true|          500.0|\n|    E005|  U004|    C004|Digital Marketing|   Marketing|2024-04-05|    2024-04-16|            100|   4.0|            11|       true|          400.0|\n+--------+------+--------+-----------------+------------+----------+--------------+---------------+------+--------------+-----------+---------------+\n\n"
     ]
    }
   ],
   "source": [
    "df_ES = df_NN.withColumn(\"EngagementScore\", col(\"ProgressPercent\") * col(\"Rating\"))\n",
    "df_ES.show()\n"
   ]
  },
  {
   "cell_type": "code",
   "execution_count": 0,
   "metadata": {
    "application/vnd.databricks.v1+cell": {
     "cellMetadata": {
      "byteLimit": 2048000,
      "rowLimit": 10000
     },
     "inputWidgets": {},
     "nuid": "682bd2eb-27be-4ac0-977c-81bebea518bb",
     "showTitle": false,
     "tableResultSettingsMap": {},
     "title": ""
    }
   },
   "outputs": [
    {
     "output_type": "stream",
     "name": "stdout",
     "output_type": "stream",
     "text": [
      "+--------+------+--------+-----------------+------------+----------+--------------+---------------+------+--------------+-----------+---------------+\n|EnrollID|UserID|CourseID|       CourseName|    Category|EnrollDate|CompletionDate|ProgressPercent|Rating|DaysToComplete|IsCompleted|EngagementScore|\n+--------+------+--------+-----------------+------------+----------+--------------+---------------+------+--------------+-----------+---------------+\n|    E002|  U002|    C002|Excel for Finance|Productivity|2024-04-02|          NULL|             45|   0.0|          NULL|      false|            0.0|\n|    E003|  U001|    C003|  ML with PySpark|Data Science|2024-04-03|          NULL|             30|   0.0|          NULL|      false|            0.0|\n+--------+------+--------+-----------------+------------+----------+--------------+---------------+------+--------------+-----------+---------------+\n\n"
     ]
    }
   ],
   "source": [
    "df_dropout = df_ES.filter((col(\"ProgressPercent\") < 50) & col(\"CompletionDate\").isNull())\n",
    "df_dropout.createOrReplaceTempView(\"Dropouts\")\n",
    "df_dropout.show()\n"
   ]
  },
  {
   "cell_type": "code",
   "execution_count": 0,
   "metadata": {
    "application/vnd.databricks.v1+cell": {
     "cellMetadata": {
      "byteLimit": 2048000,
      "rowLimit": 10000
     },
     "inputWidgets": {},
     "nuid": "d1da43d6-627e-4b33-976c-e81ef0dff24a",
     "showTitle": false,
     "tableResultSettingsMap": {},
     "title": ""
    }
   },
   "outputs": [
    {
     "output_type": "stream",
     "name": "stdout",
     "output_type": "stream",
     "text": [
      "+--------+-------------+-------------+------------+\n|CourseID|   Instructor|DurationHours|       Level|\n+--------+-------------+-------------+------------+\n|    C001|Abdullah Khan|            8|    Beginner|\n|    C002|   Sana Gupta|            5|    Beginner|\n|    C003| Ibrahim Khan|           10|Intermediate|\n|    C004|  Zoya Sheikh|            6|    Beginner|\n+--------+-------------+-------------+------------+\n\n"
     ]
    }
   ],
   "source": [
    "df1 = spark.read.format(\"csv\").option(\"header\", \"true\").load(\"dbfs:/FileStore/shared_uploads/azuser3559_mml.local@techademy.com/course_catalog.csv\")\n",
    "df1.show()"
   ]
  },
  {
   "cell_type": "code",
   "execution_count": 0,
   "metadata": {
    "application/vnd.databricks.v1+cell": {
     "cellMetadata": {
      "byteLimit": 2048000,
      "rowLimit": 10000
     },
     "inputWidgets": {},
     "nuid": "8b0bdea8-9792-486f-a9a1-7d4b10c8881d",
     "showTitle": false,
     "tableResultSettingsMap": {},
     "title": ""
    }
   },
   "outputs": [
    {
     "output_type": "stream",
     "name": "stdout",
     "output_type": "stream",
     "text": [
      "+--------+--------+------+-----------------+------------+----------+--------------+---------------+------+--------------+-----------+---------------+-------------+-------------+------------+\n|CourseID|EnrollID|UserID|       CourseName|    Category|EnrollDate|CompletionDate|ProgressPercent|Rating|DaysToComplete|IsCompleted|EngagementScore|   Instructor|DurationHours|       Level|\n+--------+--------+------+-----------------+------------+----------+--------------+---------------+------+--------------+-----------+---------------+-------------+-------------+------------+\n|    C001|    E001|  U001|    Python Basics| Programming|2024-04-01|    2024-04-10|            100|   4.0|             9|       true|          400.0|Abdullah Khan|            8|    Beginner|\n|    C002|    E002|  U002|Excel for Finance|Productivity|2024-04-02|          NULL|             45|   0.0|          NULL|      false|            0.0|   Sana Gupta|            5|    Beginner|\n|    C003|    E003|  U001|  ML with PySpark|Data Science|2024-04-03|          NULL|             30|   0.0|          NULL|      false|            0.0| Ibrahim Khan|           10|Intermediate|\n|    C001|    E004|  U003|    Python Basics| Programming|2024-04-04|    2024-04-20|            100|   5.0|            16|       true|          500.0|Abdullah Khan|            8|    Beginner|\n|    C004|    E005|  U004|Digital Marketing|   Marketing|2024-04-05|    2024-04-16|            100|   4.0|            11|       true|          400.0|  Zoya Sheikh|            6|    Beginner|\n+--------+--------+------+-----------------+------------+----------+--------------+---------------+------+--------------+-----------+---------------+-------------+-------------+------------+\n\n+-------------+-----------+\n|   Instructor|AvgProgress|\n+-------------+-----------+\n|  Zoya Sheikh|      100.0|\n|   Sana Gupta|       45.0|\n| Ibrahim Khan|       30.0|\n|Abdullah Khan|      100.0|\n+-------------+-----------+\n\n"
     ]
    }
   ],
   "source": [
    "df_join = df_ES.join(df1, \"CourseID\")\n",
    "df_join.show()\n",
    "df_API = df_join.groupBy(\"Instructor\").agg(avg(\"ProgressPercent\").alias(\"AvgProgress\"))\n",
    "df_API.show()"
   ]
  },
  {
   "cell_type": "code",
   "execution_count": 0,
   "metadata": {
    "application/vnd.databricks.v1+cell": {
     "cellMetadata": {
      "byteLimit": 2048000,
      "rowLimit": 10000
     },
     "inputWidgets": {},
     "nuid": "ef8edac1-756b-421f-bca0-2c5a2bc0c781",
     "showTitle": false,
     "tableResultSettingsMap": {},
     "title": ""
    }
   },
   "outputs": [
    {
     "output_type": "stream",
     "name": "stdout",
     "output_type": "stream",
     "text": [
      "+-------------+\n|   Instructor|\n+-------------+\n|Abdullah Khan|\n+-------------+\n\n"
     ]
    }
   ],
   "source": [
    "df_MSE = df_join.groupBy(\"CourseID\").count().orderBy(col(\"count\").desc()).limit(1).join(df1, \"CourseID\").select(\"Instructor\")\n",
    "df_MSE.show()\n"
   ]
  },
  {
   "cell_type": "code",
   "execution_count": 0,
   "metadata": {
    "application/vnd.databricks.v1+cell": {
     "cellMetadata": {
      "byteLimit": 2048000,
      "rowLimit": 10000
     },
     "inputWidgets": {},
     "nuid": "65184859-815b-4cae-a7f9-47b03c04963b",
     "showTitle": false,
     "tableResultSettingsMap": {},
     "title": ""
    }
   },
   "outputs": [
    {
     "output_type": "stream",
     "name": "stdout",
     "output_type": "stream",
     "text": [
      "+--------+------+--------+-----------------+------------+----------+--------------+---------------+------+--------------+-----------+---------------+\n|EnrollID|UserID|CourseID|       CourseName|    Category|EnrollDate|CompletionDate|ProgressPercent|Rating|DaysToComplete|IsCompleted|EngagementScore|\n+--------+------+--------+-----------------+------------+----------+--------------+---------------+------+--------------+-----------+---------------+\n|    E001|  U001|    C001|    Python Basics| Programming|2024-04-01|    2024-04-10|            100|   4.0|             9|       true|          400.0|\n|    E002|  U002|    C002|Excel for Finance|Productivity|2024-04-02|          NULL|             45|   0.0|          NULL|      false|            0.0|\n|    E003|  U001|    C003|  ML with PySpark|Data Science|2024-04-03|          NULL|             30|   0.0|          NULL|      false|            0.0|\n|    E004|  U003|    C001|    Python Basics| Programming|2024-04-04|    2024-04-20|            100|   5.0|            16|       true|          500.0|\n|    E005|  U004|    C004|Digital Marketing|   Marketing|2024-04-05|    2024-04-16|            100|   4.0|            11|       true|          400.0|\n+--------+------+--------+-----------------+------------+----------+--------------+---------------+------+--------------+-----------+---------------+\n\n"
     ]
    }
   ],
   "source": [
    "df_ES.write.format(\"delta\").mode(\"overwrite\").save(\"/delta/enrollments_delta\")\n",
    "spark.sql(\"CREATE TABLE IF NOT EXISTS enrollments_delta USING DELTA LOCATION '/delta/enrollments_delta'\")\n",
    "\n",
    "spark.read.format(\"delta\").load(\"/delta/enrollments_delta\").show()\n"
   ]
  },
  {
   "cell_type": "code",
   "execution_count": 0,
   "metadata": {
    "application/vnd.databricks.v1+cell": {
     "cellMetadata": {
      "byteLimit": 2048000,
      "rowLimit": 10000
     },
     "inputWidgets": {},
     "nuid": "27ca88d8-0d61-423a-b849-a3aacfd7aed8",
     "showTitle": false,
     "tableResultSettingsMap": {},
     "title": ""
    }
   },
   "outputs": [
    {
     "output_type": "display_data",
     "data": {
      "text/html": [
       "<style scoped>\n",
       "  .table-result-container {\n",
       "    max-height: 300px;\n",
       "    overflow: auto;\n",
       "  }\n",
       "  table, th, td {\n",
       "    border: 1px solid black;\n",
       "    border-collapse: collapse;\n",
       "  }\n",
       "  th, td {\n",
       "    padding: 5px;\n",
       "  }\n",
       "  th {\n",
       "    text-align: left;\n",
       "  }\n",
       "</style><div class='table-result-container'><table class='table-result'><thead style='background-color: white'><tr><th>EnrollID</th><th>UserID</th><th>CourseID</th><th>CourseName</th><th>Category</th><th>EnrollDate</th><th>CompletionDate</th><th>ProgressPercent</th><th>Rating</th><th>DaysToComplete</th><th>IsCompleted</th><th>EngagementScore</th></tr></thead><tbody><tr><td>E002</td><td>U002</td><td>C002</td><td>Excel for Finance</td><td>Productivity</td><td>2024-04-02</td><td>null</td><td>45</td><td>0.0</td><td>null</td><td>false</td><td>0.0</td></tr><tr><td>E003</td><td>U001</td><td>C003</td><td>ML with PySpark</td><td>Data Science</td><td>2024-04-03</td><td>null</td><td>30</td><td>0.0</td><td>null</td><td>false</td><td>0.0</td></tr><tr><td>E005</td><td>U004</td><td>C004</td><td>Digital Marketing</td><td>Marketing</td><td>2024-04-05</td><td>2024-04-16</td><td>100</td><td>4.0</td><td>11</td><td>true</td><td>400.0</td></tr><tr><td>E001</td><td>U001</td><td>C001</td><td>Python Basics</td><td>Programming</td><td>2024-04-01</td><td>2024-04-10</td><td>100</td><td>5.0</td><td>9</td><td>true</td><td>400.0</td></tr><tr><td>E004</td><td>U003</td><td>C001</td><td>Python Basics</td><td>Programming</td><td>2024-04-04</td><td>2024-04-20</td><td>100</td><td>5.0</td><td>16</td><td>true</td><td>500.0</td></tr></tbody></table></div>"
      ]
     },
     "metadata": {
      "application/vnd.databricks.v1+output": {
       "addedWidgets": {},
       "aggData": [],
       "aggError": "",
       "aggOverflow": false,
       "aggSchema": [],
       "aggSeriesLimitReached": false,
       "aggType": "",
       "arguments": {},
       "columnCustomDisplayInfos": {},
       "data": [
        [
         "E002",
         "U002",
         "C002",
         "Excel for Finance",
         "Productivity",
         "2024-04-02",
         null,
         45,
         0.0,
         null,
         false,
         0.0
        ],
        [
         "E003",
         "U001",
         "C003",
         "ML with PySpark",
         "Data Science",
         "2024-04-03",
         null,
         30,
         0.0,
         null,
         false,
         0.0
        ],
        [
         "E005",
         "U004",
         "C004",
         "Digital Marketing",
         "Marketing",
         "2024-04-05",
         "2024-04-16",
         100,
         4.0,
         11,
         true,
         400.0
        ],
        [
         "E001",
         "U001",
         "C001",
         "Python Basics",
         "Programming",
         "2024-04-01",
         "2024-04-10",
         100,
         5.0,
         9,
         true,
         400.0
        ],
        [
         "E004",
         "U003",
         "C001",
         "Python Basics",
         "Programming",
         "2024-04-04",
         "2024-04-20",
         100,
         5.0,
         16,
         true,
         500.0
        ]
       ],
       "datasetInfos": [],
       "dbfsResultPath": null,
       "isJsonSchema": true,
       "metadata": {},
       "overflow": false,
       "plotOptions": {
        "customPlotOptions": {},
        "displayType": "table",
        "pivotAggregation": null,
        "pivotColumns": null,
        "xColumns": null,
        "yColumns": null
       },
       "removedWidgets": [],
       "schema": [
        {
         "metadata": "{}",
         "name": "EnrollID",
         "type": "\"string\""
        },
        {
         "metadata": "{}",
         "name": "UserID",
         "type": "\"string\""
        },
        {
         "metadata": "{}",
         "name": "CourseID",
         "type": "\"string\""
        },
        {
         "metadata": "{}",
         "name": "CourseName",
         "type": "\"string\""
        },
        {
         "metadata": "{}",
         "name": "Category",
         "type": "\"string\""
        },
        {
         "metadata": "{}",
         "name": "EnrollDate",
         "type": "\"date\""
        },
        {
         "metadata": "{}",
         "name": "CompletionDate",
         "type": "\"date\""
        },
        {
         "metadata": "{}",
         "name": "ProgressPercent",
         "type": "\"integer\""
        },
        {
         "metadata": "{}",
         "name": "Rating",
         "type": "\"double\""
        },
        {
         "metadata": "{}",
         "name": "DaysToComplete",
         "type": "\"integer\""
        },
        {
         "metadata": "{}",
         "name": "IsCompleted",
         "type": "\"boolean\""
        },
        {
         "metadata": "{}",
         "name": "EngagementScore",
         "type": "\"double\""
        }
       ],
       "type": "table"
      }
     },
     "output_type": "display_data"
    },
    {
     "output_type": "display_data",
     "data": {
      "text/html": [
       "<style scoped>\n",
       "  .table-result-container {\n",
       "    max-height: 300px;\n",
       "    overflow: auto;\n",
       "  }\n",
       "  table, th, td {\n",
       "    border: 1px solid black;\n",
       "    border-collapse: collapse;\n",
       "  }\n",
       "  th, td {\n",
       "    padding: 5px;\n",
       "  }\n",
       "  th {\n",
       "    text-align: left;\n",
       "  }\n",
       "</style><div class='table-result-container'><table class='table-result'><thead style='background-color: white'><tr><th>EnrollID</th><th>UserID</th><th>CourseID</th><th>CourseName</th><th>Category</th><th>EnrollDate</th><th>CompletionDate</th><th>ProgressPercent</th><th>Rating</th><th>DaysToComplete</th><th>IsCompleted</th><th>EngagementScore</th></tr></thead><tbody><tr><td>E001</td><td>U001</td><td>C001</td><td>Python Basics</td><td>Programming</td><td>2024-04-01</td><td>2024-04-10</td><td>100</td><td>5.0</td><td>9</td><td>true</td><td>400.0</td></tr><tr><td>E004</td><td>U003</td><td>C001</td><td>Python Basics</td><td>Programming</td><td>2024-04-04</td><td>2024-04-20</td><td>100</td><td>5.0</td><td>16</td><td>true</td><td>500.0</td></tr><tr><td>E002</td><td>U002</td><td>C002</td><td>Excel for Finance</td><td>Productivity</td><td>2024-04-02</td><td>null</td><td>45</td><td>0.0</td><td>null</td><td>false</td><td>0.0</td></tr><tr><td>E003</td><td>U001</td><td>C003</td><td>ML with PySpark</td><td>Data Science</td><td>2024-04-03</td><td>null</td><td>30</td><td>0.0</td><td>null</td><td>false</td><td>0.0</td></tr><tr><td>E005</td><td>U004</td><td>C004</td><td>Digital Marketing</td><td>Marketing</td><td>2024-04-05</td><td>2024-04-16</td><td>100</td><td>4.0</td><td>11</td><td>true</td><td>400.0</td></tr></tbody></table></div>"
      ]
     },
     "metadata": {
      "application/vnd.databricks.v1+output": {
       "addedWidgets": {},
       "aggData": [],
       "aggError": "",
       "aggOverflow": false,
       "aggSchema": [],
       "aggSeriesLimitReached": false,
       "aggType": "",
       "arguments": {},
       "columnCustomDisplayInfos": {},
       "data": [
        [
         "E001",
         "U001",
         "C001",
         "Python Basics",
         "Programming",
         "2024-04-01",
         "2024-04-10",
         100,
         5.0,
         9,
         true,
         400.0
        ],
        [
         "E004",
         "U003",
         "C001",
         "Python Basics",
         "Programming",
         "2024-04-04",
         "2024-04-20",
         100,
         5.0,
         16,
         true,
         500.0
        ],
        [
         "E002",
         "U002",
         "C002",
         "Excel for Finance",
         "Productivity",
         "2024-04-02",
         null,
         45,
         0.0,
         null,
         false,
         0.0
        ],
        [
         "E003",
         "U001",
         "C003",
         "ML with PySpark",
         "Data Science",
         "2024-04-03",
         null,
         30,
         0.0,
         null,
         false,
         0.0
        ],
        [
         "E005",
         "U004",
         "C004",
         "Digital Marketing",
         "Marketing",
         "2024-04-05",
         "2024-04-16",
         100,
         4.0,
         11,
         true,
         400.0
        ]
       ],
       "datasetInfos": [],
       "dbfsResultPath": null,
       "isJsonSchema": true,
       "metadata": {},
       "overflow": false,
       "plotOptions": {
        "customPlotOptions": {},
        "displayType": "table",
        "pivotAggregation": null,
        "pivotColumns": null,
        "xColumns": null,
        "yColumns": null
       },
       "removedWidgets": [],
       "schema": [
        {
         "metadata": "{}",
         "name": "EnrollID",
         "type": "\"string\""
        },
        {
         "metadata": "{}",
         "name": "UserID",
         "type": "\"string\""
        },
        {
         "metadata": "{}",
         "name": "CourseID",
         "type": "\"string\""
        },
        {
         "metadata": "{}",
         "name": "CourseName",
         "type": "\"string\""
        },
        {
         "metadata": "{}",
         "name": "Category",
         "type": "\"string\""
        },
        {
         "metadata": "{}",
         "name": "EnrollDate",
         "type": "\"date\""
        },
        {
         "metadata": "{}",
         "name": "CompletionDate",
         "type": "\"date\""
        },
        {
         "metadata": "{}",
         "name": "ProgressPercent",
         "type": "\"integer\""
        },
        {
         "metadata": "{}",
         "name": "Rating",
         "type": "\"double\""
        },
        {
         "metadata": "{}",
         "name": "DaysToComplete",
         "type": "\"integer\""
        },
        {
         "metadata": "{}",
         "name": "IsCompleted",
         "type": "\"boolean\""
        },
        {
         "metadata": "{}",
         "name": "EngagementScore",
         "type": "\"double\""
        }
       ],
       "type": "table"
      }
     },
     "output_type": "display_data"
    }
   ],
   "source": [
    "from delta.tables import DeltaTable\n",
    "\n",
    "dt = DeltaTable.forPath(spark, \"/delta/enrollments_delta\")\n",
    "\n",
    "dt.update(\n",
    "    condition=\"CourseName = 'Python Basics'\",\n",
    "    set={\"Rating\": \"5\"}\n",
    ")\n",
    "\n",
    "display(dt.toDF())\n",
    "\n",
    "dt.delete(\"ProgressPercent = 0\")\n",
    "\n",
    "display(dt.toDF())\n"
   ]
  },
  {
   "cell_type": "code",
   "execution_count": 0,
   "metadata": {
    "application/vnd.databricks.v1+cell": {
     "cellMetadata": {
      "byteLimit": 2048000,
      "rowLimit": 10000
     },
     "inputWidgets": {},
     "nuid": "877942ea-1112-44a6-b75f-82ae2e169885",
     "showTitle": false,
     "tableResultSettingsMap": {},
     "title": ""
    }
   },
   "outputs": [
    {
     "output_type": "stream",
     "name": "stdout",
     "output_type": "stream",
     "text": [
      "+-------+-------------------+----------------+--------------------+---------+--------------------+----+------------------+--------------------+-----------+-----------------+-------------+--------------------+------------+--------------------+\n|version|          timestamp|          userId|            userName|operation| operationParameters| job|          notebook|           clusterId|readVersion|   isolationLevel|isBlindAppend|    operationMetrics|userMetadata|          engineInfo|\n+-------+-------------------+----------------+--------------------+---------+--------------------+----+------------------+--------------------+-----------+-----------------+-------------+--------------------+------------+--------------------+\n|     14|2025-06-19 08:55:59|6267232536945943|azuser3559_mml.lo...| OPTIMIZE|{predicate -> [],...|NULL|{4060256036899042}|0612-123310-2108yh11|         12|SnapshotIsolation|        false|{numRemovedFiles ...|        NULL|Databricks-Runtim...|\n|     13|2025-06-19 08:55:58|6267232536945943|azuser3559_mml.lo...|   DELETE|{predicate -> [\"(...|NULL|{4060256036899042}|0612-123310-2108yh11|         12|WriteSerializable|        false|{numRemovedFiles ...|        NULL|Databricks-Runtim...|\n|     12|2025-06-19 08:55:57|6267232536945943|azuser3559_mml.lo...|   UPDATE|{predicate -> [\"(...|NULL|{4060256036899042}|0612-123310-2108yh11|         11|WriteSerializable|        false|{numRemovedFiles ...|        NULL|Databricks-Runtim...|\n|     11|2025-06-19 08:55:42|6267232536945943|azuser3559_mml.lo...| OPTIMIZE|{predicate -> [],...|NULL|{4060256036899042}|0612-123310-2108yh11|          9|SnapshotIsolation|        false|{numRemovedFiles ...|        NULL|Databricks-Runtim...|\n|     10|2025-06-19 08:55:41|6267232536945943|azuser3559_mml.lo...|   DELETE|{predicate -> [\"(...|NULL|{4060256036899042}|0612-123310-2108yh11|          9|WriteSerializable|        false|{numRemovedFiles ...|        NULL|Databricks-Runtim...|\n|      9|2025-06-19 08:55:39|6267232536945943|azuser3559_mml.lo...|   UPDATE|{predicate -> [\"(...|NULL|{4060256036899042}|0612-123310-2108yh11|          8|WriteSerializable|        false|{numRemovedFiles ...|        NULL|Databricks-Runtim...|\n|      8|2025-06-19 08:55:27|6267232536945943|azuser3559_mml.lo...| OPTIMIZE|{predicate -> [],...|NULL|{4060256036899042}|0612-123310-2108yh11|          7|SnapshotIsolation|        false|{numRemovedFiles ...|        NULL|Databricks-Runtim...|\n|      7|2025-06-19 08:55:25|6267232536945943|azuser3559_mml.lo...|   UPDATE|{predicate -> [\"(...|NULL|{4060256036899042}|0612-123310-2108yh11|          6|WriteSerializable|        false|{numRemovedFiles ...|        NULL|Databricks-Runtim...|\n|      6|2025-06-19 08:54:45|6267232536945943|azuser3559_mml.lo...| OPTIMIZE|{predicate -> [],...|NULL|{4060256036899042}|0612-123310-2108yh11|          4|SnapshotIsolation|        false|{numRemovedFiles ...|        NULL|Databricks-Runtim...|\n|      5|2025-06-19 08:54:43|6267232536945943|azuser3559_mml.lo...|   DELETE|{predicate -> [\"(...|NULL|{4060256036899042}|0612-123310-2108yh11|          4|WriteSerializable|        false|{numRemovedFiles ...|        NULL|Databricks-Runtim...|\n|      4|2025-06-19 08:54:42|6267232536945943|azuser3559_mml.lo...|   UPDATE|{predicate -> [\"(...|NULL|{4060256036899042}|0612-123310-2108yh11|          3|WriteSerializable|        false|{numRemovedFiles ...|        NULL|Databricks-Runtim...|\n|      3|2025-06-19 08:54:28|6267232536945943|azuser3559_mml.lo...| OPTIMIZE|{predicate -> [],...|NULL|{4060256036899042}|0612-123310-2108yh11|          2|SnapshotIsolation|        false|{numRemovedFiles ...|        NULL|Databricks-Runtim...|\n|      2|2025-06-19 08:54:25|6267232536945943|azuser3559_mml.lo...|   UPDATE|{predicate -> [\"(...|NULL|{4060256036899042}|0612-123310-2108yh11|          1|WriteSerializable|        false|{numRemovedFiles ...|        NULL|Databricks-Runtim...|\n|      1|2025-06-19 08:53:37|6267232536945943|azuser3559_mml.lo...|    WRITE|{mode -> Overwrit...|NULL|{4060256036899042}|0612-123310-2108yh11|          0|WriteSerializable|        false|{numFiles -> 1, n...|        NULL|Databricks-Runtim...|\n|      0|2025-06-19 08:51:54|6267232536945943|azuser3559_mml.lo...|    WRITE|{mode -> Overwrit...|NULL|{4060256036899042}|0612-123310-2108yh11|       NULL|WriteSerializable|        false|{numFiles -> 1, n...|        NULL|Databricks-Runtim...|\n+-------+-------------------+----------------+--------------------+---------+--------------------+----+------------------+--------------------+-----------+-----------------+-------------+--------------------+------------+--------------------+\n\n"
     ]
    }
   ],
   "source": [
    "spark.sql(\"DESCRIBE HISTORY enrollments_delta\").show()\n"
   ]
  },
  {
   "cell_type": "code",
   "execution_count": 0,
   "metadata": {
    "application/vnd.databricks.v1+cell": {
     "cellMetadata": {
      "byteLimit": 2048000,
      "rowLimit": 10000
     },
     "inputWidgets": {},
     "nuid": "0298e487-8d1c-4deb-bfef-2dd6ffeac13e",
     "showTitle": false,
     "tableResultSettingsMap": {},
     "title": ""
    }
   },
   "outputs": [
    {
     "output_type": "stream",
     "name": "stdout",
     "output_type": "stream",
     "text": [
      "+--------+-----+----+\n|CourseID|count|Rank|\n+--------+-----+----+\n|    C001|    2|   1|\n|    C004|    1|   2|\n|    C003|    1|   2|\n|    C002|    1|   2|\n+--------+-----+----+\n\n"
     ]
    }
   ],
   "source": [
    "from pyspark.sql.window import Window\n",
    "\n",
    "win_rank = Window.orderBy(col(\"count\").desc())\n",
    "df_ES.groupBy(\"CourseID\").count().withColumn(\"Rank\", dense_rank().over(win_rank)).show()"
   ]
  },
  {
   "cell_type": "code",
   "execution_count": 0,
   "metadata": {
    "application/vnd.databricks.v1+cell": {
     "cellMetadata": {
      "byteLimit": 2048000,
      "rowLimit": 10000
     },
     "inputWidgets": {},
     "nuid": "2b1de589-f16f-4dc9-9e2e-2f2bf54ef9e5",
     "showTitle": false,
     "tableResultSettingsMap": {},
     "title": ""
    }
   },
   "outputs": [
    {
     "output_type": "stream",
     "name": "stdout",
     "output_type": "stream",
     "text": [
      "+--------+------+--------+-----------------+------------+----------+--------------+---------------+------+--------------+-----------+---------------+---------------+\n|EnrollID|UserID|CourseID|       CourseName|    Category|EnrollDate|CompletionDate|ProgressPercent|Rating|DaysToComplete|IsCompleted|EngagementScore|     NextCourse|\n+--------+------+--------+-----------------+------------+----------+--------------+---------------+------+--------------+-----------+---------------+---------------+\n|    E001|  U001|    C001|    Python Basics| Programming|2024-04-01|    2024-04-10|            100|   4.0|             9|       true|          400.0|ML with PySpark|\n|    E003|  U001|    C003|  ML with PySpark|Data Science|2024-04-03|          NULL|             30|   0.0|          NULL|      false|            0.0|           NULL|\n|    E002|  U002|    C002|Excel for Finance|Productivity|2024-04-02|          NULL|             45|   0.0|          NULL|      false|            0.0|           NULL|\n|    E004|  U003|    C001|    Python Basics| Programming|2024-04-04|    2024-04-20|            100|   5.0|            16|       true|          500.0|           NULL|\n|    E005|  U004|    C004|Digital Marketing|   Marketing|2024-04-05|    2024-04-16|            100|   4.0|            11|       true|          400.0|           NULL|\n+--------+------+--------+-----------------+------------+----------+--------------+---------------+------+--------------+-----------+---------------+---------------+\n\n"
     ]
    }
   ],
   "source": [
    "win_lead = Window.partitionBy(\"UserID\").orderBy(\"EnrollDate\")\n",
    "df_WL = df_ES.withColumn(\"NextCourse\", lead(\"CourseName\").over(win_lead))\n",
    "df_WL.show()"
   ]
  },
  {
   "cell_type": "code",
   "execution_count": 0,
   "metadata": {
    "application/vnd.databricks.v1+cell": {
     "cellMetadata": {
      "byteLimit": 2048000,
      "rowLimit": 10000
     },
     "inputWidgets": {},
     "nuid": "da8e9467-c9d7-4f6d-871a-131f447e2e8b",
     "showTitle": false,
     "tableResultSettingsMap": {},
     "title": ""
    }
   },
   "outputs": [
    {
     "output_type": "stream",
     "name": "stdout",
     "output_type": "stream",
     "text": [
      "+----------+-----------+\n|EnrollDate|EnrollCount|\n+----------+-----------+\n|2024-04-02|          1|\n|2024-04-01|          1|\n|2024-04-04|          1|\n|2024-04-05|          1|\n|2024-04-03|          1|\n+----------+-----------+\n\n"
     ]
    }
   ],
   "source": [
    "df_ES.createOrReplaceTempView(\"enrollments\")\n",
    "spark.sql(\"\"\"\n",
    "    CREATE OR REPLACE TEMP VIEW daily_enrollments AS\n",
    "    SELECT EnrollDate, COUNT(*) AS EnrollCount\n",
    "    FROM enrollments\n",
    "    GROUP BY EnrollDate\n",
    "\"\"\")\n",
    "\n",
    "spark.sql(\"SELECT * FROM daily_enrollments\").show()"
   ]
  },
  {
   "cell_type": "code",
   "execution_count": 0,
   "metadata": {
    "application/vnd.databricks.v1+cell": {
     "cellMetadata": {
      "byteLimit": 2048000,
      "rowLimit": 10000
     },
     "inputWidgets": {},
     "nuid": "7a956b9f-eed5-4cbc-adc5-2ca83f67f786",
     "showTitle": false,
     "tableResultSettingsMap": {},
     "title": ""
    }
   },
   "outputs": [
    {
     "output_type": "stream",
     "name": "stdout",
     "output_type": "stream",
     "text": [
      "+------------+---------+\n|    Category|AvgRating|\n+------------+---------+\n| Programming|      4.5|\n|Productivity|      0.0|\n|   Marketing|      4.0|\n|Data Science|      0.0|\n+------------+---------+\n\n"
     ]
    }
   ],
   "source": [
    "spark.sql(\"\"\"\n",
    "    CREATE OR REPLACE TEMP VIEW category_performance AS\n",
    "    SELECT Category, AVG(Rating) AS AvgRating\n",
    "    FROM enrollments\n",
    "    GROUP BY Category\n",
    "\"\"\")\n",
    "\n",
    "spark.sql(\"SELECT * FROM category_performance\").show()"
   ]
  },
  {
   "cell_type": "code",
   "execution_count": 0,
   "metadata": {
    "application/vnd.databricks.v1+cell": {
     "cellMetadata": {
      "byteLimit": 2048000,
      "rowLimit": 10000
     },
     "inputWidgets": {},
     "nuid": "75a5788f-40b4-450e-9fd2-fbb7131bc324",
     "showTitle": false,
     "tableResultSettingsMap": {},
     "title": ""
    }
   },
   "outputs": [
    {
     "output_type": "stream",
     "name": "stdout",
     "output_type": "stream",
     "text": [
      "+-----------------+-----------+\n|       CourseName|EnrollCount|\n+-----------------+-----------+\n|    Python Basics|          2|\n|Digital Marketing|          1|\n|Excel for Finance|          1|\n+-----------------+-----------+\n\n"
     ]
    }
   ],
   "source": [
    "spark.sql(\"\"\"\n",
    "    CREATE OR REPLACE TEMP VIEW top_3_courses AS\n",
    "    SELECT CourseName, COUNT(*) AS EnrollCount\n",
    "    FROM enrollments\n",
    "    GROUP BY CourseName\n",
    "    ORDER BY EnrollCount DESC\n",
    "    LIMIT 3\n",
    "\"\"\")\n",
    "\n",
    "spark.sql(\"SELECT * FROM top_3_courses\").show()"
   ]
  },
  {
   "cell_type": "code",
   "execution_count": 0,
   "metadata": {
    "application/vnd.databricks.v1+cell": {
     "cellMetadata": {
      "byteLimit": 2048000,
      "rowLimit": 10000
     },
     "inputWidgets": {},
     "nuid": "310cca6f-7342-4c72-b880-ffdca19eb7d7",
     "showTitle": false,
     "tableResultSettingsMap": {},
     "title": ""
    }
   },
   "outputs": [
    {
     "output_type": "stream",
     "name": "stdout",
     "output_type": "stream",
     "text": [
      "+--------+------+--------+-----------------+------------+----------+--------------+---------------+------+--------------+-----------+---------------+\n|EnrollID|UserID|CourseID|       CourseName|    Category|EnrollDate|CompletionDate|ProgressPercent|Rating|DaysToComplete|IsCompleted|EngagementScore|\n+--------+------+--------+-----------------+------------+----------+--------------+---------------+------+--------------+-----------+---------------+\n|    E001|  U001|    C001|    Python Basics| Programming|2024-04-01|    2024-04-10|            100|   4.0|             9|       true|          400.0|\n|    E002|  U002|    C002|Excel for Finance|Productivity|2024-04-02|          NULL|             45|   0.0|          NULL|      false|            0.0|\n|    E003|  U001|    C003|  ML with PySpark|Data Science|2024-04-03|          NULL|             30|   0.0|          NULL|      false|            0.0|\n|    E004|  U003|    C001|    Python Basics| Programming|2024-04-04|    2024-04-20|            100|   5.0|            16|       true|          500.0|\n|    E005|  U004|    C004|Digital Marketing|   Marketing|2024-04-05|    2024-04-16|            100|   4.0|            11|       true|          400.0|\n+--------+------+--------+-----------------+------------+----------+--------------+---------------+------+--------------+-----------+---------------+\n\n"
     ]
    }
   ],
   "source": [
    "spark.read.format(\"delta\").option(\"versionAsOf\", 0).load(\"/delta/enrollments_delta\").show()"
   ]
  },
  {
   "cell_type": "code",
   "execution_count": 0,
   "metadata": {
    "application/vnd.databricks.v1+cell": {
     "cellMetadata": {
      "byteLimit": 2048000,
      "rowLimit": 10000
     },
     "inputWidgets": {},
     "nuid": "06e87e94-f6b0-451b-92d8-6f3f67d397eb",
     "showTitle": false,
     "tableResultSettingsMap": {},
     "title": ""
    }
   },
   "outputs": [
    {
     "output_type": "stream",
     "name": "stdout",
     "output_type": "stream",
     "text": [
      "+--------+------+--------+-----------------+------------+----------+--------------+---------------+------+--------------+-----------+---------------+\n|EnrollID|UserID|CourseID|       CourseName|    Category|EnrollDate|CompletionDate|ProgressPercent|Rating|DaysToComplete|IsCompleted|EngagementScore|\n+--------+------+--------+-----------------+------------+----------+--------------+---------------+------+--------------+-----------+---------------+\n|    E001|  U001|    C001|    Python Basics| Programming|2024-04-01|    2024-04-10|            100|   4.0|             9|       true|          400.0|\n|    E002|  U002|    C002|Excel for Finance|Productivity|2024-04-02|          NULL|             45|   0.0|          NULL|      false|            0.0|\n|    E003|  U001|    C003|  ML with PySpark|Data Science|2024-04-03|          NULL|             30|   0.0|          NULL|      false|            0.0|\n|    E004|  U003|    C001|    Python Basics| Programming|2024-04-04|    2024-04-20|            100|   5.0|            16|       true|          500.0|\n|    E005|  U004|    C004|Digital Marketing|   Marketing|2024-04-05|    2024-04-16|            100|   4.0|            11|       true|          400.0|\n+--------+------+--------+-----------------+------------+----------+--------------+---------------+------+--------------+-----------+---------------+\n\n"
     ]
    }
   ],
   "source": [
    "spark.read.format(\"delta\").option(\"timestampAsOf\", \"2025-06-19 08:51:54\").load(\"/delta/enrollments_delta\").show()"
   ]
  },
  {
   "cell_type": "code",
   "execution_count": 0,
   "metadata": {
    "application/vnd.databricks.v1+cell": {
     "cellMetadata": {
      "byteLimit": 2048000,
      "rowLimit": 10000
     },
     "inputWidgets": {},
     "nuid": "caf00d7f-9337-40e0-8577-b1c0790937b8",
     "showTitle": false,
     "tableResultSettingsMap": {},
     "title": ""
    }
   },
   "outputs": [],
   "source": [
    "df_ES.write.mode(\"overwrite\").partitionBy(\"Category\").json(\"/export/enrollments_json\")"
   ]
  },
  {
   "cell_type": "code",
   "execution_count": 0,
   "metadata": {
    "application/vnd.databricks.v1+cell": {
     "cellMetadata": {
      "byteLimit": 2048000,
      "rowLimit": 10000
     },
     "inputWidgets": {},
     "nuid": "0d9fdd74-df63-4c9b-969d-dbe741be1039",
     "showTitle": false,
     "tableResultSettingsMap": {},
     "title": ""
    }
   },
   "outputs": [
    {
     "output_type": "stream",
     "name": "stdout",
     "output_type": "stream",
     "text": [
      "+-----------------+----------------+---------+-----------+\n|       CourseName|TotalEnrollments|AvgRating|AvgProgress|\n+-----------------+----------------+---------+-----------+\n|Digital Marketing|               1|      4.0|      100.0|\n|    Python Basics|               2|      4.5|      100.0|\n|Excel for Finance|               1|      0.0|       45.0|\n|  ML with PySpark|               1|      0.0|       30.0|\n+-----------------+----------------+---------+-----------+\n\n"
     ]
    }
   ],
   "source": [
    "df_summ = df_ES.groupBy(\"CourseName\").agg(count(\"*\").alias(\"TotalEnrollments\"),avg(\"Rating\").alias(\"AvgRating\"),avg(\"ProgressPercent\").alias(\"AvgProgress\"))\n",
    "df_summ.show()"
   ]
  },
  {
   "cell_type": "code",
   "execution_count": 0,
   "metadata": {
    "application/vnd.databricks.v1+cell": {
     "cellMetadata": {
      "byteLimit": 2048000,
      "rowLimit": 10000
     },
     "inputWidgets": {},
     "nuid": "b0b9ca66-536c-4153-b0b4-b465bbd8e3ff",
     "showTitle": false,
     "tableResultSettingsMap": {},
     "title": ""
    }
   },
   "outputs": [],
   "source": [
    "df_summ.write.mode(\"overwrite\").parquet(\"/export/summary_courses\")"
   ]
  },
  {
   "cell_type": "code",
   "execution_count": 0,
   "metadata": {
    "application/vnd.databricks.v1+cell": {
     "cellMetadata": {},
     "inputWidgets": {},
     "nuid": "b16580a1-0dc0-40c2-8617-6e2d845b8a05",
     "showTitle": false,
     "tableResultSettingsMap": {},
     "title": ""
    }
   },
   "outputs": [],
   "source": []
  }
 ],
 "metadata": {
  "application/vnd.databricks.v1+notebook": {
   "computePreferences": null,
   "dashboards": [],
   "environmentMetadata": {
    "base_environment": "",
    "environment_version": "2"
   },
   "inputWidgetPreferences": null,
   "language": "python",
   "notebookMetadata": {
    "pythonIndentUnit": 4
   },
   "notebookName": "SET 2",
   "widgets": {}
  },
  "language_info": {
   "name": "python"
  }
 },
 "nbformat": 4,
 "nbformat_minor": 0
}