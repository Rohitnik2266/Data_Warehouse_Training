{
 "cells": [
  {
   "cell_type": "code",
   "execution_count": 0,
   "metadata": {
    "application/vnd.databricks.v1+cell": {
     "cellMetadata": {
      "byteLimit": 2048000,
      "rowLimit": 10000
     },
     "inputWidgets": {},
     "nuid": "241a4685-393a-4c72-a03f-336c6f3455be",
     "showTitle": false,
     "tableResultSettingsMap": {},
     "title": ""
    }
   },
   "outputs": [
    {
     "output_type": "execute_result",
     "data": {
      "text/html": [
       "\n",
       "            <div>\n",
       "                <p><b>SparkSession - hive</b></p>\n",
       "                \n",
       "        <div>\n",
       "            <p><b>SparkContext</b></p>\n",
       "\n",
       "            <p><a href=\"/?o=2342854597430550#setting/sparkui/0612-123310-2108yh11/driver-5266839468827761896\">Spark UI</a></p>\n",
       "\n",
       "            <dl>\n",
       "              <dt>Version</dt>\n",
       "                <dd><code>v3.5.0</code></dd>\n",
       "              <dt>Master</dt>\n",
       "                <dd><code>local[*, 4]</code></dd>\n",
       "              <dt>AppName</dt>\n",
       "                <dd><code>Databricks Shell</code></dd>\n",
       "            </dl>\n",
       "        </div>\n",
       "        \n",
       "            </div>\n",
       "        "
      ],
      "text/plain": [
       "<pyspark.sql.session.SparkSession at 0x7d3a45048810>"
      ]
     },
     "execution_count": 21,
     "metadata": {},
     "output_type": "execute_result"
    }
   ],
   "source": [
    "from pyspark.sql import SparkSession\n",
    "from pyspark.sql.functions import *\n",
    "spark = SparkSession.builder.appName(\"Retail Inventory & Supply Chain Intelligence\").getOrCreate()\n",
    "spark"
   ]
  },
  {
   "cell_type": "code",
   "execution_count": 0,
   "metadata": {
    "application/vnd.databricks.v1+cell": {
     "cellMetadata": {
      "byteLimit": 2048000,
      "rowLimit": 10000
     },
     "inputWidgets": {},
     "nuid": "c4c1decf-d126-406a-91f6-41069d169425",
     "showTitle": false,
     "tableResultSettingsMap": {},
     "title": ""
    }
   },
   "outputs": [
    {
     "output_type": "stream",
     "name": "stdout",
     "output_type": "stream",
     "text": [
      "+------+------------+-----------+----------+--------+------------+-------------+---------+---------+\n|ItemID|    ItemName|   Category| Warehouse|StockQty|ReorderLevel|LastRestocked|UnitPrice|  Supplie|\n+------+------------+-----------+----------+--------+------------+-------------+---------+---------+\n|  I001|      LED TV|Electronics|WarehouseA|      50|          20|   2024-03-15|    30000|   AVTech|\n|  I002|      Laptop|Electronics|WarehouseB|      10|          15|   2024-04-01|    70000|TechWorld|\n|  I003|Office Chair|  Furniture|WarehouseA|      40|          10|   2024-03-25|     6000|  ChairCo|\n|  I004|Refrigerator| Appliances|WarehouseC|       5|          10|   2024-02-20|    25000| FreezeIt|\n|  I005|     Printer|Electronics|WarehouseB|       3|           5|   2024-03-30|     8000|PrintFast|\n+------+------------+-----------+----------+--------+------------+-------------+---------+---------+\n\n"
     ]
    }
   ],
   "source": [
    "df_infra = spark.read.csv(\"dbfs:/FileStore/shared_uploads/azuser3559_mml.local@techademy.com/inventory_supply.csv\", header=True, inferSchema=True)\n",
    "df_infra.show()"
   ]
  },
  {
   "cell_type": "code",
   "execution_count": 0,
   "metadata": {
    "application/vnd.databricks.v1+cell": {
     "cellMetadata": {
      "byteLimit": 2048000,
      "rowLimit": 10000
     },
     "inputWidgets": {},
     "nuid": "72cd1e3f-d821-4d0e-bdb1-b1376d4c2614",
     "showTitle": false,
     "tableResultSettingsMap": {},
     "title": ""
    }
   },
   "outputs": [
    {
     "output_type": "stream",
     "name": "stdout",
     "output_type": "stream",
     "text": [
      "+------+------------+-----------+----------+--------+------------+-------------+---------+---------+------------+\n|ItemID|    ItemName|   Category| Warehouse|StockQty|ReorderLevel|LastRestocked|UnitPrice|  Supplie|NeedsReorder|\n+------+------------+-----------+----------+--------+------------+-------------+---------+---------+------------+\n|  I001|      LED TV|Electronics|WarehouseA|      50|          20|   2024-03-15|    30000|   AVTech|       false|\n|  I002|      Laptop|Electronics|WarehouseB|      10|          15|   2024-04-01|    70000|TechWorld|        true|\n|  I003|Office Chair|  Furniture|WarehouseA|      40|          10|   2024-03-25|     6000|  ChairCo|       false|\n|  I004|Refrigerator| Appliances|WarehouseC|       5|          10|   2024-02-20|    25000| FreezeIt|        true|\n|  I005|     Printer|Electronics|WarehouseB|       3|           5|   2024-03-30|     8000|PrintFast|        true|\n+------+------------+-----------+----------+--------+------------+-------------+---------+---------+------------+\n\n"
     ]
    }
   ],
   "source": [
    "df_NR = df_infra.withColumn(\"NeedsReorder\", col(\"StockQty\") < col(\"ReorderLevel\"))\n",
    "df_NR.show()"
   ]
  },
  {
   "cell_type": "code",
   "execution_count": 0,
   "metadata": {
    "application/vnd.databricks.v1+cell": {
     "cellMetadata": {
      "byteLimit": 2048000,
      "rowLimit": 10000
     },
     "inputWidgets": {},
     "nuid": "d2c852b4-4567-4d97-bad7-4a9f503c7efb",
     "showTitle": false,
     "tableResultSettingsMap": {},
     "title": ""
    }
   },
   "outputs": [
    {
     "output_type": "stream",
     "name": "stdout",
     "output_type": "stream",
     "text": [
      "+------+------------+-----------+----------+--------+------------+-------------+---------+---------+------------+\n|ItemID|    ItemName|   Category| Warehouse|StockQty|ReorderLevel|LastRestocked|UnitPrice|  Supplie|NeedsReorder|\n+------+------------+-----------+----------+--------+------------+-------------+---------+---------+------------+\n|  I002|      Laptop|Electronics|WarehouseB|      10|          15|   2024-04-01|    70000|TechWorld|        true|\n|  I004|Refrigerator| Appliances|WarehouseC|       5|          10|   2024-02-20|    25000| FreezeIt|        true|\n|  I005|     Printer|Electronics|WarehouseB|       3|           5|   2024-03-30|     8000|PrintFast|        true|\n+------+------------+-----------+----------+--------+------------+-------------+---------+---------+------------+\n\n"
     ]
    }
   ],
   "source": [
    "df_view = df_NR.createOrReplaceTempView(\"items_to_restock\")\n",
    "spark.sql(\"SELECT * FROM items_to_restock WHERE NeedsReorder = true;\").show()"
   ]
  },
  {
   "cell_type": "code",
   "execution_count": 0,
   "metadata": {
    "application/vnd.databricks.v1+cell": {
     "cellMetadata": {
      "byteLimit": 2048000,
      "rowLimit": 10000
     },
     "inputWidgets": {},
     "nuid": "e128baa7-fbd5-410c-af5a-5e2ed57d3f4e",
     "showTitle": false,
     "tableResultSettingsMap": {},
     "title": ""
    }
   },
   "outputs": [
    {
     "output_type": "stream",
     "name": "stdout",
     "output_type": "stream",
     "text": [
      "+----------+-----+\n| Warehouse|count|\n+----------+-----+\n|WarehouseB|    2|\n+----------+-----+\n\n"
     ]
    }
   ],
   "source": [
    "df_NR.filter(col(\"NeedsReorder\") == True).groupBy(\"Warehouse\").count().filter(col(\"count\") >= 2).show()"
   ]
  },
  {
   "cell_type": "code",
   "execution_count": 0,
   "metadata": {
    "application/vnd.databricks.v1+cell": {
     "cellMetadata": {
      "byteLimit": 2048000,
      "rowLimit": 10000
     },
     "inputWidgets": {},
     "nuid": "33ebf92d-d3b5-453a-9608-5cf2e9445260",
     "showTitle": false,
     "tableResultSettingsMap": {},
     "title": ""
    }
   },
   "outputs": [
    {
     "output_type": "stream",
     "name": "stdout",
     "output_type": "stream",
     "text": [
      "+-----------+-----------+\n|   Category|AvgCatPrice|\n+-----------+-----------+\n|Electronics|    36000.0|\n|  Furniture|     6000.0|\n| Appliances|    25000.0|\n+-----------+-----------+\n\n"
     ]
    }
   ],
   "source": [
    "df_CA = df_NR.groupBy(\"Category\").agg(avg(\"UnitPrice\").alias(\"AvgCatPrice\"))\n",
    "df_CA.show()"
   ]
  },
  {
   "cell_type": "code",
   "execution_count": 0,
   "metadata": {
    "application/vnd.databricks.v1+cell": {
     "cellMetadata": {
      "byteLimit": 2048000,
      "rowLimit": 10000
     },
     "inputWidgets": {},
     "nuid": "9191a2ef-2cf6-4849-8735-5a44a2f0d402",
     "showTitle": false,
     "tableResultSettingsMap": {},
     "title": ""
    }
   },
   "outputs": [
    {
     "output_type": "stream",
     "name": "stdout",
     "output_type": "stream",
     "text": [
      "+-----------+------+------------+----------+--------+------------+-------------+---------+---------+------------+-----------+----------+\n|   Category|ItemID|    ItemName| Warehouse|StockQty|ReorderLevel|LastRestocked|UnitPrice|  Supplie|NeedsReorder|AvgCatPrice|IsBelowAvg|\n+-----------+------+------------+----------+--------+------------+-------------+---------+---------+------------+-----------+----------+\n|Electronics|  I001|      LED TV|WarehouseA|      50|          20|   2024-03-15|    30000|   AVTech|       false|    36000.0|      true|\n|Electronics|  I002|      Laptop|WarehouseB|      10|          15|   2024-04-01|    70000|TechWorld|        true|    36000.0|     false|\n|  Furniture|  I003|Office Chair|WarehouseA|      40|          10|   2024-03-25|     6000|  ChairCo|       false|     6000.0|     false|\n| Appliances|  I004|Refrigerator|WarehouseC|       5|          10|   2024-02-20|    25000| FreezeIt|        true|    25000.0|     false|\n|Electronics|  I005|     Printer|WarehouseB|       3|           5|   2024-03-30|     8000|PrintFast|        true|    36000.0|      true|\n+-----------+------+------------+----------+--------+------------+-------------+---------+---------+------------+-----------+----------+\n\n"
     ]
    }
   ],
   "source": [
    "df_join = df_NR.join(df_CA,\"Category\")\n",
    "df_BA = df_join.withColumn(\"IsBelowAvg\", col(\"UnitPrice\") < col(\"AvgCatPrice\"))\n",
    "df_BA.show()"
   ]
  },
  {
   "cell_type": "code",
   "execution_count": 0,
   "metadata": {
    "application/vnd.databricks.v1+cell": {
     "cellMetadata": {
      "byteLimit": 2048000,
      "rowLimit": 10000
     },
     "inputWidgets": {},
     "nuid": "822d76db-95b4-4dc4-b6c2-d62219b859cd",
     "showTitle": false,
     "tableResultSettingsMap": {},
     "title": ""
    }
   },
   "outputs": [
    {
     "output_type": "stream",
     "name": "stdout",
     "output_type": "stream",
     "text": [
      "+---------+-------------+-----------+\n|  Supplie|BelowAvgRatio|SupplierTag|\n+---------+-------------+-----------+\n|   AVTech|          1.0|  Good Deal|\n|TechWorld|          0.0|  Fair Deal|\n|PrintFast|          1.0|  Good Deal|\n| FreezeIt|          0.0|  Fair Deal|\n|  ChairCo|          0.0|  Fair Deal|\n+---------+-------------+-----------+\n\n"
     ]
    }
   ],
   "source": [
    "df_SS = df_BA.groupBy(\"Supplie\").agg((sum(col(\"IsBelowAvg\").cast(\"int\")) / count(\"*\")).alias(\"BelowAvgRatio\")\n",
    ").withColumn(\"SupplierTag\", when(col(\"BelowAvgRatio\") > 0.5, \"Good Deal\").otherwise(\"Fair Deal\"))\n",
    "\n",
    "df_SS.show()\n"
   ]
  },
  {
   "cell_type": "code",
   "execution_count": 0,
   "metadata": {
    "application/vnd.databricks.v1+cell": {
     "cellMetadata": {
      "byteLimit": 2048000,
      "rowLimit": 10000
     },
     "inputWidgets": {},
     "nuid": "692cb6d3-67f3-49bb-9a8d-ba1f47a5603a",
     "showTitle": false,
     "tableResultSettingsMap": {},
     "title": ""
    }
   },
   "outputs": [
    {
     "output_type": "stream",
     "name": "stdout",
     "output_type": "stream",
     "text": [
      "+-----------+------+------------+----------+--------+------------+-------------+---------+---------+------------+-----------+----------+---------------+\n|   Category|ItemID|    ItemName| Warehouse|StockQty|ReorderLevel|LastRestocked|UnitPrice|  Supplie|NeedsReorder|AvgCatPrice|IsBelowAvg|TotalStockValue|\n+-----------+------+------------+----------+--------+------------+-------------+---------+---------+------------+-----------+----------+---------------+\n|Electronics|  I001|      LED TV|WarehouseA|      50|          20|   2024-03-15|    30000|   AVTech|       false|    36000.0|      true|        1500000|\n|Electronics|  I002|      Laptop|WarehouseB|      10|          15|   2024-04-01|    70000|TechWorld|        true|    36000.0|     false|         700000|\n|  Furniture|  I003|Office Chair|WarehouseA|      40|          10|   2024-03-25|     6000|  ChairCo|       false|     6000.0|     false|         240000|\n| Appliances|  I004|Refrigerator|WarehouseC|       5|          10|   2024-02-20|    25000| FreezeIt|        true|    25000.0|     false|         125000|\n|Electronics|  I005|     Printer|WarehouseB|       3|           5|   2024-03-30|     8000|PrintFast|        true|    36000.0|      true|          24000|\n+-----------+------+------------+----------+--------+------------+-------------+---------+---------+------------+-----------+----------+---------------+\n\n"
     ]
    }
   ],
   "source": [
    "df_TSV = df_BA.withColumn(\"TotalStockValue\", col(\"StockQty\") * col(\"UnitPrice\"))\n",
    "df_TSV.show()"
   ]
  },
  {
   "cell_type": "code",
   "execution_count": 0,
   "metadata": {
    "application/vnd.databricks.v1+cell": {
     "cellMetadata": {
      "byteLimit": 2048000,
      "rowLimit": 10000
     },
     "inputWidgets": {},
     "nuid": "098c7daf-ef6a-401f-b54e-6d13fc6a4407",
     "showTitle": false,
     "tableResultSettingsMap": {},
     "title": ""
    }
   },
   "outputs": [
    {
     "output_type": "stream",
     "name": "stdout",
     "output_type": "stream",
     "text": [
      "+-----------+------+------------+----------+--------+------------+-------------+---------+---------+------------+-----------+----------+---------------+\n|   Category|ItemID|    ItemName| Warehouse|StockQty|ReorderLevel|LastRestocked|UnitPrice|  Supplie|NeedsReorder|AvgCatPrice|IsBelowAvg|TotalStockValue|\n+-----------+------+------------+----------+--------+------------+-------------+---------+---------+------------+-----------+----------+---------------+\n|Electronics|  I001|      LED TV|WarehouseA|      50|          20|   2024-03-15|    30000|   AVTech|       false|    36000.0|      true|        1500000|\n|Electronics|  I002|      Laptop|WarehouseB|      10|          15|   2024-04-01|    70000|TechWorld|        true|    36000.0|     false|         700000|\n|  Furniture|  I003|Office Chair|WarehouseA|      40|          10|   2024-03-25|     6000|  ChairCo|       false|     6000.0|     false|         240000|\n+-----------+------+------------+----------+--------+------------+-------------+---------+---------+------------+-----------+----------+---------------+\n\n"
     ]
    }
   ],
   "source": [
    "df_T3 = df_TSV.orderBy(col(\"TotalStockValue\").desc()).limit(3)\n",
    "df_T3.show()"
   ]
  },
  {
   "cell_type": "code",
   "execution_count": 0,
   "metadata": {
    "application/vnd.databricks.v1+cell": {
     "cellMetadata": {
      "byteLimit": 2048000,
      "rowLimit": 10000
     },
     "inputWidgets": {},
     "nuid": "b010f0b7-556a-428e-b07c-a4d54a6dedd6",
     "showTitle": false,
     "tableResultSettingsMap": {},
     "title": ""
    }
   },
   "outputs": [],
   "source": [
    "df_TSV.write.partitionBy(\"Warehouse\").mode(\"overwrite\").parquet(\"/export/inventory/value_by_warehouse/\")"
   ]
  },
  {
   "cell_type": "code",
   "execution_count": 0,
   "metadata": {
    "application/vnd.databricks.v1+cell": {
     "cellMetadata": {
      "byteLimit": 2048000,
      "rowLimit": 10000
     },
     "inputWidgets": {},
     "nuid": "6a693eba-0327-428f-a6f2-73bb87e44a5c",
     "showTitle": false,
     "tableResultSettingsMap": {},
     "title": ""
    }
   },
   "outputs": [
    {
     "output_type": "stream",
     "name": "stdout",
     "output_type": "stream",
     "text": [
      "+-----------+------+------------+----------+--------+------------+-------------+---------+---------+------------+-----------+----------+---------------+\n|   Category|ItemID|    ItemName| Warehouse|StockQty|ReorderLevel|LastRestocked|UnitPrice|  Supplie|NeedsReorder|AvgCatPrice|IsBelowAvg|TotalStockValue|\n+-----------+------+------------+----------+--------+------------+-------------+---------+---------+------------+-----------+----------+---------------+\n|Electronics|  I001|      LED TV|WarehouseA|      50|          20|   2024-03-15|    30000|   AVTech|       false|    36000.0|      true|        1500000|\n|Electronics|  I002|      Laptop|WarehouseB|      10|          15|   2024-04-01|    70000|TechWorld|        true|    36000.0|     false|         700000|\n|  Furniture|  I003|Office Chair|WarehouseA|      40|          10|   2024-03-25|     6000|  ChairCo|       false|     6000.0|     false|         240000|\n| Appliances|  I004|Refrigerator|WarehouseC|       5|          10|   2024-02-20|    25000| FreezeIt|        true|    25000.0|     false|         125000|\n|Electronics|  I005|     Printer|WarehouseB|       3|           5|   2024-03-30|     8000|PrintFast|        true|    36000.0|      true|          24000|\n+-----------+------+------------+----------+--------+------------+-------------+---------+---------+------------+-----------+----------+---------------+\n\n"
     ]
    }
   ],
   "source": [
    "df_TSV.groupBy(\"Warehouse\").count()\n",
    "df_TSV.show()"
   ]
  },
  {
   "cell_type": "code",
   "execution_count": 0,
   "metadata": {
    "application/vnd.databricks.v1+cell": {
     "cellMetadata": {
      "byteLimit": 2048000,
      "rowLimit": 10000
     },
     "inputWidgets": {},
     "nuid": "07f3ab29-c2e3-4eee-a64e-aa40af1478ec",
     "showTitle": false,
     "tableResultSettingsMap": {},
     "title": ""
    }
   },
   "outputs": [
    {
     "output_type": "stream",
     "name": "stdout",
     "output_type": "stream",
     "text": [
      "+----------+-----------+--------+\n| Warehouse|   Category|AvgStock|\n+----------+-----------+--------+\n|WarehouseB|Electronics|     6.5|\n|WarehouseA|  Furniture|    40.0|\n|WarehouseC| Appliances|     5.0|\n|WarehouseA|Electronics|    50.0|\n+----------+-----------+--------+\n\n"
     ]
    }
   ],
   "source": [
    "df_AS = df_TSV.groupBy(\"Warehouse\", \"Category\").agg(avg(\"StockQty\").alias(\"AvgStock\"))\n",
    "df_AS.show()\n"
   ]
  },
  {
   "cell_type": "code",
   "execution_count": 0,
   "metadata": {
    "application/vnd.databricks.v1+cell": {
     "cellMetadata": {
      "byteLimit": 2048000,
      "rowLimit": 10000
     },
     "inputWidgets": {},
     "nuid": "e471c116-9262-4d04-bf85-8f9f0cb1f129",
     "showTitle": false,
     "tableResultSettingsMap": {},
     "title": ""
    }
   },
   "outputs": [
    {
     "output_type": "stream",
     "name": "stdout",
     "output_type": "stream",
     "text": [
      "+----------+----------+\n| Warehouse|TotalStock|\n+----------+----------+\n|WarehouseA|        90|\n|WarehouseC|         5|\n|WarehouseB|        13|\n+----------+----------+\n\n"
     ]
    }
   ],
   "source": [
    "df_UU = df_TSV.groupBy(\"Warehouse\").agg(sum(\"StockQty\").alias(\"TotalStock\")).filter(\"TotalStock < 100\")\n",
    "df_UU.show()"
   ]
  },
  {
   "cell_type": "code",
   "execution_count": 0,
   "metadata": {
    "application/vnd.databricks.v1+cell": {
     "cellMetadata": {
      "byteLimit": 2048000,
      "rowLimit": 10000
     },
     "inputWidgets": {},
     "nuid": "ad0022d7-78b1-4a64-90f5-6878281b4693",
     "showTitle": false,
     "tableResultSettingsMap": {},
     "title": ""
    }
   },
   "outputs": [
    {
     "output_type": "stream",
     "name": "stdout",
     "output_type": "stream",
     "text": [
      "+-----------+------+------------+----------+--------+------------+-------------+---------+---------+------------+-----------+----------+---------------+\n|   Category|ItemID|    ItemName| Warehouse|StockQty|ReorderLevel|LastRestocked|UnitPrice|  Supplie|NeedsReorder|AvgCatPrice|IsBelowAvg|TotalStockValue|\n+-----------+------+------------+----------+--------+------------+-------------+---------+---------+------------+-----------+----------+---------------+\n|Electronics|  I001|      LED TV|WarehouseA|      50|          20|   2024-03-15|    30000|   AVTech|       false|    36000.0|      true|        1500000|\n|Electronics|  I002|      Laptop|WarehouseB|      10|          15|   2024-04-01|    70000|TechWorld|        true|    36000.0|     false|         700000|\n|  Furniture|  I003|Office Chair|WarehouseA|      40|          10|   2024-03-25|     6000|  ChairCo|       false|     6000.0|     false|         240000|\n| Appliances|  I004|Refrigerator|WarehouseC|       5|          10|   2024-02-20|    25000| FreezeIt|        true|    25000.0|     false|         125000|\n|Electronics|  I005|     Printer|WarehouseB|       3|           5|   2024-03-30|     8000|PrintFast|        true|    36000.0|      true|          24000|\n+-----------+------+------------+----------+--------+------------+-------------+---------+---------+------------+-----------+----------+---------------+\n\n"
     ]
    }
   ],
   "source": [
    "df_TSV.write.format(\"delta\").mode(\"overwrite\").save(\"/delta/retail_inventory\")\n",
    "spark.sql(\"CREATE TABLE IF NOT EXISTS retail_inventory USING DELTA LOCATION '/delta/retail_inventory'\")\n",
    "\n",
    "spark.read.format(\"delta\").load(\"/delta/retail_inventory\").show()"
   ]
  },
  {
   "cell_type": "code",
   "execution_count": 0,
   "metadata": {
    "application/vnd.databricks.v1+cell": {
     "cellMetadata": {
      "byteLimit": 2048000,
      "rowLimit": 10000
     },
     "inputWidgets": {},
     "nuid": "e40323d3-31f4-46c6-b987-b832370d480c",
     "showTitle": false,
     "tableResultSettingsMap": {},
     "title": ""
    }
   },
   "outputs": [
    {
     "output_type": "display_data",
     "data": {
      "text/html": [
       "<style scoped>\n",
       "  .table-result-container {\n",
       "    max-height: 300px;\n",
       "    overflow: auto;\n",
       "  }\n",
       "  table, th, td {\n",
       "    border: 1px solid black;\n",
       "    border-collapse: collapse;\n",
       "  }\n",
       "  th, td {\n",
       "    padding: 5px;\n",
       "  }\n",
       "  th {\n",
       "    text-align: left;\n",
       "  }\n",
       "</style><div class='table-result-container'><table class='table-result'><thead style='background-color: white'><tr><th>Category</th><th>ItemID</th><th>ItemName</th><th>Warehouse</th><th>StockQty</th><th>ReorderLevel</th><th>LastRestocked</th><th>UnitPrice</th><th>Supplie</th><th>NeedsReorder</th><th>AvgCatPrice</th><th>IsBelowAvg</th><th>TotalStockValue</th></tr></thead><tbody><tr><td>Electronics</td><td>I001</td><td>LED TV</td><td>WarehouseA</td><td>50</td><td>20</td><td>2024-03-15</td><td>30000</td><td>AVTech</td><td>false</td><td>36000.0</td><td>true</td><td>1500000</td></tr><tr><td>Furniture</td><td>I003</td><td>Office Chair</td><td>WarehouseA</td><td>40</td><td>10</td><td>2024-03-25</td><td>6000</td><td>ChairCo</td><td>false</td><td>6000.0</td><td>false</td><td>240000</td></tr><tr><td>Appliances</td><td>I004</td><td>Refrigerator</td><td>WarehouseC</td><td>5</td><td>10</td><td>2024-02-20</td><td>25000</td><td>FreezeIt</td><td>true</td><td>25000.0</td><td>false</td><td>125000</td></tr><tr><td>Electronics</td><td>I005</td><td>Printer</td><td>WarehouseB</td><td>3</td><td>5</td><td>2024-03-30</td><td>8000</td><td>PrintFast</td><td>true</td><td>36000.0</td><td>true</td><td>24000</td></tr><tr><td>Electronics</td><td>I002</td><td>Laptop</td><td>WarehouseB</td><td>20</td><td>15</td><td>2024-04-01</td><td>70000</td><td>TechWorld</td><td>true</td><td>36000.0</td><td>false</td><td>700000</td></tr></tbody></table></div>"
      ]
     },
     "metadata": {
      "application/vnd.databricks.v1+output": {
       "addedWidgets": {},
       "aggData": [],
       "aggError": "",
       "aggOverflow": false,
       "aggSchema": [],
       "aggSeriesLimitReached": false,
       "aggType": "",
       "arguments": {},
       "columnCustomDisplayInfos": {},
       "data": [
        [
         "Electronics",
         "I001",
         "LED TV",
         "WarehouseA",
         50,
         20,
         "2024-03-15",
         30000,
         "AVTech",
         false,
         36000.0,
         true,
         1500000
        ],
        [
         "Furniture",
         "I003",
         "Office Chair",
         "WarehouseA",
         40,
         10,
         "2024-03-25",
         6000,
         "ChairCo",
         false,
         6000.0,
         false,
         240000
        ],
        [
         "Appliances",
         "I004",
         "Refrigerator",
         "WarehouseC",
         5,
         10,
         "2024-02-20",
         25000,
         "FreezeIt",
         true,
         25000.0,
         false,
         125000
        ],
        [
         "Electronics",
         "I005",
         "Printer",
         "WarehouseB",
         3,
         5,
         "2024-03-30",
         8000,
         "PrintFast",
         true,
         36000.0,
         true,
         24000
        ],
        [
         "Electronics",
         "I002",
         "Laptop",
         "WarehouseB",
         20,
         15,
         "2024-04-01",
         70000,
         "TechWorld",
         true,
         36000.0,
         false,
         700000
        ]
       ],
       "datasetInfos": [],
       "dbfsResultPath": null,
       "isJsonSchema": true,
       "metadata": {},
       "overflow": false,
       "plotOptions": {
        "customPlotOptions": {},
        "displayType": "table",
        "pivotAggregation": null,
        "pivotColumns": null,
        "xColumns": null,
        "yColumns": null
       },
       "removedWidgets": [],
       "schema": [
        {
         "metadata": "{}",
         "name": "Category",
         "type": "\"string\""
        },
        {
         "metadata": "{}",
         "name": "ItemID",
         "type": "\"string\""
        },
        {
         "metadata": "{}",
         "name": "ItemName",
         "type": "\"string\""
        },
        {
         "metadata": "{}",
         "name": "Warehouse",
         "type": "\"string\""
        },
        {
         "metadata": "{}",
         "name": "StockQty",
         "type": "\"integer\""
        },
        {
         "metadata": "{}",
         "name": "ReorderLevel",
         "type": "\"integer\""
        },
        {
         "metadata": "{\"__detected_date_formats\":\"yyyy-M-d\"}",
         "name": "LastRestocked",
         "type": "\"date\""
        },
        {
         "metadata": "{}",
         "name": "UnitPrice",
         "type": "\"integer\""
        },
        {
         "metadata": "{}",
         "name": "Supplie",
         "type": "\"string\""
        },
        {
         "metadata": "{}",
         "name": "NeedsReorder",
         "type": "\"boolean\""
        },
        {
         "metadata": "{}",
         "name": "AvgCatPrice",
         "type": "\"double\""
        },
        {
         "metadata": "{}",
         "name": "IsBelowAvg",
         "type": "\"boolean\""
        },
        {
         "metadata": "{}",
         "name": "TotalStockValue",
         "type": "\"integer\""
        }
       ],
       "type": "table"
      }
     },
     "output_type": "display_data"
    }
   ],
   "source": [
    "from delta.tables import DeltaTable\n",
    "delta = DeltaTable.forPath(spark, \"/delta/retail_inventory\")\n",
    "\n",
    "delta.update(\"ItemName = 'Laptop'\", {\"StockQty\": \"20\"})\n",
    "display(delta.toDF())"
   ]
  },
  {
   "cell_type": "code",
   "execution_count": 0,
   "metadata": {
    "application/vnd.databricks.v1+cell": {
     "cellMetadata": {
      "byteLimit": 2048000,
      "rowLimit": 10000
     },
     "inputWidgets": {},
     "nuid": "323b98b4-9949-4cec-b7ea-451ee1b27b2b",
     "showTitle": false,
     "tableResultSettingsMap": {},
     "title": ""
    }
   },
   "outputs": [
    {
     "output_type": "display_data",
     "data": {
      "text/html": [
       "<style scoped>\n",
       "  .table-result-container {\n",
       "    max-height: 300px;\n",
       "    overflow: auto;\n",
       "  }\n",
       "  table, th, td {\n",
       "    border: 1px solid black;\n",
       "    border-collapse: collapse;\n",
       "  }\n",
       "  th, td {\n",
       "    padding: 5px;\n",
       "  }\n",
       "  th {\n",
       "    text-align: left;\n",
       "  }\n",
       "</style><div class='table-result-container'><table class='table-result'><thead style='background-color: white'><tr><th>Category</th><th>ItemID</th><th>ItemName</th><th>Warehouse</th><th>StockQty</th><th>ReorderLevel</th><th>LastRestocked</th><th>UnitPrice</th><th>Supplie</th><th>NeedsReorder</th><th>AvgCatPrice</th><th>IsBelowAvg</th><th>TotalStockValue</th></tr></thead><tbody><tr><td>Electronics</td><td>I002</td><td>Laptop</td><td>WarehouseB</td><td>20</td><td>15</td><td>2024-04-01</td><td>70000</td><td>TechWorld</td><td>true</td><td>36000.0</td><td>false</td><td>700000</td></tr><tr><td>Electronics</td><td>I001</td><td>LED TV</td><td>WarehouseA</td><td>50</td><td>20</td><td>2024-03-15</td><td>30000</td><td>AVTech</td><td>false</td><td>36000.0</td><td>true</td><td>1500000</td></tr><tr><td>Furniture</td><td>I003</td><td>Office Chair</td><td>WarehouseA</td><td>40</td><td>10</td><td>2024-03-25</td><td>6000</td><td>ChairCo</td><td>false</td><td>6000.0</td><td>false</td><td>240000</td></tr><tr><td>Appliances</td><td>I004</td><td>Refrigerator</td><td>WarehouseC</td><td>5</td><td>10</td><td>2024-02-20</td><td>25000</td><td>FreezeIt</td><td>true</td><td>25000.0</td><td>false</td><td>125000</td></tr><tr><td>Electronics</td><td>I005</td><td>Printer</td><td>WarehouseB</td><td>3</td><td>5</td><td>2024-03-30</td><td>8000</td><td>PrintFast</td><td>true</td><td>36000.0</td><td>true</td><td>24000</td></tr></tbody></table></div>"
      ]
     },
     "metadata": {
      "application/vnd.databricks.v1+output": {
       "addedWidgets": {},
       "aggData": [],
       "aggError": "",
       "aggOverflow": false,
       "aggSchema": [],
       "aggSeriesLimitReached": false,
       "aggType": "",
       "arguments": {},
       "columnCustomDisplayInfos": {},
       "data": [
        [
         "Electronics",
         "I002",
         "Laptop",
         "WarehouseB",
         20,
         15,
         "2024-04-01",
         70000,
         "TechWorld",
         true,
         36000.0,
         false,
         700000
        ],
        [
         "Electronics",
         "I001",
         "LED TV",
         "WarehouseA",
         50,
         20,
         "2024-03-15",
         30000,
         "AVTech",
         false,
         36000.0,
         true,
         1500000
        ],
        [
         "Furniture",
         "I003",
         "Office Chair",
         "WarehouseA",
         40,
         10,
         "2024-03-25",
         6000,
         "ChairCo",
         false,
         6000.0,
         false,
         240000
        ],
        [
         "Appliances",
         "I004",
         "Refrigerator",
         "WarehouseC",
         5,
         10,
         "2024-02-20",
         25000,
         "FreezeIt",
         true,
         25000.0,
         false,
         125000
        ],
        [
         "Electronics",
         "I005",
         "Printer",
         "WarehouseB",
         3,
         5,
         "2024-03-30",
         8000,
         "PrintFast",
         true,
         36000.0,
         true,
         24000
        ]
       ],
       "datasetInfos": [],
       "dbfsResultPath": null,
       "isJsonSchema": true,
       "metadata": {},
       "overflow": false,
       "plotOptions": {
        "customPlotOptions": {},
        "displayType": "table",
        "pivotAggregation": null,
        "pivotColumns": null,
        "xColumns": null,
        "yColumns": null
       },
       "removedWidgets": [],
       "schema": [
        {
         "metadata": "{}",
         "name": "Category",
         "type": "\"string\""
        },
        {
         "metadata": "{}",
         "name": "ItemID",
         "type": "\"string\""
        },
        {
         "metadata": "{}",
         "name": "ItemName",
         "type": "\"string\""
        },
        {
         "metadata": "{}",
         "name": "Warehouse",
         "type": "\"string\""
        },
        {
         "metadata": "{}",
         "name": "StockQty",
         "type": "\"integer\""
        },
        {
         "metadata": "{}",
         "name": "ReorderLevel",
         "type": "\"integer\""
        },
        {
         "metadata": "{\"__detected_date_formats\":\"yyyy-M-d\"}",
         "name": "LastRestocked",
         "type": "\"date\""
        },
        {
         "metadata": "{}",
         "name": "UnitPrice",
         "type": "\"integer\""
        },
        {
         "metadata": "{}",
         "name": "Supplie",
         "type": "\"string\""
        },
        {
         "metadata": "{}",
         "name": "NeedsReorder",
         "type": "\"boolean\""
        },
        {
         "metadata": "{}",
         "name": "AvgCatPrice",
         "type": "\"double\""
        },
        {
         "metadata": "{}",
         "name": "IsBelowAvg",
         "type": "\"boolean\""
        },
        {
         "metadata": "{}",
         "name": "TotalStockValue",
         "type": "\"integer\""
        }
       ],
       "type": "table"
      }
     },
     "output_type": "display_data"
    }
   ],
   "source": [
    "delta.delete(\"StockQty = 0\")\n",
    "display(delta.toDF())"
   ]
  },
  {
   "cell_type": "code",
   "execution_count": 0,
   "metadata": {
    "application/vnd.databricks.v1+cell": {
     "cellMetadata": {
      "byteLimit": 2048000,
      "rowLimit": 10000
     },
     "inputWidgets": {},
     "nuid": "0b357866-195c-4d3e-af91-1d02fd8dda30",
     "showTitle": false,
     "tableResultSettingsMap": {},
     "title": ""
    }
   },
   "outputs": [
    {
     "output_type": "stream",
     "name": "stdout",
     "output_type": "stream",
     "text": [
      "+-------+-------------------+----------------+--------------------+---------+--------------------+----+------------------+--------------------+-----------+-----------------+-------------+--------------------+------------+--------------------+\n|version|          timestamp|          userId|            userName|operation| operationParameters| job|          notebook|           clusterId|readVersion|   isolationLevel|isBlindAppend|    operationMetrics|userMetadata|          engineInfo|\n+-------+-------------------+----------------+--------------------+---------+--------------------+----+------------------+--------------------+-----------+-----------------+-------------+--------------------+------------+--------------------+\n|      9|2025-06-19 09:43:54|6267232536945943|azuser3559_mml.lo...|   DELETE|{predicate -> [\"(...|NULL|{4060256036899043}|0612-123310-2108yh11|          8|WriteSerializable|        false|{numRemovedFiles ...|        NULL|Databricks-Runtim...|\n|      8|2025-06-19 09:43:49|6267232536945943|azuser3559_mml.lo...|   DELETE|{predicate -> [\"(...|NULL|{4060256036899043}|0612-123310-2108yh11|          7|WriteSerializable|        false|{numRemovedFiles ...|        NULL|Databricks-Runtim...|\n|      7|2025-06-19 09:43:27|6267232536945943|azuser3559_mml.lo...| OPTIMIZE|{predicate -> [],...|NULL|{4060256036899043}|0612-123310-2108yh11|          6|SnapshotIsolation|        false|{numRemovedFiles ...|        NULL|Databricks-Runtim...|\n|      6|2025-06-19 09:43:25|6267232536945943|azuser3559_mml.lo...|   UPDATE|{predicate -> [\"(...|NULL|{4060256036899043}|0612-123310-2108yh11|          5|WriteSerializable|        false|{numRemovedFiles ...|        NULL|Databricks-Runtim...|\n|      5|2025-06-19 09:43:16|6267232536945943|azuser3559_mml.lo...| OPTIMIZE|{predicate -> [],...|NULL|{4060256036899043}|0612-123310-2108yh11|          4|SnapshotIsolation|        false|{numRemovedFiles ...|        NULL|Databricks-Runtim...|\n|      4|2025-06-19 09:43:14|6267232536945943|azuser3559_mml.lo...|   UPDATE|{predicate -> [\"(...|NULL|{4060256036899043}|0612-123310-2108yh11|          3|WriteSerializable|        false|{numRemovedFiles ...|        NULL|Databricks-Runtim...|\n|      3|2025-06-19 09:42:31|6267232536945943|azuser3559_mml.lo...| OPTIMIZE|{predicate -> [],...|NULL|{4060256036899043}|0612-123310-2108yh11|          2|SnapshotIsolation|        false|{numRemovedFiles ...|        NULL|Databricks-Runtim...|\n|      2|2025-06-19 09:42:29|6267232536945943|azuser3559_mml.lo...|   UPDATE|{predicate -> [\"(...|NULL|{4060256036899043}|0612-123310-2108yh11|          1|WriteSerializable|        false|{numRemovedFiles ...|        NULL|Databricks-Runtim...|\n|      1|2025-06-19 09:42:01|6267232536945943|azuser3559_mml.lo...|    WRITE|{mode -> Overwrit...|NULL|{4060256036899043}|0612-123310-2108yh11|          0|WriteSerializable|        false|{numFiles -> 1, n...|        NULL|Databricks-Runtim...|\n|      0|2025-06-19 09:41:51|6267232536945943|azuser3559_mml.lo...|    WRITE|{mode -> Overwrit...|NULL|{4060256036899043}|0612-123310-2108yh11|       NULL|WriteSerializable|        false|{numFiles -> 1, n...|        NULL|Databricks-Runtim...|\n+-------+-------------------+----------------+--------------------+---------+--------------------+----+------------------+--------------------+-----------+-----------------+-------------+--------------------+------------+--------------------+\n\n+-----------+------+------------+----------+--------+------------+-------------+---------+---------+------------+-----------+----------+---------------+\n|   Category|ItemID|    ItemName| Warehouse|StockQty|ReorderLevel|LastRestocked|UnitPrice|  Supplie|NeedsReorder|AvgCatPrice|IsBelowAvg|TotalStockValue|\n+-----------+------+------------+----------+--------+------------+-------------+---------+---------+------------+-----------+----------+---------------+\n|Electronics|  I001|      LED TV|WarehouseA|      50|          20|   2024-03-15|    30000|   AVTech|       false|    36000.0|      true|        1500000|\n|Electronics|  I002|      Laptop|WarehouseB|      10|          15|   2024-04-01|    70000|TechWorld|        true|    36000.0|     false|         700000|\n|  Furniture|  I003|Office Chair|WarehouseA|      40|          10|   2024-03-25|     6000|  ChairCo|       false|     6000.0|     false|         240000|\n| Appliances|  I004|Refrigerator|WarehouseC|       5|          10|   2024-02-20|    25000| FreezeIt|        true|    25000.0|     false|         125000|\n|Electronics|  I005|     Printer|WarehouseB|       3|           5|   2024-03-30|     8000|PrintFast|        true|    36000.0|      true|          24000|\n+-----------+------+------------+----------+--------+------------+-------------+---------+---------+------------+-----------+----------+---------------+\n\n"
     ]
    }
   ],
   "source": [
    "spark.sql(\"DESCRIBE HISTORY retail_inventory\").show()\n",
    "spark.read.format(\"delta\").option(\"versionAsOf\", 0).load(\"/delta/retail_inventory\").show()"
   ]
  },
  {
   "cell_type": "code",
   "execution_count": 0,
   "metadata": {
    "application/vnd.databricks.v1+cell": {
     "cellMetadata": {
      "byteLimit": 2048000,
      "rowLimit": 10000
     },
     "inputWidgets": {},
     "nuid": "54a154c4-195a-487c-a133-30cda5fe5ee6",
     "showTitle": false,
     "tableResultSettingsMap": {},
     "title": ""
    }
   },
   "outputs": [
    {
     "output_type": "stream",
     "name": "stdout",
     "output_type": "stream",
     "text": [
      "+------+-----------+-------------+\n|ItemID|RestockDate|QuantityAdded|\n+------+-----------+-------------+\n|  I002| 2024-04-20|           10|\n|  I005| 2024-04-22|            5|\n|  I001| 2024-04-25|           20|\n+------+-----------+-------------+\n\n"
     ]
    }
   ],
   "source": [
    "df1 = spark.read.format(\"csv\").option(\"header\", \"true\").load(\"dbfs:/FileStore/shared_uploads/azuser3559_mml.local@techademy.com/restock_logs.csv\")\n",
    "df1.show()"
   ]
  },
  {
   "cell_type": "code",
   "execution_count": 0,
   "metadata": {
    "application/vnd.databricks.v1+cell": {
     "cellMetadata": {
      "byteLimit": 2048000,
      "rowLimit": 10000
     },
     "inputWidgets": {},
     "nuid": "21d77e90-65c3-4611-a89a-9993f8d6394c",
     "showTitle": false,
     "tableResultSettingsMap": {},
     "title": ""
    }
   },
   "outputs": [
    {
     "output_type": "stream",
     "name": "stdout",
     "output_type": "stream",
     "text": [
      "+------+-----------+------------+----------+--------+------------+-------------+---------+---------+------------+-----------+----------+---------------+-----------+-------------+\n|ItemID|   Category|    ItemName| Warehouse|StockQty|ReorderLevel|LastRestocked|UnitPrice|  Supplie|NeedsReorder|AvgCatPrice|IsBelowAvg|TotalStockValue|RestockDate|QuantityAdded|\n+------+-----------+------------+----------+--------+------------+-------------+---------+---------+------------+-----------+----------+---------------+-----------+-------------+\n|  I005|Electronics|     Printer|WarehouseB|       3|           5|   2024-03-30|     8000|PrintFast|        true|    36000.0|      true|          24000| 2024-04-22|            5|\n|  I003|  Furniture|Office Chair|WarehouseA|      40|          10|   2024-03-25|     6000|  ChairCo|       false|     6000.0|     false|         240000|       NULL|         NULL|\n|  I004| Appliances|Refrigerator|WarehouseC|       5|          10|   2024-02-20|    25000| FreezeIt|        true|    25000.0|     false|         125000|       NULL|         NULL|\n|  I002|Electronics|      Laptop|WarehouseB|      10|          15|   2024-04-01|    70000|TechWorld|        true|    36000.0|     false|         700000| 2024-04-20|           10|\n|  I001|Electronics|      LED TV|WarehouseA|      50|          20|   2024-03-15|    30000|   AVTech|       false|    36000.0|      true|        1500000| 2024-04-25|           20|\n+------+-----------+------------+----------+--------+------------+-------------+---------+---------+------------+-----------+----------+---------------+-----------+-------------+\n\n"
     ]
    }
   ],
   "source": [
    "df_join = df_TSV.join(df1, \"ItemID\", \"left\")\n",
    "df_join.show()"
   ]
  },
  {
   "cell_type": "code",
   "execution_count": 0,
   "metadata": {
    "application/vnd.databricks.v1+cell": {
     "cellMetadata": {
      "byteLimit": 2048000,
      "rowLimit": 10000
     },
     "inputWidgets": {},
     "nuid": "a90138f1-f3cb-415f-8df0-e067f515d9fb",
     "showTitle": false,
     "tableResultSettingsMap": {},
     "title": ""
    }
   },
   "outputs": [
    {
     "output_type": "stream",
     "name": "stdout",
     "output_type": "stream",
     "text": [
      "+------+-----------+------------+----------+--------+------------+-------------+---------+---------+------------+-----------+----------+---------------+-----------+-------------+------------+-----------------+\n|ItemID|   Category|    ItemName| Warehouse|StockQty|ReorderLevel|LastRestocked|UnitPrice|  Supplie|NeedsReorder|AvgCatPrice|IsBelowAvg|TotalStockValue|RestockDate|QuantityAdded|UpdatedStock|RestockedRecently|\n+------+-----------+------------+----------+--------+------------+-------------+---------+---------+------------+-----------+----------+---------------+-----------+-------------+------------+-----------------+\n|  I005|Electronics|     Printer|WarehouseB|       3|           5|   2024-03-30|     8000|PrintFast|        true|    36000.0|      true|          24000| 2024-04-22|            5|         8.0|             true|\n|  I003|  Furniture|Office Chair|WarehouseA|      40|          10|   2024-03-25|     6000|  ChairCo|       false|     6000.0|     false|         240000|       NULL|         NULL|        40.0|            false|\n|  I004| Appliances|Refrigerator|WarehouseC|       5|          10|   2024-02-20|    25000| FreezeIt|        true|    25000.0|     false|         125000|       NULL|         NULL|         5.0|            false|\n|  I002|Electronics|      Laptop|WarehouseB|      10|          15|   2024-04-01|    70000|TechWorld|        true|    36000.0|     false|         700000| 2024-04-20|           10|        20.0|             true|\n|  I001|Electronics|      LED TV|WarehouseA|      50|          20|   2024-03-15|    30000|   AVTech|       false|    36000.0|      true|        1500000| 2024-04-25|           20|        70.0|             true|\n+------+-----------+------------+----------+--------+------------+-------------+---------+---------+------------+-----------+----------+---------------+-----------+-------------+------------+-----------------+\n\n"
     ]
    }
   ],
   "source": [
    "df_update = df_join.withColumn(\"UpdatedStock\", col(\"StockQty\") + coalesce(col(\"QuantityAdded\"), lit(0))).withColumn(\"RestockedRecently\", col(\"QuantityAdded\").isNotNull())\n",
    "df_update.show()"
   ]
  },
  {
   "cell_type": "code",
   "execution_count": 0,
   "metadata": {
    "application/vnd.databricks.v1+cell": {
     "cellMetadata": {
      "byteLimit": 2048000,
      "rowLimit": 10000
     },
     "inputWidgets": {},
     "nuid": "62a12eaf-ee13-4c0d-952c-a2c47ca8ce64",
     "showTitle": false,
     "tableResultSettingsMap": {},
     "title": ""
    }
   },
   "outputs": [],
   "source": [
    "delta.alias(\"tgt\").merge(df_update.alias(\"src\"),\"tgt.ItemID = src.ItemID\").whenMatchedUpdate(set={\"StockQty\": \"src.UpdatedStock\",\"LastRestocked\": \"src.RestockDate\"}).execute()"
   ]
  },
  {
   "cell_type": "code",
   "execution_count": 0,
   "metadata": {
    "application/vnd.databricks.v1+cell": {
     "cellMetadata": {
      "byteLimit": 2048000,
      "rowLimit": 10000
     },
     "inputWidgets": {},
     "nuid": "00f59889-e435-492e-bbff-925d4cda479d",
     "showTitle": false,
     "tableResultSettingsMap": {},
     "title": ""
    }
   },
   "outputs": [
    {
     "output_type": "display_data",
     "data": {
      "text/html": [
       "<style scoped>\n",
       "  .table-result-container {\n",
       "    max-height: 300px;\n",
       "    overflow: auto;\n",
       "  }\n",
       "  table, th, td {\n",
       "    border: 1px solid black;\n",
       "    border-collapse: collapse;\n",
       "  }\n",
       "  th, td {\n",
       "    padding: 5px;\n",
       "  }\n",
       "  th {\n",
       "    text-align: left;\n",
       "  }\n",
       "</style><div class='table-result-container'><table class='table-result'><thead style='background-color: white'><tr><th>Category</th><th>ItemID</th><th>ItemName</th><th>Warehouse</th><th>StockQty</th><th>ReorderLevel</th><th>LastRestocked</th><th>UnitPrice</th><th>Supplie</th><th>NeedsReorder</th><th>AvgCatPrice</th><th>IsBelowAvg</th><th>TotalStockValue</th></tr></thead><tbody><tr><td>Electronics</td><td>I001</td><td>LED TV</td><td>WarehouseA</td><td>50</td><td>20</td><td>2024-03-15</td><td>30000</td><td>AVTech</td><td>false</td><td>36000.0</td><td>true</td><td>1500000</td></tr><tr><td>Electronics</td><td>I002</td><td>Laptop</td><td>WarehouseB</td><td>10</td><td>15</td><td>2024-04-01</td><td>70000</td><td>TechWorld</td><td>true</td><td>36000.0</td><td>false</td><td>700000</td></tr><tr><td>Furniture</td><td>I003</td><td>Office Chair</td><td>WarehouseA</td><td>40</td><td>10</td><td>2024-03-25</td><td>6000</td><td>ChairCo</td><td>false</td><td>6000.0</td><td>false</td><td>240000</td></tr><tr><td>Appliances</td><td>I004</td><td>Refrigerator</td><td>WarehouseC</td><td>5</td><td>10</td><td>2024-02-20</td><td>25000</td><td>FreezeIt</td><td>true</td><td>25000.0</td><td>false</td><td>125000</td></tr><tr><td>Electronics</td><td>I005</td><td>Printer</td><td>WarehouseB</td><td>3</td><td>5</td><td>2024-03-30</td><td>8000</td><td>PrintFast</td><td>true</td><td>36000.0</td><td>true</td><td>24000</td></tr></tbody></table></div>"
      ]
     },
     "metadata": {
      "application/vnd.databricks.v1+output": {
       "addedWidgets": {},
       "aggData": [],
       "aggError": "",
       "aggOverflow": false,
       "aggSchema": [],
       "aggSeriesLimitReached": false,
       "aggType": "",
       "arguments": {},
       "columnCustomDisplayInfos": {},
       "data": [
        [
         "Electronics",
         "I001",
         "LED TV",
         "WarehouseA",
         50,
         20,
         "2024-03-15",
         30000,
         "AVTech",
         false,
         36000.0,
         true,
         1500000
        ],
        [
         "Electronics",
         "I002",
         "Laptop",
         "WarehouseB",
         10,
         15,
         "2024-04-01",
         70000,
         "TechWorld",
         true,
         36000.0,
         false,
         700000
        ],
        [
         "Furniture",
         "I003",
         "Office Chair",
         "WarehouseA",
         40,
         10,
         "2024-03-25",
         6000,
         "ChairCo",
         false,
         6000.0,
         false,
         240000
        ],
        [
         "Appliances",
         "I004",
         "Refrigerator",
         "WarehouseC",
         5,
         10,
         "2024-02-20",
         25000,
         "FreezeIt",
         true,
         25000.0,
         false,
         125000
        ],
        [
         "Electronics",
         "I005",
         "Printer",
         "WarehouseB",
         3,
         5,
         "2024-03-30",
         8000,
         "PrintFast",
         true,
         36000.0,
         true,
         24000
        ]
       ],
       "datasetInfos": [],
       "dbfsResultPath": null,
       "isJsonSchema": true,
       "metadata": {},
       "overflow": false,
       "plotOptions": {
        "customPlotOptions": {},
        "displayType": "table",
        "pivotAggregation": null,
        "pivotColumns": null,
        "xColumns": null,
        "yColumns": null
       },
       "removedWidgets": [],
       "schema": [
        {
         "metadata": "{}",
         "name": "Category",
         "type": "\"string\""
        },
        {
         "metadata": "{}",
         "name": "ItemID",
         "type": "\"string\""
        },
        {
         "metadata": "{}",
         "name": "ItemName",
         "type": "\"string\""
        },
        {
         "metadata": "{}",
         "name": "Warehouse",
         "type": "\"string\""
        },
        {
         "metadata": "{}",
         "name": "StockQty",
         "type": "\"integer\""
        },
        {
         "metadata": "{}",
         "name": "ReorderLevel",
         "type": "\"integer\""
        },
        {
         "metadata": "{\"__detected_date_formats\":\"yyyy-M-d\"}",
         "name": "LastRestocked",
         "type": "\"date\""
        },
        {
         "metadata": "{}",
         "name": "UnitPrice",
         "type": "\"integer\""
        },
        {
         "metadata": "{}",
         "name": "Supplie",
         "type": "\"string\""
        },
        {
         "metadata": "{}",
         "name": "NeedsReorder",
         "type": "\"boolean\""
        },
        {
         "metadata": "{}",
         "name": "AvgCatPrice",
         "type": "\"double\""
        },
        {
         "metadata": "{}",
         "name": "IsBelowAvg",
         "type": "\"boolean\""
        },
        {
         "metadata": "{}",
         "name": "TotalStockValue",
         "type": "\"integer\""
        }
       ],
       "type": "table"
      }
     },
     "output_type": "display_data"
    }
   ],
   "source": [
    "df_view = df_TSV.withColumn(\"TotalStockValue\", col(\"StockQty\") * col(\"UnitPrice\")).withColumn(\"NeedsReorder\", col(\"StockQty\") < col(\"ReorderLevel\"))\n",
    "\n",
    "df_view.createOrReplaceTempView(\"inventory_summary\")\n",
    "display(spark.sql(\"SELECT * FROM inventory_summary\"))\n"
   ]
  },
  {
   "cell_type": "code",
   "execution_count": 0,
   "metadata": {
    "application/vnd.databricks.v1+cell": {
     "cellMetadata": {
      "byteLimit": 2048000,
      "rowLimit": 10000
     },
     "inputWidgets": {},
     "nuid": "ac633368-26fd-4a2e-9ec1-87c0e5e52909",
     "showTitle": false,
     "tableResultSettingsMap": {},
     "title": ""
    }
   },
   "outputs": [
    {
     "output_type": "display_data",
     "data": {
      "text/html": [
       "<style scoped>\n",
       "  .table-result-container {\n",
       "    max-height: 300px;\n",
       "    overflow: auto;\n",
       "  }\n",
       "  table, th, td {\n",
       "    border: 1px solid black;\n",
       "    border-collapse: collapse;\n",
       "  }\n",
       "  th, td {\n",
       "    padding: 5px;\n",
       "  }\n",
       "  th {\n",
       "    text-align: left;\n",
       "  }\n",
       "</style><div class='table-result-container'><table class='table-result'><thead style='background-color: white'><tr><th>Supplie</th><th>AvgPrice</th></tr></thead><tbody><tr><td>ChairCo</td><td>6000.0</td></tr><tr><td>PrintFast</td><td>8000.0</td></tr><tr><td>FreezeIt</td><td>25000.0</td></tr><tr><td>AVTech</td><td>30000.0</td></tr><tr><td>TechWorld</td><td>70000.0</td></tr></tbody></table></div>"
      ]
     },
     "metadata": {
      "application/vnd.databricks.v1+output": {
       "addedWidgets": {},
       "aggData": [],
       "aggError": "",
       "aggOverflow": false,
       "aggSchema": [],
       "aggSeriesLimitReached": false,
       "aggType": "",
       "arguments": {},
       "columnCustomDisplayInfos": {},
       "data": [
        [
         "ChairCo",
         6000.0
        ],
        [
         "PrintFast",
         8000.0
        ],
        [
         "FreezeIt",
         25000.0
        ],
        [
         "AVTech",
         30000.0
        ],
        [
         "TechWorld",
         70000.0
        ]
       ],
       "datasetInfos": [],
       "dbfsResultPath": null,
       "isJsonSchema": true,
       "metadata": {},
       "overflow": false,
       "plotOptions": {
        "customPlotOptions": {},
        "displayType": "table",
        "pivotAggregation": null,
        "pivotColumns": null,
        "xColumns": null,
        "yColumns": null
       },
       "removedWidgets": [],
       "schema": [
        {
         "metadata": "{}",
         "name": "Supplie",
         "type": "\"string\""
        },
        {
         "metadata": "{}",
         "name": "AvgPrice",
         "type": "\"double\""
        }
       ],
       "type": "table"
      }
     },
     "output_type": "display_data"
    }
   ],
   "source": [
    "spark.sql(\"\"\"\n",
    "    CREATE OR REPLACE TEMP VIEW supplier_leaderboard AS\n",
    "    SELECT Supplie, AVG(UnitPrice) as AvgPrice\n",
    "    FROM inventory_summary\n",
    "    GROUP BY Supplie\n",
    "    ORDER BY AvgPrice ASC\n",
    "\"\"\")\n",
    "display(spark.sql(\"SELECT * FROM supplier_leaderboard\"))"
   ]
  },
  {
   "cell_type": "code",
   "execution_count": 0,
   "metadata": {
    "application/vnd.databricks.v1+cell": {
     "cellMetadata": {
      "byteLimit": 2048000,
      "rowLimit": 10000
     },
     "inputWidgets": {},
     "nuid": "9eed57d4-55d3-4825-8e13-3c21667cfc52",
     "showTitle": false,
     "tableResultSettingsMap": {},
     "title": ""
    }
   },
   "outputs": [
    {
     "output_type": "stream",
     "name": "stdout",
     "output_type": "stream",
     "text": [
      "+-----------+------+------------+----------+--------+------------+-------------+---------+---------+------------+-----------+----------+---------------+-------------+\n|   Category|ItemID|    ItemName| Warehouse|StockQty|ReorderLevel|LastRestocked|UnitPrice|  Supplie|NeedsReorder|AvgCatPrice|IsBelowAvg|TotalStockValue|StockCategory|\n+-----------+------+------------+----------+--------+------------+-------------+---------+---------+------------+-----------+----------+---------------+-------------+\n|Electronics|  I001|      LED TV|WarehouseA|      50|          20|   2024-03-15|    30000|   AVTech|       false|    36000.0|      true|        1500000|  Overstocked|\n|Electronics|  I002|      Laptop|WarehouseB|      10|          15|   2024-04-01|    70000|TechWorld|        true|    36000.0|     false|         700000|     LowStock|\n|  Furniture|  I003|Office Chair|WarehouseA|      40|          10|   2024-03-25|     6000|  ChairCo|       false|     6000.0|     false|         240000|  Overstocked|\n| Appliances|  I004|Refrigerator|WarehouseC|       5|          10|   2024-02-20|    25000| FreezeIt|        true|    25000.0|     false|         125000|     LowStock|\n|Electronics|  I005|     Printer|WarehouseB|       3|           5|   2024-03-30|     8000|PrintFast|        true|    36000.0|      true|          24000|     LowStock|\n+-----------+------+------------+----------+--------+------------+-------------+---------+---------+------------+-----------+----------+---------------+-------------+\n\n"
     ]
    }
   ],
   "source": [
    "df_WO = df_TSV.withColumn(\"StockCategory\", when(col(\"StockQty\") > 2 * col(\"ReorderLevel\"), \"Overstocked\").when(col(\"StockQty\") < col(\"ReorderLevel\"), \"LowStock\").otherwise(\"Optimal\"))\n",
    "\n",
    "df_WO.show()"
   ]
  },
  {
   "cell_type": "code",
   "execution_count": 0,
   "metadata": {
    "application/vnd.databricks.v1+cell": {
     "cellMetadata": {
      "byteLimit": 2048000,
      "rowLimit": 10000
     },
     "inputWidgets": {},
     "nuid": "822f975c-5b3f-4c88-b130-ad575af49f03",
     "showTitle": false,
     "tableResultSettingsMap": {},
     "title": ""
    }
   },
   "outputs": [
    {
     "output_type": "stream",
     "name": "stdout",
     "output_type": "stream",
     "text": [
      "+-----------+------+------------+----------+--------+------------+-------------+---------+---------+------------+-----------+----------+---------------+-------------+\n|   Category|ItemID|    ItemName| Warehouse|StockQty|ReorderLevel|LastRestocked|UnitPrice|  Supplie|NeedsReorder|AvgCatPrice|IsBelowAvg|TotalStockValue|StockCategory|\n+-----------+------+------------+----------+--------+------------+-------------+---------+---------+------------+-----------+----------+---------------+-------------+\n|Electronics|  I002|      Laptop|WarehouseB|      10|          15|   2024-04-01|    70000|TechWorld|        true|    36000.0|     false|         700000|     LowStock|\n| Appliances|  I004|Refrigerator|WarehouseC|       5|          10|   2024-02-20|    25000| FreezeIt|        true|    25000.0|     false|         125000|     LowStock|\n|Electronics|  I005|     Printer|WarehouseB|       3|           5|   2024-03-30|     8000|PrintFast|        true|    36000.0|      true|          24000|     LowStock|\n+-----------+------+------------+----------+--------+------------+-------------+---------+---------+------------+-----------+----------+---------------+-------------+\n\n"
     ]
    }
   ],
   "source": [
    "df_WO.filter(col(\"StockCategory\") == \"LowStock\").show()"
   ]
  },
  {
   "cell_type": "code",
   "execution_count": 0,
   "metadata": {
    "application/vnd.databricks.v1+cell": {
     "cellMetadata": {
      "byteLimit": 2048000,
      "rowLimit": 10000
     },
     "inputWidgets": {},
     "nuid": "b75508ba-d067-4fe0-999a-030c4ae5f67a",
     "showTitle": false,
     "tableResultSettingsMap": {},
     "title": ""
    }
   },
   "outputs": [
    {
     "output_type": "stream",
     "name": "stdout",
     "output_type": "stream",
     "text": [
      "+-----------+------+------------+----------+--------+------------+-------------+---------+---------+------------+-----------+----------+---------------+-------------+\n|   Category|ItemID|    ItemName| Warehouse|StockQty|ReorderLevel|LastRestocked|UnitPrice|  Supplie|NeedsReorder|AvgCatPrice|IsBelowAvg|TotalStockValue|StockCategory|\n+-----------+------+------------+----------+--------+------------+-------------+---------+---------+------------+-----------+----------+---------------+-------------+\n|Electronics|  I002|      Laptop|WarehouseB|      10|          15|   2024-04-01|    70000|TechWorld|        true|    36000.0|     false|         700000|     LowStock|\n| Appliances|  I004|Refrigerator|WarehouseC|       5|          10|   2024-02-20|    25000| FreezeIt|        true|    25000.0|     false|         125000|     LowStock|\n|Electronics|  I005|     Printer|WarehouseB|       3|           5|   2024-03-30|     8000|PrintFast|        true|    36000.0|      true|          24000|     LowStock|\n+-----------+------+------------+----------+--------+------------+-------------+---------+---------+------------+-----------+----------+---------------+-------------+\n\n"
     ]
    }
   ],
   "source": [
    "df_WO.where(\"StockCategory = 'LowStock'\").show()\n"
   ]
  },
  {
   "cell_type": "code",
   "execution_count": 0,
   "metadata": {
    "application/vnd.databricks.v1+cell": {
     "cellMetadata": {
      "byteLimit": 2048000,
      "rowLimit": 10000
     },
     "inputWidgets": {},
     "nuid": "2d5a8f8b-b976-4eb7-b73b-0b0bafb74a5c",
     "showTitle": false,
     "tableResultSettingsMap": {},
     "title": ""
    }
   },
   "outputs": [
    {
     "output_type": "stream",
     "name": "stdout",
     "output_type": "stream",
     "text": [
      "+-----------+------+------------+----------+--------+------------+-------------+---------+---------+------------+-----------+----------+---------------+------------+\n|   Category|ItemID|    ItemName| Warehouse|StockQty|ReorderLevel|LastRestocked|UnitPrice|  Supplie|NeedsReorder|AvgCatPrice|IsBelowAvg|TotalStockValue|RestockMonth|\n+-----------+------+------------+----------+--------+------------+-------------+---------+---------+------------+-----------+----------+---------------+------------+\n|Electronics|  I001|      LED TV|WarehouseA|      50|          20|   2024-03-15|    30000|   AVTech|       false|    36000.0|      true|        1500000|           3|\n|Electronics|  I002|      Laptop|WarehouseB|      10|          15|   2024-04-01|    70000|TechWorld|        true|    36000.0|     false|         700000|           4|\n|  Furniture|  I003|Office Chair|WarehouseA|      40|          10|   2024-03-25|     6000|  ChairCo|       false|     6000.0|     false|         240000|           3|\n| Appliances|  I004|Refrigerator|WarehouseC|       5|          10|   2024-02-20|    25000| FreezeIt|        true|    25000.0|     false|         125000|           2|\n|Electronics|  I005|     Printer|WarehouseB|       3|           5|   2024-03-30|     8000|PrintFast|        true|    36000.0|      true|          24000|           3|\n+-----------+------+------------+----------+--------+------------+-------------+---------+---------+------------+-----------+----------+---------------+------------+\n\n"
     ]
    }
   ],
   "source": [
    "\n",
    "df_RS = df_TSV.withColumn(\"RestockMonth\", month(\"LastRestocked\"))\n",
    "df_RS.show()"
   ]
  },
  {
   "cell_type": "code",
   "execution_count": 0,
   "metadata": {
    "application/vnd.databricks.v1+cell": {
     "cellMetadata": {
      "byteLimit": 2048000,
      "rowLimit": 10000
     },
     "inputWidgets": {},
     "nuid": "c7257ebc-c138-4a4b-8bc8-c49d31bf7f6e",
     "showTitle": false,
     "tableResultSettingsMap": {},
     "title": ""
    }
   },
   "outputs": [
    {
     "output_type": "stream",
     "name": "stdout",
     "output_type": "stream",
     "text": [
      "+-----------+------+------------+----------+--------+------------+-------------+---------+---------+------------+-----------+----------+---------------+------------+--------+\n|   Category|ItemID|    ItemName| Warehouse|StockQty|ReorderLevel|LastRestocked|UnitPrice|  Supplie|NeedsReorder|AvgCatPrice|IsBelowAvg|TotalStockValue|RestockMonth|StockAge|\n+-----------+------+------------+----------+--------+------------+-------------+---------+---------+------------+-----------+----------+---------------+------------+--------+\n|Electronics|  I001|      LED TV|WarehouseA|      50|          20|   2024-03-15|    30000|   AVTech|       false|    36000.0|      true|        1500000|           3|     461|\n|Electronics|  I002|      Laptop|WarehouseB|      10|          15|   2024-04-01|    70000|TechWorld|        true|    36000.0|     false|         700000|           4|     444|\n|  Furniture|  I003|Office Chair|WarehouseA|      40|          10|   2024-03-25|     6000|  ChairCo|       false|     6000.0|     false|         240000|           3|     451|\n| Appliances|  I004|Refrigerator|WarehouseC|       5|          10|   2024-02-20|    25000| FreezeIt|        true|    25000.0|     false|         125000|           2|     485|\n|Electronics|  I005|     Printer|WarehouseB|       3|           5|   2024-03-30|     8000|PrintFast|        true|    36000.0|      true|          24000|           3|     446|\n+-----------+------+------------+----------+--------+------------+-------------+---------+---------+------------+-----------+----------+---------------+------------+--------+\n\n"
     ]
    }
   ],
   "source": [
    "df_SA = df_RS.withColumn(\"StockAge\", datediff(current_date(), col(\"LastRestocked\")))\n",
    "df_SA.show()"
   ]
  },
  {
   "cell_type": "code",
   "execution_count": 0,
   "metadata": {
    "application/vnd.databricks.v1+cell": {
     "cellMetadata": {
      "byteLimit": 2048000,
      "rowLimit": 10000
     },
     "inputWidgets": {},
     "nuid": "8b103535-226e-4039-9037-37bb8a9fa2aa",
     "showTitle": false,
     "tableResultSettingsMap": {},
     "title": ""
    }
   },
   "outputs": [
    {
     "output_type": "stream",
     "name": "stdout",
     "output_type": "stream",
     "text": [
      "+-----------+------+------------+----------+--------+------------+-------------+---------+---------+------------+-----------+----------+---------------+------------+--------+--------------+\n|   Category|ItemID|    ItemName| Warehouse|StockQty|ReorderLevel|LastRestocked|UnitPrice|  Supplie|NeedsReorder|AvgCatPrice|IsBelowAvg|TotalStockValue|RestockMonth|StockAge|StockAgeBucket|\n+-----------+------+------------+----------+--------+------------+-------------+---------+---------+------------+-----------+----------+---------------+------------+--------+--------------+\n|Electronics|  I001|      LED TV|WarehouseA|      50|          20|   2024-03-15|    30000|   AVTech|       false|    36000.0|      true|        1500000|           3|     461|         Stale|\n|Electronics|  I002|      Laptop|WarehouseB|      10|          15|   2024-04-01|    70000|TechWorld|        true|    36000.0|     false|         700000|           4|     444|         Stale|\n|  Furniture|  I003|Office Chair|WarehouseA|      40|          10|   2024-03-25|     6000|  ChairCo|       false|     6000.0|     false|         240000|           3|     451|         Stale|\n| Appliances|  I004|Refrigerator|WarehouseC|       5|          10|   2024-02-20|    25000| FreezeIt|        true|    25000.0|     false|         125000|           2|     485|         Stale|\n|Electronics|  I005|     Printer|WarehouseB|       3|           5|   2024-03-30|     8000|PrintFast|        true|    36000.0|      true|          24000|           3|     446|         Stale|\n+-----------+------+------------+----------+--------+------------+-------------+---------+---------+------------+-----------+----------+---------------+------------+--------+--------------+\n\n"
     ]
    }
   ],
   "source": [
    "df_SAB = df_SA.withColumn(\"StockAgeBucket\", when(col(\"StockAge\") <= 30, \"New\").when(col(\"StockAge\") <= 90, \"Moderate\").otherwise(\"Stale\"))\n",
    "df_SAB.show()"
   ]
  },
  {
   "cell_type": "code",
   "execution_count": 0,
   "metadata": {
    "application/vnd.databricks.v1+cell": {
     "cellMetadata": {
      "byteLimit": 2048000,
      "rowLimit": 10000
     },
     "inputWidgets": {},
     "nuid": "9e9860d8-43e4-4ca7-bb4b-9d606a679714",
     "showTitle": false,
     "tableResultSettingsMap": {},
     "title": ""
    }
   },
   "outputs": [],
   "source": [
    "df_SAB.write.mode(\"overwrite\").option(\"header\", True).csv(\"/export/inventory/csv_output\")\n"
   ]
  },
  {
   "cell_type": "code",
   "execution_count": 0,
   "metadata": {
    "application/vnd.databricks.v1+cell": {
     "cellMetadata": {
      "byteLimit": 2048000,
      "rowLimit": 10000
     },
     "inputWidgets": {},
     "nuid": "b82a2682-8524-4d94-b540-8f1373a766d7",
     "showTitle": false,
     "tableResultSettingsMap": {},
     "title": ""
    }
   },
   "outputs": [],
   "source": [
    "df_SAB.write.mode(\"overwrite\").json(\"/export/inventory/json_output\")"
   ]
  },
  {
   "cell_type": "code",
   "execution_count": 0,
   "metadata": {
    "application/vnd.databricks.v1+cell": {
     "cellMetadata": {
      "byteLimit": 2048000,
      "rowLimit": 10000
     },
     "inputWidgets": {},
     "nuid": "3ff253bd-8423-4a75-8f51-9ac7caa543fe",
     "showTitle": false,
     "tableResultSettingsMap": {},
     "title": ""
    }
   },
   "outputs": [],
   "source": [
    "df_SAB.write.format(\"delta\").mode(\"overwrite\").save(\"/export/inventory/delta_output\")"
   ]
  },
  {
   "cell_type": "code",
   "execution_count": 0,
   "metadata": {
    "application/vnd.databricks.v1+cell": {
     "cellMetadata": {
      "byteLimit": 2048000,
      "rowLimit": 10000
     },
     "inputWidgets": {},
     "nuid": "b2cd1d4b-6d3a-4bcf-a77a-6a0715bc036c",
     "showTitle": false,
     "tableResultSettingsMap": {},
     "title": ""
    }
   },
   "outputs": [],
   "source": [
    "df_SAB.filter(\"StockAgeBucket = 'Stale'\").write.mode(\"overwrite\").option(\"header\", True).csv(\"/export/inventory/stale_items/\")"
   ]
  },
  {
   "cell_type": "code",
   "execution_count": 0,
   "metadata": {
    "application/vnd.databricks.v1+cell": {
     "cellMetadata": {},
     "inputWidgets": {},
     "nuid": "d2a1bbf3-f55e-4354-b845-8b027859b86f",
     "showTitle": false,
     "tableResultSettingsMap": {},
     "title": ""
    }
   },
   "outputs": [],
   "source": []
  }
 ],
 "metadata": {
  "application/vnd.databricks.v1+notebook": {
   "computePreferences": null,
   "dashboards": [],
   "environmentMetadata": {
    "base_environment": "",
    "environment_version": "2"
   },
   "inputWidgetPreferences": null,
   "language": "python",
   "notebookMetadata": {
    "pythonIndentUnit": 4
   },
   "notebookName": "SET 3",
   "widgets": {}
  },
  "language_info": {
   "name": "python"
  }
 },
 "nbformat": 4,
 "nbformat_minor": 0
}